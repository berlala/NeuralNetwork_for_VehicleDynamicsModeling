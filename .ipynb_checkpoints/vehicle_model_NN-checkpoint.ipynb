{
 "cells": [
  {
   "cell_type": "code",
   "execution_count": 1,
   "id": "fbc6b7a2",
   "metadata": {},
   "outputs": [],
   "source": [
    "import numpy as np\n",
    "import sys\n",
    "import random\n",
    "\n",
    "# custom modules\n",
    "import helper_funcs_NN\n",
    "import src\n",
    "import visualization\n",
    "\n",
    "from tensorflow import keras\n",
    "from tqdm import tqdm\n",
    "import os.path\n"
   ]
  },
  {
   "cell_type": "code",
   "execution_count": 2,
   "id": "725d8ae9",
   "metadata": {},
   "outputs": [],
   "source": [
    "random.seed(7)\n",
    "np.random.seed(7)"
   ]
  },
  {
   "cell_type": "code",
   "execution_count": 3,
   "id": "83ccb5f8",
   "metadata": {},
   "outputs": [],
   "source": [
    "path_dict = helper_funcs_NN.src.manage_paths.manage_paths()\n",
    "\n",
    "# helper_funcs_NN.src.manage_paths.manage_paths() 获取所有路径\n",
    "# data_to_train  path2inputs_trainingdata是训练集文件夹\n",
    "# keras_model_recurrent.h5\n"
   ]
  },
  {
   "cell_type": "code",
   "execution_count": 4,
   "id": "f032b1a7",
   "metadata": {},
   "outputs": [],
   "source": [
    "params_dict = helper_funcs_NN.src.handle_params.handle_params(path_dict=path_dict)\n",
    "# parameters.toml is the configuration "
   ]
  },
  {
   "cell_type": "code",
   "execution_count": 5,
   "id": "9023564b",
   "metadata": {},
   "outputs": [
    {
     "name": "stdout",
     "output_type": "stream",
     "text": [
      "SAVE SETTINGS\n",
      "LOAD AND SCALE DATA\n",
      "LOADING DATA DONE\n",
      "USE STANDARD SCALER\n",
      "CREATE NEW MODEL\n",
      "CREATE RECURRENT NEURAL NETWORK\n"
     ]
    },
    {
     "name": "stderr",
     "output_type": "stream",
     "text": [
      "2024-04-16 14:51:57.200317: I tensorflow/stream_executor/platform/default/dso_loader.cc:44] Successfully opened dynamic library libcuda.so.1\n",
      "2024-04-16 14:51:57.222661: I tensorflow/stream_executor/cuda/cuda_gpu_executor.cc:981] successful NUMA node read from SysFS had negative value (-1), but there must be at least one NUMA node, so returning NUMA node zero\n",
      "2024-04-16 14:51:57.222756: I tensorflow/core/common_runtime/gpu/gpu_device.cc:1561] Found device 0 with properties: \n",
      "pciBusID: 0000:01:00.0 name: NVIDIA GeForce RTX 3080 Laptop GPU computeCapability: 8.6\n",
      "coreClock: 1.545GHz coreCount: 48 deviceMemorySize: 15.74GiB deviceMemoryBandwidth: 417.29GiB/s\n",
      "2024-04-16 14:51:57.222875: W tensorflow/stream_executor/platform/default/dso_loader.cc:55] Could not load dynamic library 'libcudart.so.10.1'; dlerror: libcudart.so.10.1: cannot open shared object file: No such file or directory\n",
      "2024-04-16 14:51:57.222904: W tensorflow/stream_executor/platform/default/dso_loader.cc:55] Could not load dynamic library 'libcublas.so.10'; dlerror: libcublas.so.10: cannot open shared object file: No such file or directory\n",
      "2024-04-16 14:51:57.222928: W tensorflow/stream_executor/platform/default/dso_loader.cc:55] Could not load dynamic library 'libcufft.so.10'; dlerror: libcufft.so.10: cannot open shared object file: No such file or directory\n",
      "2024-04-16 14:51:57.222955: W tensorflow/stream_executor/platform/default/dso_loader.cc:55] Could not load dynamic library 'libcurand.so.10'; dlerror: libcurand.so.10: cannot open shared object file: No such file or directory\n",
      "2024-04-16 14:51:57.222980: W tensorflow/stream_executor/platform/default/dso_loader.cc:55] Could not load dynamic library 'libcusolver.so.10'; dlerror: libcusolver.so.10: cannot open shared object file: No such file or directory\n",
      "2024-04-16 14:51:57.223004: W tensorflow/stream_executor/platform/default/dso_loader.cc:55] Could not load dynamic library 'libcusparse.so.10'; dlerror: libcusparse.so.10: cannot open shared object file: No such file or directory\n",
      "2024-04-16 14:51:57.223030: W tensorflow/stream_executor/platform/default/dso_loader.cc:55] Could not load dynamic library 'libcudnn.so.7'; dlerror: libcudnn.so.7: cannot open shared object file: No such file or directory\n",
      "2024-04-16 14:51:57.223034: W tensorflow/core/common_runtime/gpu/gpu_device.cc:1598] Cannot dlopen some GPU libraries. Please make sure the missing libraries mentioned above are installed properly if you would like to use GPU. Follow the guide at https://www.tensorflow.org/install/gpu for how to download and setup the required libraries for your platform.\n",
      "Skipping registering GPU devices...\n",
      "2024-04-16 14:51:57.223416: I tensorflow/core/platform/cpu_feature_guard.cc:143] Your CPU supports instructions that this TensorFlow binary was not compiled to use: AVX2 AVX512F FMA\n",
      "2024-04-16 14:51:57.244065: I tensorflow/core/platform/profile_utils/cpu_utils.cc:102] CPU Frequency: 2304000000 Hz\n",
      "2024-04-16 14:51:57.245017: I tensorflow/compiler/xla/service/service.cc:168] XLA service 0x7f0674000b60 initialized for platform Host (this does not guarantee that XLA will be used). Devices:\n",
      "2024-04-16 14:51:57.245029: I tensorflow/compiler/xla/service/service.cc:176]   StreamExecutor device (0): Host, Default Version\n",
      "2024-04-16 14:51:57.245765: I tensorflow/core/common_runtime/gpu/gpu_device.cc:1102] Device interconnect StreamExecutor with strength 1 edge matrix:\n",
      "2024-04-16 14:51:57.245774: I tensorflow/core/common_runtime/gpu/gpu_device.cc:1108]      \n"
     ]
    },
    {
     "name": "stdout",
     "output_type": "stream",
     "text": [
      "Model: \"sequential\"\n",
      "_________________________________________________________________\n",
      "Layer (type)                 Output Shape              Param #   \n",
      "=================================================================\n",
      "simple_rnn (SimpleRNN)       (None, 150)               23250     \n",
      "_________________________________________________________________\n",
      "dense (Dense)                (None, 150)               22650     \n",
      "_________________________________________________________________\n",
      "dense_1 (Dense)              (None, 2)                 302       \n",
      "=================================================================\n",
      "Total params: 46,202\n",
      "Trainable params: 46,202\n",
      "Non-trainable params: 0\n",
      "_________________________________________________________________\n",
      "Epoch 1/800\n",
      "100/101 [============================>.] - ETA: 0s - loss: 0.6633 - mean_absolute_error: 0.1525 - mean_squared_error: 0.0947\n",
      "Epoch 00001: val_mean_squared_error improved from inf to 0.02953, saving model to /home/bolin/Projects/NeuralNetwork_for_VehicleDynamicsModeling/outputs/2024_04_16/14_51_54/keras_model_recurrent.h5\n",
      "101/101 [==============================] - 1s 7ms/step - loss: 0.6628 - mean_absolute_error: 0.1521 - mean_squared_error: 0.0943 - val_loss: 0.5831 - val_mean_absolute_error: 0.1097 - val_mean_squared_error: 0.0295 - lr: 4.0000e-04\n",
      "Epoch 2/800\n",
      "100/101 [============================>.] - ETA: 0s - loss: 0.5586 - mean_absolute_error: 0.0860 - mean_squared_error: 0.0206\n",
      "Epoch 00002: val_mean_squared_error improved from 0.02953 to 0.01383, saving model to /home/bolin/Projects/NeuralNetwork_for_VehicleDynamicsModeling/outputs/2024_04_16/14_51_54/keras_model_recurrent.h5\n",
      "101/101 [==============================] - 1s 5ms/step - loss: 0.5584 - mean_absolute_error: 0.0861 - mean_squared_error: 0.0206 - val_loss: 0.5355 - val_mean_absolute_error: 0.0810 - val_mean_squared_error: 0.0138 - lr: 4.0000e-04\n",
      "Epoch 3/800\n",
      " 99/101 [============================>.] - ETA: 0s - loss: 0.5174 - mean_absolute_error: 0.0657 - mean_squared_error: 0.0111\n",
      "Epoch 00003: val_mean_squared_error improved from 0.01383 to 0.00873, saving model to /home/bolin/Projects/NeuralNetwork_for_VehicleDynamicsModeling/outputs/2024_04_16/14_51_54/keras_model_recurrent.h5\n",
      "101/101 [==============================] - 1s 5ms/step - loss: 0.5171 - mean_absolute_error: 0.0660 - mean_squared_error: 0.0111 - val_loss: 0.4987 - val_mean_absolute_error: 0.0706 - val_mean_squared_error: 0.0087 - lr: 4.0000e-04\n",
      "Epoch 4/800\n",
      "101/101 [==============================] - ETA: 0s - loss: 0.4820 - mean_absolute_error: 0.0604 - mean_squared_error: 0.0075\n",
      "Epoch 00004: val_mean_squared_error improved from 0.00873 to 0.00599, saving model to /home/bolin/Projects/NeuralNetwork_for_VehicleDynamicsModeling/outputs/2024_04_16/14_51_54/keras_model_recurrent.h5\n",
      "101/101 [==============================] - 1s 5ms/step - loss: 0.4820 - mean_absolute_error: 0.0604 - mean_squared_error: 0.0075 - val_loss: 0.4649 - val_mean_absolute_error: 0.0585 - val_mean_squared_error: 0.0060 - lr: 4.0000e-04\n",
      "Epoch 5/800\n",
      " 91/101 [==========================>...] - ETA: 0s - loss: 0.4527 - mean_absolute_error: 0.0541 - mean_squared_error: 0.0071\n",
      "Epoch 00005: val_mean_squared_error improved from 0.00599 to 0.00317, saving model to /home/bolin/Projects/NeuralNetwork_for_VehicleDynamicsModeling/outputs/2024_04_16/14_51_54/keras_model_recurrent.h5\n",
      "101/101 [==============================] - 1s 5ms/step - loss: 0.4509 - mean_absolute_error: 0.0521 - mean_squared_error: 0.0067 - val_loss: 0.4324 - val_mean_absolute_error: 0.0361 - val_mean_squared_error: 0.0032 - lr: 4.0000e-04\n",
      "Epoch 6/800\n",
      " 91/101 [==========================>...] - ETA: 0s - loss: 0.4252 - mean_absolute_error: 0.0662 - mean_squared_error: 0.0087\n",
      "Epoch 00006: val_mean_squared_error improved from 0.00317 to 0.00221, saving model to /home/bolin/Projects/NeuralNetwork_for_VehicleDynamicsModeling/outputs/2024_04_16/14_51_54/keras_model_recurrent.h5\n",
      "101/101 [==============================] - 1s 5ms/step - loss: 0.4232 - mean_absolute_error: 0.0629 - mean_squared_error: 0.0081 - val_loss: 0.4032 - val_mean_absolute_error: 0.0280 - val_mean_squared_error: 0.0022 - lr: 4.0000e-04\n",
      "Epoch 7/800\n",
      " 90/101 [=========================>....] - ETA: 0s - loss: 0.3924 - mean_absolute_error: 0.0416 - mean_squared_error: 0.0034\n",
      "Epoch 00007: val_mean_squared_error did not improve from 0.00221\n",
      "101/101 [==============================] - 1s 5ms/step - loss: 0.3915 - mean_absolute_error: 0.0451 - mean_squared_error: 0.0040 - val_loss: 0.3815 - val_mean_absolute_error: 0.0675 - val_mean_squared_error: 0.0075 - lr: 4.0000e-04\n",
      "Epoch 8/800\n",
      " 97/101 [===========================>..] - ETA: 0s - loss: 0.3676 - mean_absolute_error: 0.0531 - mean_squared_error: 0.0058\n",
      "Epoch 00008: val_mean_squared_error did not improve from 0.00221\n",
      "101/101 [==============================] - 1s 6ms/step - loss: 0.3672 - mean_absolute_error: 0.0538 - mean_squared_error: 0.0059 - val_loss: 0.3569 - val_mean_absolute_error: 0.0790 - val_mean_squared_error: 0.0083 - lr: 4.0000e-04\n",
      "Epoch 9/800\n",
      " 97/101 [===========================>..] - ETA: 0s - loss: 0.3413 - mean_absolute_error: 0.0428 - mean_squared_error: 0.0042\n",
      "Epoch 00009: val_mean_squared_error did not improve from 0.00221\n",
      "101/101 [==============================] - 1s 6ms/step - loss: 0.3414 - mean_absolute_error: 0.0452 - mean_squared_error: 0.0048 - val_loss: 0.3388 - val_mean_absolute_error: 0.0933 - val_mean_squared_error: 0.0142 - lr: 4.0000e-04\n",
      "Epoch 10/800\n",
      " 99/101 [============================>.] - ETA: 0s - loss: 0.3169 - mean_absolute_error: 0.0419 - mean_squared_error: 0.0033\n",
      "Epoch 00010: val_mean_squared_error improved from 0.00221 to 0.00219, saving model to /home/bolin/Projects/NeuralNetwork_for_VehicleDynamicsModeling/outputs/2024_04_16/14_51_54/keras_model_recurrent.h5\n",
      "101/101 [==============================] - 1s 6ms/step - loss: 0.3167 - mean_absolute_error: 0.0418 - mean_squared_error: 0.0032 - val_loss: 0.3043 - val_mean_absolute_error: 0.0341 - val_mean_squared_error: 0.0022 - lr: 4.0000e-04\n",
      "Epoch 11/800\n",
      "101/101 [==============================] - ETA: 0s - loss: 0.2968 - mean_absolute_error: 0.0515 - mean_squared_error: 0.0053\n",
      "Epoch 00011: val_mean_squared_error did not improve from 0.00219\n",
      "101/101 [==============================] - 1s 5ms/step - loss: 0.2968 - mean_absolute_error: 0.0515 - mean_squared_error: 0.0053 - val_loss: 0.2832 - val_mean_absolute_error: 0.0361 - val_mean_squared_error: 0.0023 - lr: 4.0000e-04\n",
      "Epoch 12/800\n",
      "100/101 [============================>.] - ETA: 0s - loss: 0.2727 - mean_absolute_error: 0.0284 - mean_squared_error: 0.0017\n",
      "Epoch 00012: val_mean_squared_error did not improve from 0.00219\n",
      "101/101 [==============================] - 1s 5ms/step - loss: 0.2727 - mean_absolute_error: 0.0288 - mean_squared_error: 0.0018 - val_loss: 0.2687 - val_mean_absolute_error: 0.0768 - val_mean_squared_error: 0.0078 - lr: 4.0000e-04\n",
      "Epoch 13/800\n",
      " 99/101 [============================>.] - ETA: 0s - loss: 0.2578 - mean_absolute_error: 0.0579 - mean_squared_error: 0.0060\n",
      "Epoch 00013: val_mean_squared_error improved from 0.00219 to 0.00107, saving model to /home/bolin/Projects/NeuralNetwork_for_VehicleDynamicsModeling/outputs/2024_04_16/14_51_54/keras_model_recurrent.h5\n",
      "101/101 [==============================] - 1s 5ms/step - loss: 0.2576 - mean_absolute_error: 0.0572 - mean_squared_error: 0.0059 - val_loss: 0.2435 - val_mean_absolute_error: 0.0208 - val_mean_squared_error: 0.0011 - lr: 4.0000e-04\n",
      "Epoch 14/800\n",
      " 92/101 [==========================>...] - ETA: 0s - loss: 0.2370 - mean_absolute_error: 0.0343 - mean_squared_error: 0.0025\n",
      "Epoch 00014: val_mean_squared_error did not improve from 0.00107\n",
      "101/101 [==============================] - 1s 5ms/step - loss: 0.2363 - mean_absolute_error: 0.0353 - mean_squared_error: 0.0026 - val_loss: 0.2281 - val_mean_absolute_error: 0.0429 - val_mean_squared_error: 0.0031 - lr: 4.0000e-04\n",
      "Epoch 15/800\n",
      " 95/101 [===========================>..] - ETA: 0s - loss: 0.2192 - mean_absolute_error: 0.0314 - mean_squared_error: 0.0019\n",
      "Epoch 00015: val_mean_squared_error did not improve from 0.00107\n",
      "101/101 [==============================] - 1s 5ms/step - loss: 0.2188 - mean_absolute_error: 0.0313 - mean_squared_error: 0.0019 - val_loss: 0.2108 - val_mean_absolute_error: 0.0333 - val_mean_squared_error: 0.0022 - lr: 4.0000e-04\n"
     ]
    },
    {
     "name": "stdout",
     "output_type": "stream",
     "text": [
      "Epoch 16/800\n",
      " 91/101 [==========================>...] - ETA: 0s - loss: 0.2072 - mean_absolute_error: 0.0549 - mean_squared_error: 0.0055\n",
      "Epoch 00016: val_mean_squared_error improved from 0.00107 to 0.00079, saving model to /home/bolin/Projects/NeuralNetwork_for_VehicleDynamicsModeling/outputs/2024_04_16/14_51_54/keras_model_recurrent.h5\n",
      "101/101 [==============================] - 1s 5ms/step - loss: 0.2060 - mean_absolute_error: 0.0512 - mean_squared_error: 0.0050 - val_loss: 0.1942 - val_mean_absolute_error: 0.0164 - val_mean_squared_error: 7.8543e-04 - lr: 4.0000e-04\n",
      "Epoch 17/800\n",
      " 93/101 [==========================>...] - ETA: 0s - loss: 0.1891 - mean_absolute_error: 0.0305 - mean_squared_error: 0.0022\n",
      "Epoch 00017: val_mean_squared_error did not improve from 0.00079\n",
      "101/101 [==============================] - 1s 5ms/step - loss: 0.1886 - mean_absolute_error: 0.0310 - mean_squared_error: 0.0023 - val_loss: 0.1824 - val_mean_absolute_error: 0.0373 - val_mean_squared_error: 0.0033 - lr: 4.0000e-04\n",
      "Epoch 18/800\n",
      "100/101 [============================>.] - ETA: 0s - loss: 0.1751 - mean_absolute_error: 0.0339 - mean_squared_error: 0.0026\n",
      "Epoch 00018: val_mean_squared_error did not improve from 0.00079\n",
      "101/101 [==============================] - 1s 5ms/step - loss: 0.1750 - mean_absolute_error: 0.0339 - mean_squared_error: 0.0026 - val_loss: 0.1678 - val_mean_absolute_error: 0.0370 - val_mean_squared_error: 0.0021 - lr: 4.0000e-04\n",
      "Epoch 19/800\n",
      " 91/101 [==========================>...] - ETA: 0s - loss: 0.1624 - mean_absolute_error: 0.0344 - mean_squared_error: 0.0024\n",
      "Epoch 00019: val_mean_squared_error did not improve from 0.00079\n",
      "101/101 [==============================] - 1s 5ms/step - loss: 0.1620 - mean_absolute_error: 0.0362 - mean_squared_error: 0.0025 - val_loss: 0.1554 - val_mean_absolute_error: 0.0387 - val_mean_squared_error: 0.0022 - lr: 4.0000e-04\n",
      "Epoch 20/800\n",
      " 92/101 [==========================>...] - ETA: 0s - loss: 0.1502 - mean_absolute_error: 0.0355 - mean_squared_error: 0.0024\n",
      "Epoch 00020: val_mean_squared_error improved from 0.00079 to 0.00062, saving model to /home/bolin/Projects/NeuralNetwork_for_VehicleDynamicsModeling/outputs/2024_04_16/14_51_54/keras_model_recurrent.h5\n",
      "101/101 [==============================] - 1s 5ms/step - loss: 0.1495 - mean_absolute_error: 0.0337 - mean_squared_error: 0.0022 - val_loss: 0.1421 - val_mean_absolute_error: 0.0143 - val_mean_squared_error: 6.2343e-04 - lr: 4.0000e-04\n",
      "Epoch 21/800\n",
      " 94/101 [==========================>...] - ETA: 0s - loss: 0.1391 - mean_absolute_error: 0.0314 - mean_squared_error: 0.0028\n",
      "Epoch 00021: val_mean_squared_error did not improve from 0.00062\n",
      "101/101 [==============================] - 1s 5ms/step - loss: 0.1389 - mean_absolute_error: 0.0326 - mean_squared_error: 0.0029 - val_loss: 0.1335 - val_mean_absolute_error: 0.0386 - val_mean_squared_error: 0.0030 - lr: 4.0000e-04\n",
      "Epoch 22/800\n",
      " 96/101 [===========================>..] - ETA: 0s - loss: 0.1270 - mean_absolute_error: 0.0249 - mean_squared_error: 0.0013\n",
      "Epoch 00022: val_mean_squared_error did not improve from 0.00062\n",
      "101/101 [==============================] - 1s 5ms/step - loss: 0.1268 - mean_absolute_error: 0.0252 - mean_squared_error: 0.0014 - val_loss: 0.1219 - val_mean_absolute_error: 0.0319 - val_mean_squared_error: 0.0015 - lr: 4.0000e-04\n",
      "Epoch 23/800\n",
      "100/101 [============================>.] - ETA: 0s - loss: 0.1180 - mean_absolute_error: 0.0348 - mean_squared_error: 0.0023\n",
      "Epoch 00023: val_mean_squared_error did not improve from 0.00062\n",
      "101/101 [==============================] - 1s 6ms/step - loss: 0.1179 - mean_absolute_error: 0.0347 - mean_squared_error: 0.0023 - val_loss: 0.1130 - val_mean_absolute_error: 0.0316 - val_mean_squared_error: 0.0021 - lr: 4.0000e-04\n",
      "Epoch 24/800\n",
      " 93/101 [==========================>...] - ETA: 0s - loss: 0.1081 - mean_absolute_error: 0.0244 - mean_squared_error: 0.0013\n",
      "Epoch 00024: val_mean_squared_error did not improve from 0.00062\n",
      "101/101 [==============================] - 1s 5ms/step - loss: 0.1077 - mean_absolute_error: 0.0241 - mean_squared_error: 0.0013 - val_loss: 0.1032 - val_mean_absolute_error: 0.0227 - val_mean_squared_error: 0.0012 - lr: 4.0000e-04\n",
      "Epoch 25/800\n",
      " 94/101 [==========================>...] - ETA: 0s - loss: 0.0998 - mean_absolute_error: 0.0250 - mean_squared_error: 0.0017\n",
      "Epoch 00025: val_mean_squared_error did not improve from 0.00062\n",
      "101/101 [==============================] - 1s 5ms/step - loss: 0.0995 - mean_absolute_error: 0.0244 - mean_squared_error: 0.0016 - val_loss: 0.0945 - val_mean_absolute_error: 0.0162 - val_mean_squared_error: 6.8965e-04 - lr: 4.0000e-04\n",
      "Epoch 26/800\n",
      " 94/101 [==========================>...] - ETA: 0s - loss: 0.0920 - mean_absolute_error: 0.0303 - mean_squared_error: 0.0019\n",
      "Epoch 00026: val_mean_squared_error did not improve from 0.00062\n",
      "101/101 [==============================] - 1s 5ms/step - loss: 0.0917 - mean_absolute_error: 0.0296 - mean_squared_error: 0.0018 - val_loss: 0.0871 - val_mean_absolute_error: 0.0228 - val_mean_squared_error: 0.0011 - lr: 4.0000e-04\n",
      "Epoch 27/800\n",
      " 90/101 [=========================>....] - ETA: 0s - loss: 0.0843 - mean_absolute_error: 0.0253 - mean_squared_error: 0.0014\n",
      "Epoch 00027: val_mean_squared_error did not improve from 0.00062\n",
      "101/101 [==============================] - 1s 5ms/step - loss: 0.0840 - mean_absolute_error: 0.0261 - mean_squared_error: 0.0015 - val_loss: 0.0808 - val_mean_absolute_error: 0.0285 - val_mean_squared_error: 0.0018 - lr: 4.0000e-04\n",
      "Epoch 28/800\n",
      " 95/101 [===========================>..] - ETA: 0s - loss: 0.0769 - mean_absolute_error: 0.0222 - mean_squared_error: 0.0011\n",
      "Epoch 00028: val_mean_squared_error did not improve from 0.00062\n",
      "101/101 [==============================] - 1s 5ms/step - loss: 0.0767 - mean_absolute_error: 0.0220 - mean_squared_error: 0.0011 - val_loss: 0.0734 - val_mean_absolute_error: 0.0210 - val_mean_squared_error: 0.0010 - lr: 4.0000e-04\n",
      "Epoch 29/800\n",
      " 95/101 [===========================>..] - ETA: 0s - loss: 0.0706 - mean_absolute_error: 0.0220 - mean_squared_error: 0.0012\n",
      "Epoch 00029: val_mean_squared_error did not improve from 0.00062\n",
      "101/101 [==============================] - 1s 5ms/step - loss: 0.0704 - mean_absolute_error: 0.0217 - mean_squared_error: 0.0012 - val_loss: 0.0669 - val_mean_absolute_error: 0.0181 - val_mean_squared_error: 7.1263e-04 - lr: 4.0000e-04\n",
      "Epoch 30/800\n",
      " 93/101 [==========================>...] - ETA: 0s - loss: 0.0648 - mean_absolute_error: 0.0221 - mean_squared_error: 0.0013\n",
      "Epoch 00030: ReduceLROnPlateau reducing learning rate to 0.00031999999191612005.\n",
      "\n",
      "Epoch 00030: val_mean_squared_error did not improve from 0.00062\n",
      "101/101 [==============================] - 1s 5ms/step - loss: 0.0646 - mean_absolute_error: 0.0220 - mean_squared_error: 0.0013 - val_loss: 0.0614 - val_mean_absolute_error: 0.0213 - val_mean_squared_error: 9.6156e-04 - lr: 4.0000e-04\n",
      "Epoch 31/800\n",
      " 94/101 [==========================>...] - ETA: 0s - loss: 0.0590 - mean_absolute_error: 0.0114 - mean_squared_error: 4.7596e-04\n",
      "Epoch 00031: val_mean_squared_error improved from 0.00062 to 0.00044, saving model to /home/bolin/Projects/NeuralNetwork_for_VehicleDynamicsModeling/outputs/2024_04_16/14_51_54/keras_model_recurrent.h5\n",
      "101/101 [==============================] - 1s 5ms/step - loss: 0.0588 - mean_absolute_error: 0.0113 - mean_squared_error: 4.7244e-04 - val_loss: 0.0566 - val_mean_absolute_error: 0.0110 - val_mean_squared_error: 4.4129e-04 - lr: 3.2000e-04\n",
      "Epoch 32/800\n",
      " 92/101 [==========================>...] - ETA: 0s - loss: 0.0548 - mean_absolute_error: 0.0111 - mean_squared_error: 4.5473e-04\n",
      "Epoch 00032: val_mean_squared_error improved from 0.00044 to 0.00043, saving model to /home/bolin/Projects/NeuralNetwork_for_VehicleDynamicsModeling/outputs/2024_04_16/14_51_54/keras_model_recurrent.h5\n",
      "101/101 [==============================] - 1s 5ms/step - loss: 0.0546 - mean_absolute_error: 0.0110 - mean_squared_error: 4.5233e-04 - val_loss: 0.0525 - val_mean_absolute_error: 0.0108 - val_mean_squared_error: 4.3202e-04 - lr: 3.2000e-04\n",
      "Epoch 33/800\n"
     ]
    },
    {
     "name": "stdout",
     "output_type": "stream",
     "text": [
      " 94/101 [==========================>...] - ETA: 0s - loss: 0.0510 - mean_absolute_error: 0.0154 - mean_squared_error: 7.3250e-04\n",
      "Epoch 00033: val_mean_squared_error did not improve from 0.00043\n",
      "101/101 [==============================] - 1s 5ms/step - loss: 0.0509 - mean_absolute_error: 0.0153 - mean_squared_error: 7.1820e-04 - val_loss: 0.0487 - val_mean_absolute_error: 0.0131 - val_mean_squared_error: 5.3717e-04 - lr: 3.2000e-04\n",
      "Epoch 34/800\n",
      " 94/101 [==========================>...] - ETA: 0s - loss: 0.0473 - mean_absolute_error: 0.0161 - mean_squared_error: 8.3426e-04\n",
      "Epoch 00034: val_mean_squared_error did not improve from 0.00043\n",
      "101/101 [==============================] - 1s 5ms/step - loss: 0.0472 - mean_absolute_error: 0.0157 - mean_squared_error: 8.0409e-04 - val_loss: 0.0450 - val_mean_absolute_error: 0.0108 - val_mean_squared_error: 4.4158e-04 - lr: 3.2000e-04\n",
      "Epoch 35/800\n",
      " 94/101 [==========================>...] - ETA: 0s - loss: 0.0437 - mean_absolute_error: 0.0155 - mean_squared_error: 8.1049e-04\n",
      "Epoch 00035: val_mean_squared_error did not improve from 0.00043\n",
      "101/101 [==============================] - 1s 5ms/step - loss: 0.0436 - mean_absolute_error: 0.0154 - mean_squared_error: 7.9366e-04 - val_loss: 0.0416 - val_mean_absolute_error: 0.0115 - val_mean_squared_error: 4.8091e-04 - lr: 3.2000e-04\n",
      "Epoch 36/800\n",
      " 94/101 [==========================>...] - ETA: 0s - loss: 0.0404 - mean_absolute_error: 0.0152 - mean_squared_error: 8.1979e-04\n",
      "Epoch 00036: val_mean_squared_error did not improve from 0.00043\n",
      "101/101 [==============================] - 1s 5ms/step - loss: 0.0403 - mean_absolute_error: 0.0157 - mean_squared_error: 8.5346e-04 - val_loss: 0.0390 - val_mean_absolute_error: 0.0201 - val_mean_squared_error: 0.0011 - lr: 3.2000e-04\n",
      "Epoch 37/800\n",
      " 94/101 [==========================>...] - ETA: 0s - loss: 0.0370 - mean_absolute_error: 0.0122 - mean_squared_error: 5.3521e-04\n",
      "Epoch 00037: val_mean_squared_error did not improve from 0.00043\n",
      "101/101 [==============================] - 1s 5ms/step - loss: 0.0370 - mean_absolute_error: 0.0127 - mean_squared_error: 5.7121e-04 - val_loss: 0.0359 - val_mean_absolute_error: 0.0194 - val_mean_squared_error: 0.0010 - lr: 3.2000e-04\n",
      "Epoch 38/800\n",
      " 93/101 [==========================>...] - ETA: 0s - loss: 0.0344 - mean_absolute_error: 0.0151 - mean_squared_error: 7.8038e-04\n",
      "Epoch 00038: val_mean_squared_error did not improve from 0.00043\n",
      "101/101 [==============================] - 1s 5ms/step - loss: 0.0342 - mean_absolute_error: 0.0149 - mean_squared_error: 7.5504e-04 - val_loss: 0.0327 - val_mean_absolute_error: 0.0132 - val_mean_squared_error: 5.6417e-04 - lr: 3.2000e-04\n",
      "Epoch 39/800\n",
      " 91/101 [==========================>...] - ETA: 0s - loss: 0.0317 - mean_absolute_error: 0.0150 - mean_squared_error: 7.5135e-04\n",
      "Epoch 00039: val_mean_squared_error did not improve from 0.00043\n",
      "101/101 [==============================] - 1s 5ms/step - loss: 0.0316 - mean_absolute_error: 0.0154 - mean_squared_error: 7.7696e-04 - val_loss: 0.0306 - val_mean_absolute_error: 0.0203 - val_mean_squared_error: 0.0011 - lr: 3.2000e-04\n",
      "Epoch 40/800\n",
      " 96/101 [===========================>..] - ETA: 0s - loss: 0.0290 - mean_absolute_error: 0.0142 - mean_squared_error: 6.7982e-04\n",
      "Epoch 00040: val_mean_squared_error did not improve from 0.00043\n",
      "101/101 [==============================] - 1s 5ms/step - loss: 0.0290 - mean_absolute_error: 0.0141 - mean_squared_error: 6.7418e-04 - val_loss: 0.0278 - val_mean_absolute_error: 0.0160 - val_mean_squared_error: 7.2337e-04 - lr: 3.2000e-04\n",
      "Epoch 41/800\n",
      " 93/101 [==========================>...] - ETA: 0s - loss: 0.0268 - mean_absolute_error: 0.0143 - mean_squared_error: 7.4399e-04\n",
      "Epoch 00041: val_mean_squared_error did not improve from 0.00043\n",
      "101/101 [==============================] - 1s 5ms/step - loss: 0.0268 - mean_absolute_error: 0.0150 - mean_squared_error: 8.0974e-04 - val_loss: 0.0260 - val_mean_absolute_error: 0.0208 - val_mean_squared_error: 0.0011 - lr: 3.2000e-04\n",
      "Epoch 42/800\n",
      " 94/101 [==========================>...] - ETA: 0s - loss: 0.0246 - mean_absolute_error: 0.0138 - mean_squared_error: 6.8838e-04\n",
      "Epoch 00042: val_mean_squared_error improved from 0.00043 to 0.00041, saving model to /home/bolin/Projects/NeuralNetwork_for_VehicleDynamicsModeling/outputs/2024_04_16/14_51_54/keras_model_recurrent.h5\n",
      "101/101 [==============================] - 1s 5ms/step - loss: 0.0245 - mean_absolute_error: 0.0136 - mean_squared_error: 6.7070e-04 - val_loss: 0.0232 - val_mean_absolute_error: 0.0099 - val_mean_squared_error: 4.1061e-04 - lr: 3.2000e-04\n",
      "Epoch 43/800\n",
      " 97/101 [===========================>..] - ETA: 0s - loss: 0.0227 - mean_absolute_error: 0.0141 - mean_squared_error: 7.4170e-04\n",
      "Epoch 00043: val_mean_squared_error did not improve from 0.00041\n",
      "101/101 [==============================] - 1s 5ms/step - loss: 0.0226 - mean_absolute_error: 0.0143 - mean_squared_error: 7.5133e-04 - val_loss: 0.0217 - val_mean_absolute_error: 0.0160 - val_mean_squared_error: 7.7425e-04 - lr: 3.2000e-04\n",
      "Epoch 44/800\n",
      " 90/101 [=========================>....] - ETA: 0s - loss: 0.0209 - mean_absolute_error: 0.0151 - mean_squared_error: 7.6445e-04\n",
      "Epoch 00044: val_mean_squared_error did not improve from 0.00041\n",
      "101/101 [==============================] - 1s 5ms/step - loss: 0.0208 - mean_absolute_error: 0.0147 - mean_squared_error: 7.3103e-04 - val_loss: 0.0197 - val_mean_absolute_error: 0.0113 - val_mean_squared_error: 4.9757e-04 - lr: 3.2000e-04\n",
      "Epoch 45/800\n",
      " 95/101 [===========================>..] - ETA: 0s - loss: 0.0192 - mean_absolute_error: 0.0142 - mean_squared_error: 7.6501e-04\n",
      "Epoch 00045: val_mean_squared_error did not improve from 0.00041\n",
      "101/101 [==============================] - 1s 5ms/step - loss: 0.0192 - mean_absolute_error: 0.0140 - mean_squared_error: 7.5055e-04 - val_loss: 0.0181 - val_mean_absolute_error: 0.0102 - val_mean_squared_error: 4.3663e-04 - lr: 3.2000e-04\n",
      "Epoch 46/800\n",
      " 95/101 [===========================>..] - ETA: 0s - loss: 0.0176 - mean_absolute_error: 0.0133 - mean_squared_error: 6.1756e-04\n",
      "Epoch 00046: val_mean_squared_error did not improve from 0.00041\n",
      "101/101 [==============================] - 1s 5ms/step - loss: 0.0175 - mean_absolute_error: 0.0131 - mean_squared_error: 6.0564e-04 - val_loss: 0.0166 - val_mean_absolute_error: 0.0106 - val_mean_squared_error: 4.4873e-04 - lr: 3.2000e-04\n",
      "Epoch 47/800\n",
      " 94/101 [==========================>...] - ETA: 0s - loss: 0.0163 - mean_absolute_error: 0.0144 - mean_squared_error: 7.4370e-04\n",
      "Epoch 00047: val_mean_squared_error did not improve from 0.00041\n",
      "101/101 [==============================] - 1s 5ms/step - loss: 0.0162 - mean_absolute_error: 0.0141 - mean_squared_error: 7.2258e-04 - val_loss: 0.0152 - val_mean_absolute_error: 0.0097 - val_mean_squared_error: 4.1313e-04 - lr: 3.2000e-04\n",
      "Epoch 48/800\n",
      " 93/101 [==========================>...] - ETA: 0s - loss: 0.0151 - mean_absolute_error: 0.0143 - mean_squared_error: 7.9397e-04\n",
      "Epoch 00048: val_mean_squared_error did not improve from 0.00041\n",
      "101/101 [==============================] - 1s 5ms/step - loss: 0.0150 - mean_absolute_error: 0.0139 - mean_squared_error: 7.6413e-04 - val_loss: 0.0140 - val_mean_absolute_error: 0.0096 - val_mean_squared_error: 4.1124e-04 - lr: 3.2000e-04\n",
      "Epoch 49/800\n",
      " 94/101 [==========================>...] - ETA: 0s - loss: 0.0136 - mean_absolute_error: 0.0107 - mean_squared_error: 4.4968e-04\n",
      "Epoch 00049: val_mean_squared_error did not improve from 0.00041\n",
      "101/101 [==============================] - 1s 5ms/step - loss: 0.0135 - mean_absolute_error: 0.0109 - mean_squared_error: 4.5664e-04 - val_loss: 0.0136 - val_mean_absolute_error: 0.0194 - val_mean_squared_error: 0.0011 - lr: 3.2000e-04\n",
      "Epoch 50/800\n",
      " 93/101 [==========================>...] - ETA: 0s - loss: 0.0128 - mean_absolute_error: 0.0145 - mean_squared_error: 7.5330e-04\n",
      "Epoch 00050: val_mean_squared_error did not improve from 0.00041\n",
      "101/101 [==============================] - 1s 5ms/step - loss: 0.0128 - mean_absolute_error: 0.0146 - mean_squared_error: 7.4775e-04 - val_loss: 0.0120 - val_mean_absolute_error: 0.0115 - val_mean_squared_error: 4.6199e-04 - lr: 3.2000e-04\n",
      "Epoch 51/800\n"
     ]
    },
    {
     "name": "stdout",
     "output_type": "stream",
     "text": [
      " 93/101 [==========================>...] - ETA: 0s - loss: 0.0118 - mean_absolute_error: 0.0141 - mean_squared_error: 7.5187e-04\n",
      "Epoch 00051: val_mean_squared_error did not improve from 0.00041\n",
      "101/101 [==============================] - 1s 5ms/step - loss: 0.0118 - mean_absolute_error: 0.0138 - mean_squared_error: 7.2965e-04 - val_loss: 0.0112 - val_mean_absolute_error: 0.0119 - val_mean_squared_error: 5.5925e-04 - lr: 3.2000e-04\n",
      "Epoch 52/800\n",
      " 96/101 [===========================>..] - ETA: 0s - loss: 0.0109 - mean_absolute_error: 0.0143 - mean_squared_error: 6.6840e-04\n",
      "Epoch 00052: ReduceLROnPlateau reducing learning rate to 0.00025599999353289606.\n",
      "\n",
      "Epoch 00052: val_mean_squared_error did not improve from 0.00041\n",
      "101/101 [==============================] - 1s 5ms/step - loss: 0.0109 - mean_absolute_error: 0.0146 - mean_squared_error: 7.0153e-04 - val_loss: 0.0108 - val_mean_absolute_error: 0.0238 - val_mean_squared_error: 9.9573e-04 - lr: 3.2000e-04\n",
      "Epoch 53/800\n",
      " 96/101 [===========================>..] - ETA: 0s - loss: 0.0099 - mean_absolute_error: 0.0100 - mean_squared_error: 4.1555e-04\n",
      "Epoch 00053: val_mean_squared_error improved from 0.00041 to 0.00040, saving model to /home/bolin/Projects/NeuralNetwork_for_VehicleDynamicsModeling/outputs/2024_04_16/14_51_54/keras_model_recurrent.h5\n",
      "101/101 [==============================] - 1s 5ms/step - loss: 0.0099 - mean_absolute_error: 0.0100 - mean_squared_error: 4.2120e-04 - val_loss: 0.0095 - val_mean_absolute_error: 0.0099 - val_mean_squared_error: 3.9785e-04 - lr: 2.5600e-04\n",
      "Epoch 54/800\n",
      " 95/101 [===========================>..] - ETA: 0s - loss: 0.0093 - mean_absolute_error: 0.0101 - mean_squared_error: 4.1682e-04\n",
      "Epoch 00054: val_mean_squared_error did not improve from 0.00040\n",
      "101/101 [==============================] - 1s 5ms/step - loss: 0.0093 - mean_absolute_error: 0.0102 - mean_squared_error: 4.2366e-04 - val_loss: 0.0091 - val_mean_absolute_error: 0.0126 - val_mean_squared_error: 5.3197e-04 - lr: 2.5600e-04\n",
      "Epoch 55/800\n",
      " 92/101 [==========================>...] - ETA: 0s - loss: 0.0088 - mean_absolute_error: 0.0120 - mean_squared_error: 5.4034e-04\n",
      "Epoch 00055: val_mean_squared_error did not improve from 0.00040\n",
      "101/101 [==============================] - 1s 5ms/step - loss: 0.0088 - mean_absolute_error: 0.0119 - mean_squared_error: 5.4979e-04 - val_loss: 0.0085 - val_mean_absolute_error: 0.0123 - val_mean_squared_error: 4.5418e-04 - lr: 2.5600e-04\n",
      "Epoch 56/800\n",
      " 92/101 [==========================>...] - ETA: 0s - loss: 0.0084 - mean_absolute_error: 0.0131 - mean_squared_error: 6.4517e-04\n",
      "Epoch 00056: val_mean_squared_error did not improve from 0.00040\n",
      "101/101 [==============================] - 1s 5ms/step - loss: 0.0084 - mean_absolute_error: 0.0129 - mean_squared_error: 6.2939e-04 - val_loss: 0.0080 - val_mean_absolute_error: 0.0113 - val_mean_squared_error: 4.6956e-04 - lr: 2.5600e-04\n",
      "Epoch 57/800\n",
      " 94/101 [==========================>...] - ETA: 0s - loss: 0.0079 - mean_absolute_error: 0.0133 - mean_squared_error: 6.1190e-04\n",
      "Epoch 00057: val_mean_squared_error did not improve from 0.00040\n",
      "101/101 [==============================] - 1s 5ms/step - loss: 0.0079 - mean_absolute_error: 0.0131 - mean_squared_error: 5.9634e-04 - val_loss: 0.0074 - val_mean_absolute_error: 0.0101 - val_mean_squared_error: 4.0920e-04 - lr: 2.5600e-04\n",
      "Epoch 58/800\n",
      " 95/101 [===========================>..] - ETA: 0s - loss: 0.0075 - mean_absolute_error: 0.0134 - mean_squared_error: 6.1501e-04\n",
      "Epoch 00058: val_mean_squared_error did not improve from 0.00040\n",
      "101/101 [==============================] - 1s 5ms/step - loss: 0.0074 - mean_absolute_error: 0.0132 - mean_squared_error: 6.0067e-04 - val_loss: 0.0070 - val_mean_absolute_error: 0.0100 - val_mean_squared_error: 4.2602e-04 - lr: 2.5600e-04\n",
      "Epoch 59/800\n",
      " 92/101 [==========================>...] - ETA: 0s - loss: 0.0071 - mean_absolute_error: 0.0152 - mean_squared_error: 6.6793e-04\n",
      "Epoch 00059: val_mean_squared_error did not improve from 0.00040\n",
      "101/101 [==============================] - 1s 5ms/step - loss: 0.0071 - mean_absolute_error: 0.0150 - mean_squared_error: 6.5830e-04 - val_loss: 0.0067 - val_mean_absolute_error: 0.0104 - val_mean_squared_error: 4.4028e-04 - lr: 2.5600e-04\n",
      "Epoch 60/800\n",
      " 95/101 [===========================>..] - ETA: 0s - loss: 0.0066 - mean_absolute_error: 0.0128 - mean_squared_error: 5.5143e-04\n",
      "Epoch 00060: val_mean_squared_error did not improve from 0.00040\n",
      "101/101 [==============================] - 1s 5ms/step - loss: 0.0067 - mean_absolute_error: 0.0139 - mean_squared_error: 6.5911e-04 - val_loss: 0.0070 - val_mean_absolute_error: 0.0214 - val_mean_squared_error: 0.0011 - lr: 2.5600e-04\n",
      "Epoch 61/800\n",
      " 91/101 [==========================>...] - ETA: 0s - loss: 0.0062 - mean_absolute_error: 0.0119 - mean_squared_error: 4.7919e-04\n",
      "Epoch 00061: val_mean_squared_error did not improve from 0.00040\n",
      "101/101 [==============================] - 1s 5ms/step - loss: 0.0062 - mean_absolute_error: 0.0121 - mean_squared_error: 4.9160e-04 - val_loss: 0.0060 - val_mean_absolute_error: 0.0125 - val_mean_squared_error: 4.7038e-04 - lr: 2.5600e-04\n",
      "Epoch 62/800\n",
      " 93/101 [==========================>...] - ETA: 0s - loss: 0.0060 - mean_absolute_error: 0.0135 - mean_squared_error: 5.8911e-04\n",
      "Epoch 00062: val_mean_squared_error did not improve from 0.00040\n",
      "101/101 [==============================] - 1s 5ms/step - loss: 0.0060 - mean_absolute_error: 0.0133 - mean_squared_error: 5.8233e-04 - val_loss: 0.0057 - val_mean_absolute_error: 0.0109 - val_mean_squared_error: 4.5026e-04 - lr: 2.5600e-04\n",
      "Epoch 63/800\n",
      " 96/101 [===========================>..] - ETA: 0s - loss: 0.0058 - mean_absolute_error: 0.0149 - mean_squared_error: 6.9298e-04\n",
      "Epoch 00063: ReduceLROnPlateau reducing learning rate to 0.00020479999948292972.\n",
      "\n",
      "Epoch 00063: val_mean_squared_error did not improve from 0.00040\n",
      "101/101 [==============================] - 1s 5ms/step - loss: 0.0058 - mean_absolute_error: 0.0148 - mean_squared_error: 6.7812e-04 - val_loss: 0.0054 - val_mean_absolute_error: 0.0115 - val_mean_squared_error: 4.3320e-04 - lr: 2.5600e-04\n",
      "Epoch 64/800\n",
      " 91/101 [==========================>...] - ETA: 0s - loss: 0.0052 - mean_absolute_error: 0.0100 - mean_squared_error: 3.8654e-04\n",
      "Epoch 00064: val_mean_squared_error did not improve from 0.00040\n",
      "101/101 [==============================] - 1s 5ms/step - loss: 0.0053 - mean_absolute_error: 0.0100 - mean_squared_error: 4.0924e-04 - val_loss: 0.0051 - val_mean_absolute_error: 0.0102 - val_mean_squared_error: 4.0441e-04 - lr: 2.0480e-04\n",
      "Epoch 65/800\n",
      "100/101 [============================>.] - ETA: 0s - loss: 0.0050 - mean_absolute_error: 0.0104 - mean_squared_error: 4.2586e-04\n",
      "Epoch 00065: val_mean_squared_error did not improve from 0.00040\n",
      "101/101 [==============================] - 1s 5ms/step - loss: 0.0050 - mean_absolute_error: 0.0104 - mean_squared_error: 4.2754e-04 - val_loss: 0.0050 - val_mean_absolute_error: 0.0121 - val_mean_squared_error: 5.0822e-04 - lr: 2.0480e-04\n",
      "Epoch 66/800\n",
      " 98/101 [============================>.] - ETA: 0s - loss: 0.0050 - mean_absolute_error: 0.0127 - mean_squared_error: 5.4593e-04\n",
      "Epoch 00066: val_mean_squared_error did not improve from 0.00040\n",
      "101/101 [==============================] - 1s 6ms/step - loss: 0.0050 - mean_absolute_error: 0.0126 - mean_squared_error: 5.4154e-04 - val_loss: 0.0047 - val_mean_absolute_error: 0.0102 - val_mean_squared_error: 4.0497e-04 - lr: 2.0480e-04\n",
      "Epoch 67/800\n",
      " 99/101 [============================>.] - ETA: 0s - loss: 0.0047 - mean_absolute_error: 0.0122 - mean_squared_error: 5.0487e-04\n",
      "Epoch 00067: val_mean_squared_error did not improve from 0.00040\n",
      "101/101 [==============================] - 1s 5ms/step - loss: 0.0047 - mean_absolute_error: 0.0122 - mean_squared_error: 5.0328e-04 - val_loss: 0.0046 - val_mean_absolute_error: 0.0117 - val_mean_squared_error: 4.5228e-04 - lr: 2.0480e-04\n",
      "Epoch 68/800\n",
      "100/101 [============================>.] - ETA: 0s - loss: 0.0046 - mean_absolute_error: 0.0136 - mean_squared_error: 5.5810e-04\n",
      "Epoch 00068: val_mean_squared_error did not improve from 0.00040\n",
      "101/101 [==============================] - 1s 5ms/step - loss: 0.0046 - mean_absolute_error: 0.0136 - mean_squared_error: 5.5747e-04 - val_loss: 0.0044 - val_mean_absolute_error: 0.0106 - val_mean_squared_error: 4.2109e-04 - lr: 2.0480e-04\n"
     ]
    },
    {
     "name": "stdout",
     "output_type": "stream",
     "text": [
      "Epoch 69/800\n",
      "100/101 [============================>.] - ETA: 0s - loss: 0.0045 - mean_absolute_error: 0.0144 - mean_squared_error: 5.9314e-04\n",
      "Epoch 00069: val_mean_squared_error did not improve from 0.00040\n",
      "101/101 [==============================] - 1s 5ms/step - loss: 0.0045 - mean_absolute_error: 0.0144 - mean_squared_error: 5.9266e-04 - val_loss: 0.0043 - val_mean_absolute_error: 0.0122 - val_mean_squared_error: 5.1014e-04 - lr: 2.0480e-04\n",
      "Epoch 70/800\n",
      " 96/101 [===========================>..] - ETA: 0s - loss: 0.0043 - mean_absolute_error: 0.0135 - mean_squared_error: 5.3900e-04\n",
      "Epoch 00070: val_mean_squared_error did not improve from 0.00040\n",
      "101/101 [==============================] - 1s 6ms/step - loss: 0.0043 - mean_absolute_error: 0.0137 - mean_squared_error: 5.4228e-04 - val_loss: 0.0042 - val_mean_absolute_error: 0.0151 - val_mean_squared_error: 5.3352e-04 - lr: 2.0480e-04\n",
      "Epoch 71/800\n",
      " 99/101 [============================>.] - ETA: 0s - loss: 0.0042 - mean_absolute_error: 0.0139 - mean_squared_error: 5.5588e-04\n",
      "Epoch 00071: val_mean_squared_error did not improve from 0.00040\n",
      "101/101 [==============================] - 1s 5ms/step - loss: 0.0042 - mean_absolute_error: 0.0139 - mean_squared_error: 5.5750e-04 - val_loss: 0.0042 - val_mean_absolute_error: 0.0134 - val_mean_squared_error: 6.6076e-04 - lr: 2.0480e-04\n",
      "Epoch 72/800\n",
      "100/101 [============================>.] - ETA: 0s - loss: 0.0041 - mean_absolute_error: 0.0142 - mean_squared_error: 6.1053e-04\n",
      "Epoch 00072: val_mean_squared_error did not improve from 0.00040\n",
      "101/101 [==============================] - 1s 5ms/step - loss: 0.0041 - mean_absolute_error: 0.0142 - mean_squared_error: 6.1428e-04 - val_loss: 0.0047 - val_mean_absolute_error: 0.0233 - val_mean_squared_error: 0.0013 - lr: 2.0480e-04\n",
      "Epoch 73/800\n",
      "100/101 [============================>.] - ETA: 0s - loss: 0.0039 - mean_absolute_error: 0.0136 - mean_squared_error: 5.5041e-04\n",
      "Epoch 00073: ReduceLROnPlateau reducing learning rate to 0.00016384000191465022.\n",
      "\n",
      "Epoch 00073: val_mean_squared_error did not improve from 0.00040\n",
      "101/101 [==============================] - 1s 5ms/step - loss: 0.0039 - mean_absolute_error: 0.0136 - mean_squared_error: 5.5239e-04 - val_loss: 0.0039 - val_mean_absolute_error: 0.0164 - val_mean_squared_error: 6.6277e-04 - lr: 2.0480e-04\n",
      "Epoch 74/800\n",
      " 99/101 [============================>.] - ETA: 0s - loss: 0.0036 - mean_absolute_error: 0.0103 - mean_squared_error: 4.1242e-04\n",
      "Epoch 00074: val_mean_squared_error did not improve from 0.00040\n",
      "101/101 [==============================] - 1s 5ms/step - loss: 0.0036 - mean_absolute_error: 0.0103 - mean_squared_error: 4.1311e-04 - val_loss: 0.0036 - val_mean_absolute_error: 0.0105 - val_mean_squared_error: 4.1822e-04 - lr: 1.6384e-04\n",
      "Epoch 75/800\n",
      "100/101 [============================>.] - ETA: 0s - loss: 0.0035 - mean_absolute_error: 0.0103 - mean_squared_error: 4.1097e-04\n",
      "Epoch 00075: val_mean_squared_error did not improve from 0.00040\n",
      "101/101 [==============================] - 1s 5ms/step - loss: 0.0035 - mean_absolute_error: 0.0103 - mean_squared_error: 4.1014e-04 - val_loss: 0.0035 - val_mean_absolute_error: 0.0106 - val_mean_squared_error: 4.1697e-04 - lr: 1.6384e-04\n",
      "Epoch 76/800\n",
      " 99/101 [============================>.] - ETA: 0s - loss: 0.0035 - mean_absolute_error: 0.0114 - mean_squared_error: 4.5381e-04\n",
      "Epoch 00076: val_mean_squared_error did not improve from 0.00040\n",
      "101/101 [==============================] - 1s 5ms/step - loss: 0.0035 - mean_absolute_error: 0.0113 - mean_squared_error: 4.5548e-04 - val_loss: 0.0034 - val_mean_absolute_error: 0.0104 - val_mean_squared_error: 4.3858e-04 - lr: 1.6384e-04\n",
      "Epoch 77/800\n",
      "100/101 [============================>.] - ETA: 0s - loss: 0.0035 - mean_absolute_error: 0.0124 - mean_squared_error: 5.2541e-04\n",
      "Epoch 00077: val_mean_squared_error did not improve from 0.00040\n",
      "101/101 [==============================] - 1s 5ms/step - loss: 0.0035 - mean_absolute_error: 0.0124 - mean_squared_error: 5.4408e-04 - val_loss: 0.0034 - val_mean_absolute_error: 0.0147 - val_mean_squared_error: 5.0210e-04 - lr: 1.6384e-04\n",
      "Epoch 78/800\n",
      "100/101 [============================>.] - ETA: 0s - loss: 0.0034 - mean_absolute_error: 0.0129 - mean_squared_error: 5.1830e-04\n",
      "Epoch 00078: val_mean_squared_error did not improve from 0.00040\n",
      "101/101 [==============================] - 1s 5ms/step - loss: 0.0034 - mean_absolute_error: 0.0129 - mean_squared_error: 5.1714e-04 - val_loss: 0.0032 - val_mean_absolute_error: 0.0106 - val_mean_squared_error: 4.1353e-04 - lr: 1.6384e-04\n",
      "Epoch 79/800\n",
      "100/101 [============================>.] - ETA: 0s - loss: 0.0033 - mean_absolute_error: 0.0129 - mean_squared_error: 5.1108e-04\n",
      "Epoch 00079: val_mean_squared_error did not improve from 0.00040\n",
      "101/101 [==============================] - 1s 5ms/step - loss: 0.0033 - mean_absolute_error: 0.0129 - mean_squared_error: 5.1119e-04 - val_loss: 0.0034 - val_mean_absolute_error: 0.0176 - val_mean_squared_error: 6.4482e-04 - lr: 1.6384e-04\n",
      "Epoch 80/800\n",
      " 98/101 [============================>.] - ETA: 0s - loss: 0.0032 - mean_absolute_error: 0.0129 - mean_squared_error: 5.0047e-04\n",
      "Epoch 00080: val_mean_squared_error did not improve from 0.00040\n",
      "101/101 [==============================] - 1s 5ms/step - loss: 0.0032 - mean_absolute_error: 0.0129 - mean_squared_error: 5.0007e-04 - val_loss: 0.0032 - val_mean_absolute_error: 0.0129 - val_mean_squared_error: 4.8421e-04 - lr: 1.6384e-04\n",
      "Epoch 81/800\n",
      " 99/101 [============================>.] - ETA: 0s - loss: 0.0033 - mean_absolute_error: 0.0148 - mean_squared_error: 6.2035e-04\n",
      "Epoch 00081: val_mean_squared_error did not improve from 0.00040\n",
      "101/101 [==============================] - 1s 5ms/step - loss: 0.0033 - mean_absolute_error: 0.0148 - mean_squared_error: 6.1580e-04 - val_loss: 0.0031 - val_mean_absolute_error: 0.0107 - val_mean_squared_error: 4.4064e-04 - lr: 1.6384e-04\n",
      "Epoch 82/800\n",
      "100/101 [============================>.] - ETA: 0s - loss: 0.0031 - mean_absolute_error: 0.0118 - mean_squared_error: 4.7087e-04\n",
      "Epoch 00082: val_mean_squared_error did not improve from 0.00040\n",
      "101/101 [==============================] - 1s 5ms/step - loss: 0.0031 - mean_absolute_error: 0.0118 - mean_squared_error: 4.7081e-04 - val_loss: 0.0030 - val_mean_absolute_error: 0.0108 - val_mean_squared_error: 4.2099e-04 - lr: 1.6384e-04\n",
      "Epoch 83/800\n",
      "100/101 [============================>.] - ETA: 0s - loss: 0.0030 - mean_absolute_error: 0.0134 - mean_squared_error: 5.1022e-04\n",
      "Epoch 00083: ReduceLROnPlateau reducing learning rate to 0.00013107199920341374.\n",
      "\n",
      "Epoch 00083: val_mean_squared_error did not improve from 0.00040\n",
      "101/101 [==============================] - 1s 5ms/step - loss: 0.0030 - mean_absolute_error: 0.0134 - mean_squared_error: 5.1039e-04 - val_loss: 0.0030 - val_mean_absolute_error: 0.0141 - val_mean_squared_error: 5.5372e-04 - lr: 1.6384e-04\n",
      "Epoch 84/800\n",
      " 98/101 [============================>.] - ETA: 0s - loss: 0.0029 - mean_absolute_error: 0.0104 - mean_squared_error: 4.1274e-04\n",
      "Epoch 00084: val_mean_squared_error did not improve from 0.00040\n",
      "101/101 [==============================] - 1s 5ms/step - loss: 0.0029 - mean_absolute_error: 0.0104 - mean_squared_error: 4.1198e-04 - val_loss: 0.0028 - val_mean_absolute_error: 0.0106 - val_mean_squared_error: 4.1376e-04 - lr: 1.3107e-04\n",
      "Epoch 85/800\n",
      " 96/101 [===========================>..] - ETA: 0s - loss: 0.0028 - mean_absolute_error: 0.0104 - mean_squared_error: 4.1241e-04\n",
      "Epoch 00085: val_mean_squared_error did not improve from 0.00040\n",
      "101/101 [==============================] - 1s 6ms/step - loss: 0.0028 - mean_absolute_error: 0.0104 - mean_squared_error: 4.1035e-04 - val_loss: 0.0028 - val_mean_absolute_error: 0.0107 - val_mean_squared_error: 4.1599e-04 - lr: 1.3107e-04\n",
      "Epoch 86/800\n",
      "100/101 [============================>.] - ETA: 0s - loss: 0.0028 - mean_absolute_error: 0.0107 - mean_squared_error: 4.2414e-04\n",
      "Epoch 00086: val_mean_squared_error did not improve from 0.00040\n",
      "101/101 [==============================] - 1s 5ms/step - loss: 0.0028 - mean_absolute_error: 0.0107 - mean_squared_error: 4.2403e-04 - val_loss: 0.0027 - val_mean_absolute_error: 0.0108 - val_mean_squared_error: 4.1634e-04 - lr: 1.3107e-04\n"
     ]
    },
    {
     "name": "stdout",
     "output_type": "stream",
     "text": [
      "Epoch 87/800\n",
      " 99/101 [============================>.] - ETA: 0s - loss: 0.0028 - mean_absolute_error: 0.0125 - mean_squared_error: 4.8784e-04\n",
      "Epoch 00087: val_mean_squared_error did not improve from 0.00040\n",
      "101/101 [==============================] - 1s 5ms/step - loss: 0.0028 - mean_absolute_error: 0.0125 - mean_squared_error: 5.0709e-04 - val_loss: 0.0027 - val_mean_absolute_error: 0.0120 - val_mean_squared_error: 4.3017e-04 - lr: 1.3107e-04\n",
      "Epoch 88/800\n",
      "100/101 [============================>.] - ETA: 0s - loss: 0.0027 - mean_absolute_error: 0.0117 - mean_squared_error: 4.4751e-04\n",
      "Epoch 00088: val_mean_squared_error did not improve from 0.00040\n",
      "101/101 [==============================] - 1s 5ms/step - loss: 0.0027 - mean_absolute_error: 0.0117 - mean_squared_error: 4.5112e-04 - val_loss: 0.0036 - val_mean_absolute_error: 0.0233 - val_mean_squared_error: 0.0014 - lr: 1.3107e-04\n",
      "Epoch 89/800\n",
      "100/101 [============================>.] - ETA: 0s - loss: 0.0027 - mean_absolute_error: 0.0122 - mean_squared_error: 5.1120e-04\n",
      "Epoch 00089: val_mean_squared_error did not improve from 0.00040\n",
      "101/101 [==============================] - 1s 5ms/step - loss: 0.0027 - mean_absolute_error: 0.0122 - mean_squared_error: 5.1026e-04 - val_loss: 0.0026 - val_mean_absolute_error: 0.0115 - val_mean_squared_error: 4.2492e-04 - lr: 1.3107e-04\n",
      "Epoch 90/800\n",
      "100/101 [============================>.] - ETA: 0s - loss: 0.0027 - mean_absolute_error: 0.0130 - mean_squared_error: 5.1618e-04\n",
      "Epoch 00090: val_mean_squared_error did not improve from 0.00040\n",
      "101/101 [==============================] - 1s 5ms/step - loss: 0.0027 - mean_absolute_error: 0.0129 - mean_squared_error: 5.1559e-04 - val_loss: 0.0026 - val_mean_absolute_error: 0.0125 - val_mean_squared_error: 4.8675e-04 - lr: 1.3107e-04\n",
      "Epoch 91/800\n",
      "100/101 [============================>.] - ETA: 0s - loss: 0.0026 - mean_absolute_error: 0.0118 - mean_squared_error: 4.6624e-04\n",
      "Epoch 00091: val_mean_squared_error did not improve from 0.00040\n",
      "101/101 [==============================] - 1s 5ms/step - loss: 0.0026 - mean_absolute_error: 0.0119 - mean_squared_error: 4.6734e-04 - val_loss: 0.0027 - val_mean_absolute_error: 0.0163 - val_mean_squared_error: 6.4528e-04 - lr: 1.3107e-04\n",
      "Epoch 92/800\n",
      "100/101 [============================>.] - ETA: 0s - loss: 0.0026 - mean_absolute_error: 0.0134 - mean_squared_error: 5.0764e-04\n",
      "Epoch 00092: val_mean_squared_error did not improve from 0.00040\n",
      "101/101 [==============================] - 1s 5ms/step - loss: 0.0026 - mean_absolute_error: 0.0134 - mean_squared_error: 5.0691e-04 - val_loss: 0.0025 - val_mean_absolute_error: 0.0122 - val_mean_squared_error: 4.5114e-04 - lr: 1.3107e-04\n",
      "Epoch 93/800\n",
      "100/101 [============================>.] - ETA: 0s - loss: 0.0025 - mean_absolute_error: 0.0118 - mean_squared_error: 4.6155e-04\n",
      "Epoch 00093: ReduceLROnPlateau reducing learning rate to 0.00010485759703442455.\n",
      "\n",
      "Epoch 00093: val_mean_squared_error did not improve from 0.00040\n",
      "101/101 [==============================] - 1s 5ms/step - loss: 0.0025 - mean_absolute_error: 0.0118 - mean_squared_error: 4.6219e-04 - val_loss: 0.0026 - val_mean_absolute_error: 0.0144 - val_mean_squared_error: 5.8010e-04 - lr: 1.3107e-04\n",
      "Epoch 94/800\n",
      "100/101 [============================>.] - ETA: 0s - loss: 0.0024 - mean_absolute_error: 0.0105 - mean_squared_error: 4.1695e-04\n",
      "Epoch 00094: val_mean_squared_error did not improve from 0.00040\n",
      "101/101 [==============================] - 1s 5ms/step - loss: 0.0024 - mean_absolute_error: 0.0104 - mean_squared_error: 4.1677e-04 - val_loss: 0.0024 - val_mean_absolute_error: 0.0104 - val_mean_squared_error: 4.0762e-04 - lr: 1.0486e-04\n",
      "Epoch 95/800\n",
      " 99/101 [============================>.] - ETA: 0s - loss: 0.0024 - mean_absolute_error: 0.0105 - mean_squared_error: 4.2008e-04\n",
      "Epoch 00095: val_mean_squared_error did not improve from 0.00040\n",
      "101/101 [==============================] - 1s 5ms/step - loss: 0.0024 - mean_absolute_error: 0.0105 - mean_squared_error: 4.1906e-04 - val_loss: 0.0024 - val_mean_absolute_error: 0.0104 - val_mean_squared_error: 4.0220e-04 - lr: 1.0486e-04\n",
      "Epoch 96/800\n",
      "100/101 [============================>.] - ETA: 0s - loss: 0.0024 - mean_absolute_error: 0.0107 - mean_squared_error: 4.2377e-04\n",
      "Epoch 00096: val_mean_squared_error did not improve from 0.00040\n",
      "101/101 [==============================] - 1s 5ms/step - loss: 0.0024 - mean_absolute_error: 0.0107 - mean_squared_error: 4.2325e-04 - val_loss: 0.0023 - val_mean_absolute_error: 0.0106 - val_mean_squared_error: 4.2033e-04 - lr: 1.0486e-04\n",
      "Epoch 97/800\n",
      "100/101 [============================>.] - ETA: 0s - loss: 0.0024 - mean_absolute_error: 0.0114 - mean_squared_error: 4.5713e-04\n",
      "Epoch 00097: val_mean_squared_error did not improve from 0.00040\n",
      "101/101 [==============================] - 1s 5ms/step - loss: 0.0024 - mean_absolute_error: 0.0114 - mean_squared_error: 4.5706e-04 - val_loss: 0.0023 - val_mean_absolute_error: 0.0115 - val_mean_squared_error: 4.2908e-04 - lr: 1.0486e-04\n",
      "Epoch 98/800\n",
      " 97/101 [===========================>..] - ETA: 0s - loss: 0.0023 - mean_absolute_error: 0.0115 - mean_squared_error: 4.5152e-04\n",
      "Epoch 00098: val_mean_squared_error did not improve from 0.00040\n",
      "101/101 [==============================] - 1s 6ms/step - loss: 0.0023 - mean_absolute_error: 0.0116 - mean_squared_error: 4.6099e-04 - val_loss: 0.0025 - val_mean_absolute_error: 0.0142 - val_mean_squared_error: 6.0811e-04 - lr: 1.0486e-04\n",
      "Epoch 99/800\n",
      "100/101 [============================>.] - ETA: 0s - loss: 0.0023 - mean_absolute_error: 0.0118 - mean_squared_error: 4.7004e-04\n",
      "Epoch 00099: val_mean_squared_error did not improve from 0.00040\n",
      "101/101 [==============================] - 1s 5ms/step - loss: 0.0023 - mean_absolute_error: 0.0118 - mean_squared_error: 4.7006e-04 - val_loss: 0.0022 - val_mean_absolute_error: 0.0115 - val_mean_squared_error: 4.1936e-04 - lr: 1.0486e-04\n",
      "Epoch 100/800\n",
      " 96/101 [===========================>..] - ETA: 0s - loss: 0.0023 - mean_absolute_error: 0.0123 - mean_squared_error: 4.8154e-04\n",
      "Epoch 00100: val_mean_squared_error did not improve from 0.00040\n",
      "101/101 [==============================] - 1s 6ms/step - loss: 0.0023 - mean_absolute_error: 0.0122 - mean_squared_error: 4.7971e-04 - val_loss: 0.0022 - val_mean_absolute_error: 0.0117 - val_mean_squared_error: 4.4231e-04 - lr: 1.0486e-04\n",
      "Epoch 101/800\n",
      " 98/101 [============================>.] - ETA: 0s - loss: 0.0022 - mean_absolute_error: 0.0116 - mean_squared_error: 4.5295e-04\n",
      "Epoch 00101: val_mean_squared_error did not improve from 0.00040\n",
      "101/101 [==============================] - 1s 5ms/step - loss: 0.0022 - mean_absolute_error: 0.0116 - mean_squared_error: 4.5351e-04 - val_loss: 0.0022 - val_mean_absolute_error: 0.0131 - val_mean_squared_error: 4.5750e-04 - lr: 1.0486e-04\n",
      "Epoch 102/800\n",
      " 99/101 [============================>.] - ETA: 0s - loss: 0.0022 - mean_absolute_error: 0.0118 - mean_squared_error: 4.6389e-04\n",
      "Epoch 00102: val_mean_squared_error did not improve from 0.00040\n",
      "101/101 [==============================] - 1s 5ms/step - loss: 0.0022 - mean_absolute_error: 0.0118 - mean_squared_error: 4.6223e-04 - val_loss: 0.0022 - val_mean_absolute_error: 0.0114 - val_mean_squared_error: 4.2665e-04 - lr: 1.0486e-04\n",
      "Epoch 103/800\n",
      "100/101 [============================>.] - ETA: 0s - loss: 0.0022 - mean_absolute_error: 0.0125 - mean_squared_error: 4.9477e-04\n",
      "Epoch 00103: ReduceLROnPlateau reducing learning rate to 8.38860752992332e-05.\n",
      "\n",
      "Epoch 00103: val_mean_squared_error did not improve from 0.00040\n",
      "101/101 [==============================] - 1s 5ms/step - loss: 0.0022 - mean_absolute_error: 0.0125 - mean_squared_error: 4.9397e-04 - val_loss: 0.0022 - val_mean_absolute_error: 0.0122 - val_mean_squared_error: 4.3809e-04 - lr: 1.0486e-04\n",
      "Epoch 104/800\n",
      " 98/101 [============================>.] - ETA: 0s - loss: 0.0021 - mean_absolute_error: 0.0105 - mean_squared_error: 4.1758e-04\n",
      "Epoch 00104: val_mean_squared_error did not improve from 0.00040\n",
      "101/101 [==============================] - 1s 5ms/step - loss: 0.0021 - mean_absolute_error: 0.0104 - mean_squared_error: 4.1545e-04 - val_loss: 0.0021 - val_mean_absolute_error: 0.0105 - val_mean_squared_error: 4.1001e-04 - lr: 8.3886e-05\n"
     ]
    },
    {
     "name": "stdout",
     "output_type": "stream",
     "text": [
      "Epoch 105/800\n",
      "100/101 [============================>.] - ETA: 0s - loss: 0.0021 - mean_absolute_error: 0.0105 - mean_squared_error: 4.2081e-04\n",
      "Epoch 00105: val_mean_squared_error did not improve from 0.00040\n",
      "101/101 [==============================] - 1s 5ms/step - loss: 0.0021 - mean_absolute_error: 0.0105 - mean_squared_error: 4.2052e-04 - val_loss: 0.0021 - val_mean_absolute_error: 0.0107 - val_mean_squared_error: 4.1358e-04 - lr: 8.3886e-05\n",
      "Epoch 106/800\n",
      "100/101 [============================>.] - ETA: 0s - loss: 0.0021 - mean_absolute_error: 0.0106 - mean_squared_error: 4.2029e-04\n",
      "Epoch 00106: val_mean_squared_error did not improve from 0.00040\n",
      "101/101 [==============================] - 1s 5ms/step - loss: 0.0021 - mean_absolute_error: 0.0106 - mean_squared_error: 4.1984e-04 - val_loss: 0.0021 - val_mean_absolute_error: 0.0107 - val_mean_squared_error: 4.1492e-04 - lr: 8.3886e-05\n",
      "Epoch 107/800\n",
      " 99/101 [============================>.] - ETA: 0s - loss: 0.0021 - mean_absolute_error: 0.0107 - mean_squared_error: 4.2676e-04\n",
      "Epoch 00107: val_mean_squared_error did not improve from 0.00040\n",
      "101/101 [==============================] - 1s 5ms/step - loss: 0.0021 - mean_absolute_error: 0.0107 - mean_squared_error: 4.2569e-04 - val_loss: 0.0020 - val_mean_absolute_error: 0.0106 - val_mean_squared_error: 4.1705e-04 - lr: 8.3886e-05\n",
      "Epoch 108/800\n",
      "100/101 [============================>.] - ETA: 0s - loss: 0.0021 - mean_absolute_error: 0.0111 - mean_squared_error: 4.4142e-04\n",
      "Epoch 00108: val_mean_squared_error did not improve from 0.00040\n",
      "101/101 [==============================] - 1s 5ms/step - loss: 0.0021 - mean_absolute_error: 0.0111 - mean_squared_error: 4.4256e-04 - val_loss: 0.0020 - val_mean_absolute_error: 0.0110 - val_mean_squared_error: 4.4573e-04 - lr: 8.3886e-05\n",
      "Epoch 109/800\n",
      "100/101 [============================>.] - ETA: 0s - loss: 0.0020 - mean_absolute_error: 0.0114 - mean_squared_error: 4.5223e-04\n",
      "Epoch 00109: val_mean_squared_error did not improve from 0.00040\n",
      "101/101 [==============================] - 1s 5ms/step - loss: 0.0020 - mean_absolute_error: 0.0114 - mean_squared_error: 4.5212e-04 - val_loss: 0.0020 - val_mean_absolute_error: 0.0122 - val_mean_squared_error: 4.6167e-04 - lr: 8.3886e-05\n",
      "Epoch 110/800\n",
      "100/101 [============================>.] - ETA: 0s - loss: 0.0020 - mean_absolute_error: 0.0114 - mean_squared_error: 4.5494e-04\n",
      "Epoch 00110: val_mean_squared_error did not improve from 0.00040\n",
      "101/101 [==============================] - 1s 5ms/step - loss: 0.0020 - mean_absolute_error: 0.0114 - mean_squared_error: 4.5466e-04 - val_loss: 0.0020 - val_mean_absolute_error: 0.0114 - val_mean_squared_error: 4.3052e-04 - lr: 8.3886e-05\n",
      "Epoch 111/800\n",
      "100/101 [============================>.] - ETA: 0s - loss: 0.0020 - mean_absolute_error: 0.0113 - mean_squared_error: 4.4307e-04\n",
      "Epoch 00111: val_mean_squared_error did not improve from 0.00040\n",
      "101/101 [==============================] - 1s 5ms/step - loss: 0.0020 - mean_absolute_error: 0.0113 - mean_squared_error: 4.4272e-04 - val_loss: 0.0020 - val_mean_absolute_error: 0.0112 - val_mean_squared_error: 4.5351e-04 - lr: 8.3886e-05\n",
      "Epoch 112/800\n",
      "100/101 [============================>.] - ETA: 0s - loss: 0.0020 - mean_absolute_error: 0.0115 - mean_squared_error: 4.5736e-04\n",
      "Epoch 00112: val_mean_squared_error did not improve from 0.00040\n",
      "101/101 [==============================] - 1s 5ms/step - loss: 0.0020 - mean_absolute_error: 0.0115 - mean_squared_error: 4.5803e-04 - val_loss: 0.0020 - val_mean_absolute_error: 0.0111 - val_mean_squared_error: 4.3717e-04 - lr: 8.3886e-05\n",
      "Epoch 113/800\n",
      "100/101 [============================>.] - ETA: 0s - loss: 0.0020 - mean_absolute_error: 0.0113 - mean_squared_error: 4.4448e-04\n",
      "Epoch 00113: ReduceLROnPlateau reducing learning rate to 6.710885791108013e-05.\n",
      "\n",
      "Epoch 00113: val_mean_squared_error did not improve from 0.00040\n",
      "101/101 [==============================] - 1s 5ms/step - loss: 0.0020 - mean_absolute_error: 0.0114 - mean_squared_error: 4.4489e-04 - val_loss: 0.0020 - val_mean_absolute_error: 0.0152 - val_mean_squared_error: 5.3449e-04 - lr: 8.3886e-05\n",
      "Epoch 00113: early stopping\n",
      "dict_keys(['loss', 'mean_absolute_error', 'mean_squared_error', 'val_loss', 'val_mean_absolute_error', 'val_mean_squared_error', 'lr'])\n"
     ]
    }
   ],
   "source": [
    "# 从这里开始训练 \n",
    "# train_neuralnetwork.py\n",
    "# settings_' + recurrent + '.toml\n",
    "src.train_neuralnetwork.train_neuralnetwork(path_dict=path_dict,\n",
    "                                            params_dict=params_dict,\n",
    "                                            nn_mode=\"recurrent\")"
   ]
  },
  {
   "cell_type": "markdown",
   "id": "2fb862c2",
   "metadata": {},
   "source": [
    "### RUN MODEL"
   ]
  },
  {
   "cell_type": "code",
   "execution_count": 6,
   "id": "990e2b7b",
   "metadata": {},
   "outputs": [
    {
     "name": "stdout",
     "output_type": "stream",
     "text": [
      "<_io.TextIOWrapper name='/home/bolin/Projects/NeuralNetwork_for_VehicleDynamicsModeling/inputs/trainingdata_simple/data_to_run.csv' mode='r' encoding='UTF-8'>\n",
      "current iteration is 0\n",
      "1500\n"
     ]
    },
    {
     "name": "stderr",
     "output_type": "stream",
     "text": [
      "100%|█████████████████████████████████████████████████████████████████████████████████████████████████████| 1495/1495 [00:16<00:00, 93.33it/s]\n",
      "  0%|                                                                                                                | 0/1495 [00:00<?, ?it/s]"
     ]
    },
    {
     "name": "stdout",
     "output_type": "stream",
     "text": [
      "TRANSFORM RESULT WITH SCALER TO PHYSICAL QUANTITIES\n",
      "<_io.TextIOWrapper name='/home/bolin/Projects/NeuralNetwork_for_VehicleDynamicsModeling/inputs/trainingdata_simple/data_to_run.csv' mode='r' encoding='UTF-8'>\n",
      "current iteration is 1\n",
      "2750\n"
     ]
    },
    {
     "name": "stderr",
     "output_type": "stream",
     "text": [
      "100%|█████████████████████████████████████████████████████████████████████████████████████████████████████| 1495/1495 [00:16<00:00, 91.63it/s]\n",
      "  0%|                                                                                                                | 0/1495 [00:00<?, ?it/s]"
     ]
    },
    {
     "name": "stdout",
     "output_type": "stream",
     "text": [
      "TRANSFORM RESULT WITH SCALER TO PHYSICAL QUANTITIES\n",
      "<_io.TextIOWrapper name='/home/bolin/Projects/NeuralNetwork_for_VehicleDynamicsModeling/inputs/trainingdata_simple/data_to_run.csv' mode='r' encoding='UTF-8'>\n",
      "current iteration is 2\n",
      "4000\n"
     ]
    },
    {
     "name": "stderr",
     "output_type": "stream",
     "text": [
      "100%|█████████████████████████████████████████████████████████████████████████████████████████████████████| 1495/1495 [00:16<00:00, 90.17it/s]\n",
      "  0%|                                                                                                                | 0/1495 [00:00<?, ?it/s]"
     ]
    },
    {
     "name": "stdout",
     "output_type": "stream",
     "text": [
      "TRANSFORM RESULT WITH SCALER TO PHYSICAL QUANTITIES\n",
      "<_io.TextIOWrapper name='/home/bolin/Projects/NeuralNetwork_for_VehicleDynamicsModeling/inputs/trainingdata_simple/data_to_run.csv' mode='r' encoding='UTF-8'>\n",
      "current iteration is 3\n",
      "5250\n"
     ]
    },
    {
     "name": "stderr",
     "output_type": "stream",
     "text": [
      "100%|█████████████████████████████████████████████████████████████████████████████████████████████████████| 1495/1495 [00:16<00:00, 90.56it/s]\n",
      "  0%|                                                                                                                | 0/1495 [00:00<?, ?it/s]"
     ]
    },
    {
     "name": "stdout",
     "output_type": "stream",
     "text": [
      "TRANSFORM RESULT WITH SCALER TO PHYSICAL QUANTITIES\n",
      "<_io.TextIOWrapper name='/home/bolin/Projects/NeuralNetwork_for_VehicleDynamicsModeling/inputs/trainingdata_simple/data_to_run.csv' mode='r' encoding='UTF-8'>\n",
      "current iteration is 4\n",
      "6500\n"
     ]
    },
    {
     "name": "stderr",
     "output_type": "stream",
     "text": [
      "100%|█████████████████████████████████████████████████████████████████████████████████████████████████████| 1495/1495 [00:17<00:00, 87.13it/s]\n",
      "  0%|                                                                                                                | 0/1495 [00:00<?, ?it/s]"
     ]
    },
    {
     "name": "stdout",
     "output_type": "stream",
     "text": [
      "TRANSFORM RESULT WITH SCALER TO PHYSICAL QUANTITIES\n",
      "<_io.TextIOWrapper name='/home/bolin/Projects/NeuralNetwork_for_VehicleDynamicsModeling/inputs/trainingdata_simple/data_to_run.csv' mode='r' encoding='UTF-8'>\n",
      "current iteration is 5\n",
      "7750\n"
     ]
    },
    {
     "name": "stderr",
     "output_type": "stream",
     "text": [
      "100%|█████████████████████████████████████████████████████████████████████████████████████████████████████| 1495/1495 [00:16<00:00, 92.48it/s]\n",
      "  0%|                                                                                                                | 0/1495 [00:00<?, ?it/s]"
     ]
    },
    {
     "name": "stdout",
     "output_type": "stream",
     "text": [
      "TRANSFORM RESULT WITH SCALER TO PHYSICAL QUANTITIES\n",
      "<_io.TextIOWrapper name='/home/bolin/Projects/NeuralNetwork_for_VehicleDynamicsModeling/inputs/trainingdata_simple/data_to_run.csv' mode='r' encoding='UTF-8'>\n",
      "current iteration is 6\n",
      "9000\n"
     ]
    },
    {
     "name": "stderr",
     "output_type": "stream",
     "text": [
      "100%|█████████████████████████████████████████████████████████████████████████████████████████████████████| 1495/1495 [00:16<00:00, 91.24it/s]\n",
      "  0%|                                                                                                                | 0/1495 [00:00<?, ?it/s]"
     ]
    },
    {
     "name": "stdout",
     "output_type": "stream",
     "text": [
      "TRANSFORM RESULT WITH SCALER TO PHYSICAL QUANTITIES\n",
      "<_io.TextIOWrapper name='/home/bolin/Projects/NeuralNetwork_for_VehicleDynamicsModeling/inputs/trainingdata_simple/data_to_run.csv' mode='r' encoding='UTF-8'>\n",
      "current iteration is 7\n",
      "10250\n"
     ]
    },
    {
     "name": "stderr",
     "output_type": "stream",
     "text": [
      "100%|█████████████████████████████████████████████████████████████████████████████████████████████████████| 1495/1495 [00:16<00:00, 89.50it/s]\n",
      "  0%|                                                                                                                | 0/1495 [00:00<?, ?it/s]"
     ]
    },
    {
     "name": "stdout",
     "output_type": "stream",
     "text": [
      "TRANSFORM RESULT WITH SCALER TO PHYSICAL QUANTITIES\n",
      "<_io.TextIOWrapper name='/home/bolin/Projects/NeuralNetwork_for_VehicleDynamicsModeling/inputs/trainingdata_simple/data_to_run.csv' mode='r' encoding='UTF-8'>\n",
      "current iteration is 8\n",
      "11500\n"
     ]
    },
    {
     "name": "stderr",
     "output_type": "stream",
     "text": [
      "100%|█████████████████████████████████████████████████████████████████████████████████████████████████████| 1495/1495 [00:16<00:00, 89.25it/s]\n",
      "  0%|                                                                                                                | 0/1495 [00:00<?, ?it/s]"
     ]
    },
    {
     "name": "stdout",
     "output_type": "stream",
     "text": [
      "TRANSFORM RESULT WITH SCALER TO PHYSICAL QUANTITIES\n",
      "<_io.TextIOWrapper name='/home/bolin/Projects/NeuralNetwork_for_VehicleDynamicsModeling/inputs/trainingdata_simple/data_to_run.csv' mode='r' encoding='UTF-8'>\n",
      "current iteration is 9\n",
      "12750\n"
     ]
    },
    {
     "name": "stderr",
     "output_type": "stream",
     "text": [
      "100%|█████████████████████████████████████████████████████████████████████████████████████████████████████| 1495/1495 [00:16<00:00, 90.49it/s]\n",
      "  0%|                                                                                                                | 0/1495 [00:00<?, ?it/s]"
     ]
    },
    {
     "name": "stdout",
     "output_type": "stream",
     "text": [
      "TRANSFORM RESULT WITH SCALER TO PHYSICAL QUANTITIES\n",
      "<_io.TextIOWrapper name='/home/bolin/Projects/NeuralNetwork_for_VehicleDynamicsModeling/inputs/trainingdata_simple/data_to_run.csv' mode='r' encoding='UTF-8'>\n",
      "current iteration is 10\n",
      "14000\n"
     ]
    },
    {
     "name": "stderr",
     "output_type": "stream",
     "text": [
      "100%|█████████████████████████████████████████████████████████████████████████████████████████████████████| 1495/1495 [00:16<00:00, 91.50it/s]\n",
      "  0%|                                                                                                                | 0/1495 [00:00<?, ?it/s]"
     ]
    },
    {
     "name": "stdout",
     "output_type": "stream",
     "text": [
      "TRANSFORM RESULT WITH SCALER TO PHYSICAL QUANTITIES\n",
      "<_io.TextIOWrapper name='/home/bolin/Projects/NeuralNetwork_for_VehicleDynamicsModeling/inputs/trainingdata_simple/data_to_run.csv' mode='r' encoding='UTF-8'>\n",
      "current iteration is 11\n",
      "15250\n"
     ]
    },
    {
     "name": "stderr",
     "output_type": "stream",
     "text": [
      "100%|█████████████████████████████████████████████████████████████████████████████████████████████████████| 1495/1495 [00:16<00:00, 89.41it/s]\n",
      "  0%|                                                                                                                | 0/1495 [00:00<?, ?it/s]"
     ]
    },
    {
     "name": "stdout",
     "output_type": "stream",
     "text": [
      "TRANSFORM RESULT WITH SCALER TO PHYSICAL QUANTITIES\n",
      "<_io.TextIOWrapper name='/home/bolin/Projects/NeuralNetwork_for_VehicleDynamicsModeling/inputs/trainingdata_simple/data_to_run.csv' mode='r' encoding='UTF-8'>\n",
      "current iteration is 12\n",
      "16500\n"
     ]
    },
    {
     "name": "stderr",
     "output_type": "stream",
     "text": [
      "100%|█████████████████████████████████████████████████████████████████████████████████████████████████████| 1495/1495 [00:16<00:00, 89.86it/s]\n",
      "  0%|                                                                                                                | 0/1495 [00:00<?, ?it/s]"
     ]
    },
    {
     "name": "stdout",
     "output_type": "stream",
     "text": [
      "TRANSFORM RESULT WITH SCALER TO PHYSICAL QUANTITIES\n",
      "<_io.TextIOWrapper name='/home/bolin/Projects/NeuralNetwork_for_VehicleDynamicsModeling/inputs/trainingdata_simple/data_to_run.csv' mode='r' encoding='UTF-8'>\n",
      "current iteration is 13\n",
      "17750\n"
     ]
    },
    {
     "name": "stderr",
     "output_type": "stream",
     "text": [
      "100%|█████████████████████████████████████████████████████████████████████████████████████████████████████| 1495/1495 [00:16<00:00, 88.08it/s]"
     ]
    },
    {
     "name": "stdout",
     "output_type": "stream",
     "text": [
      "TRANSFORM RESULT WITH SCALER TO PHYSICAL QUANTITIES\n"
     ]
    },
    {
     "name": "stderr",
     "output_type": "stream",
     "text": [
      "\n"
     ]
    }
   ],
   "source": [
    " for i_count in range(0, params_dict['Test']['n_test']):\n",
    "\n",
    "    idx_start = params_dict['Test']['run_timestart'] + i_count * params_dict['Test']['iteration_step']\n",
    "\n",
    "    #print(params_dict['NeuralNetwork_Settings']['output_shape'])\n",
    "        \n",
    "    input_shape = params_dict['NeuralNetwork_Settings']['input_shape']\n",
    "    output_shape = params_dict['NeuralNetwork_Settings']['output_shape']\n",
    "    input_timesteps = params_dict['NeuralNetwork_Settings']['input_timesteps']\n",
    "    path2model = path_dict['filepath2results_trainedmodel_recurr']\n",
    "    path2scaler = path_dict['filepath2scaler_save']\n",
    "    \n",
    "    nn_mode=\"recurrent\"\n",
    "\n",
    "    \n",
    "    with open(path_dict['filepath2inputs_testdata'] + '.csv', 'r') as fh:\n",
    "        print(fh)\n",
    "        data = np.loadtxt(fh, delimiter=',')\n",
    "    \n",
    "    # scale dataset the vanish effects of different input data quantities\n",
    "    data = src.prepare_data.scaler_run(path2scaler=path2scaler,\n",
    "                                       params_dict=params_dict,\n",
    "                                       dataset=data)\n",
    "    #print(data)\n",
    "    #print(data[0])\n",
    "    #print(data[0,3])\n",
    "    #print(idx_start)\n",
    "    print(\"current iteration is \"+ str(i_count))\n",
    "    #print(params_dict['Test']['run_timespan'])\n",
    "    print(idx_start + params_dict['Test']['run_timespan'])\n",
    "    duration = params_dict['Test']['run_timespan']\n",
    "    \n",
    "    #print(data[idx_start + input_timesteps:idx_start + duration,2])\n",
    "    #print(data[idx_start + input_timesteps:idx_start + duration,3])\n",
    "\n",
    "    # create_dataset_separation_run\n",
    "    initials = data[idx_start:idx_start + input_timesteps, :]\n",
    "\n",
    "\n",
    "    # nn_mode == \"recurrent\":\n",
    "    initials = np.reshape(initials, (1, input_timesteps, input_shape))\n",
    "\n",
    "    # get vehicle input data of test data file\n",
    "\n",
    "    acc               = data[idx_start + input_timesteps:idx_start + duration, output_shape]\n",
    "    steeringangle_rad = data[idx_start + input_timesteps:idx_start + duration, output_shape + 1]\n",
    "    \n",
    "    \n",
    "    \n",
    "    model = keras.models.load_model(path2model)\n",
    "    results = np.zeros((len(acc) + input_timesteps, input_shape))\n",
    "    \n",
    "    new_input = np.zeros((1, input_timesteps, input_shape))\n",
    "    results[0:input_timesteps, :] = initials[0, :, :]\n",
    "\n",
    "\n",
    "    for i_count in tqdm(range(0, len(acc))):\n",
    "\n",
    "        if i_count == 0:\n",
    "            data_convert = initials\n",
    "\n",
    "        else:\n",
    "            data_convert = new_input\n",
    "\n",
    "        result_process = model.predict(data_convert)\n",
    "        results[i_count + input_timesteps, 0:output_shape] = result_process\n",
    "\n",
    "        temp = np.zeros((1, input_timesteps, input_shape))\n",
    "        temp[0, 0:input_timesteps - 1, :] = data_convert[0, 1:input_timesteps, :]\n",
    "\n",
    "        temp[0, input_timesteps - 1, 0:output_shape] = result_process\n",
    "        temp[0, input_timesteps - 1, output_shape + 1] = steeringangle_rad[i_count]\n",
    "\n",
    "        new_input = temp\n",
    "\n",
    "    results[:, output_shape:input_shape] = data[idx_start:idx_start + len(steeringangle_rad) + input_timesteps,\n",
    "                                                output_shape:input_shape]\n",
    "\n",
    "    results = src.prepare_data.scaler_reverse(path2scaler=path2scaler,\n",
    "                                              params_dict=params_dict,\n",
    "                                              dataset=results)\n",
    "    np.savetxt(os.path.join(path_dict['path2results_matfiles'], 'prediction_result_' + nn_mode + str(i_count) + '.csv'),\n",
    "               results)"
   ]
  },
  {
   "cell_type": "code",
   "execution_count": 7,
   "id": "a9243f6b",
   "metadata": {},
   "outputs": [
    {
     "name": "stdout",
     "output_type": "stream",
     "text": [
      "\n",
      "\n",
      "MSE AND MAE OF UNSCALED VALUES: Test No. 1494\n",
      "                      yaw rate  long. vel. vx\n",
      "            MSE        0.04599       37.01862\n",
      "            MAE        0.17152        5.30897\n",
      "MSE AND MAE OF SCALED VALUES: Test No. 1494\n",
      "            MSE        0.11928        0.37635\n",
      "            MAE        0.27623         0.5353\n",
      "\n",
      "\n"
     ]
    }
   ],
   "source": [
    "    # save and plot results (if activated in parameter file)\n",
    "    visualization.plot_results.plot_run(path_dict=path_dict,\n",
    "                                        params_dict=params_dict,\n",
    "                                        counter=i_count,\n",
    "                                        start=idx_start)\n"
   ]
  },
  {
   "cell_type": "code",
   "execution_count": null,
   "id": "7d76e9b8",
   "metadata": {},
   "outputs": [],
   "source": []
  }
 ],
 "metadata": {
  "kernelspec": {
   "display_name": "Python 3 (ipykernel)",
   "language": "python",
   "name": "python3"
  },
  "language_info": {
   "codemirror_mode": {
    "name": "ipython",
    "version": 3
   },
   "file_extension": ".py",
   "mimetype": "text/x-python",
   "name": "python",
   "nbconvert_exporter": "python",
   "pygments_lexer": "ipython3",
   "version": "3.7.16"
  }
 },
 "nbformat": 4,
 "nbformat_minor": 5
}
