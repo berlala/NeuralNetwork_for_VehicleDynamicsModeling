{
 "cells": [
  {
   "cell_type": "code",
   "execution_count": 1,
   "id": "fbc6b7a2",
   "metadata": {},
   "outputs": [],
   "source": [
    "import numpy as np\n",
    "import sys\n",
    "import random\n",
    "\n",
    "# custom modules\n",
    "import helper_funcs_NN\n",
    "import src\n",
    "import visualization\n",
    "\n",
    "from tensorflow import keras\n",
    "from tqdm import tqdm\n",
    "import os.path\n"
   ]
  },
  {
   "cell_type": "code",
   "execution_count": 2,
   "id": "725d8ae9",
   "metadata": {},
   "outputs": [],
   "source": [
    "random.seed(7)\n",
    "np.random.seed(7)"
   ]
  },
  {
   "cell_type": "code",
   "execution_count": 3,
   "id": "83ccb5f8",
   "metadata": {},
   "outputs": [],
   "source": [
    "path_dict = helper_funcs_NN.src.manage_paths.manage_paths()\n",
    "\n",
    "# helper_funcs_NN.src.manage_paths.manage_paths() 获取所有路径\n",
    "# data_to_train  path2inputs_trainingdata是训练集文件夹\n",
    "# keras_model_recurrent.h5\n"
   ]
  },
  {
   "cell_type": "code",
   "execution_count": 4,
   "id": "f032b1a7",
   "metadata": {},
   "outputs": [],
   "source": [
    "params_dict = helper_funcs_NN.src.handle_params.handle_params(path_dict=path_dict)\n",
    "# parameters.toml is the configuration "
   ]
  },
  {
   "cell_type": "code",
   "execution_count": 5,
   "id": "9023564b",
   "metadata": {},
   "outputs": [
    {
     "name": "stdout",
     "output_type": "stream",
     "text": [
      "SAVE SETTINGS\n",
      "LOAD AND SCALE DATA\n",
      "LOADING DATA DONE\n",
      "USE STANDARD SCALER\n",
      "CREATE NEW MODEL\n",
      "CREATE RECURRENT NEURAL NETWORK\n"
     ]
    },
    {
     "name": "stderr",
     "output_type": "stream",
     "text": [
      "2024-04-15 19:52:14.595053: I tensorflow/stream_executor/platform/default/dso_loader.cc:44] Successfully opened dynamic library libcuda.so.1\n",
      "2024-04-15 19:52:14.624229: I tensorflow/stream_executor/cuda/cuda_gpu_executor.cc:981] successful NUMA node read from SysFS had negative value (-1), but there must be at least one NUMA node, so returning NUMA node zero\n",
      "2024-04-15 19:52:14.624331: I tensorflow/core/common_runtime/gpu/gpu_device.cc:1561] Found device 0 with properties: \n",
      "pciBusID: 0000:01:00.0 name: NVIDIA GeForce RTX 3080 Laptop GPU computeCapability: 8.6\n",
      "coreClock: 1.545GHz coreCount: 48 deviceMemorySize: 15.74GiB deviceMemoryBandwidth: 417.29GiB/s\n",
      "2024-04-15 19:52:14.624474: W tensorflow/stream_executor/platform/default/dso_loader.cc:55] Could not load dynamic library 'libcudart.so.10.1'; dlerror: libcudart.so.10.1: cannot open shared object file: No such file or directory\n",
      "2024-04-15 19:52:14.624508: W tensorflow/stream_executor/platform/default/dso_loader.cc:55] Could not load dynamic library 'libcublas.so.10'; dlerror: libcublas.so.10: cannot open shared object file: No such file or directory\n",
      "2024-04-15 19:52:14.624536: W tensorflow/stream_executor/platform/default/dso_loader.cc:55] Could not load dynamic library 'libcufft.so.10'; dlerror: libcufft.so.10: cannot open shared object file: No such file or directory\n",
      "2024-04-15 19:52:14.624564: W tensorflow/stream_executor/platform/default/dso_loader.cc:55] Could not load dynamic library 'libcurand.so.10'; dlerror: libcurand.so.10: cannot open shared object file: No such file or directory\n",
      "2024-04-15 19:52:14.624593: W tensorflow/stream_executor/platform/default/dso_loader.cc:55] Could not load dynamic library 'libcusolver.so.10'; dlerror: libcusolver.so.10: cannot open shared object file: No such file or directory\n",
      "2024-04-15 19:52:14.624622: W tensorflow/stream_executor/platform/default/dso_loader.cc:55] Could not load dynamic library 'libcusparse.so.10'; dlerror: libcusparse.so.10: cannot open shared object file: No such file or directory\n",
      "2024-04-15 19:52:14.624650: W tensorflow/stream_executor/platform/default/dso_loader.cc:55] Could not load dynamic library 'libcudnn.so.7'; dlerror: libcudnn.so.7: cannot open shared object file: No such file or directory\n",
      "2024-04-15 19:52:14.624655: W tensorflow/core/common_runtime/gpu/gpu_device.cc:1598] Cannot dlopen some GPU libraries. Please make sure the missing libraries mentioned above are installed properly if you would like to use GPU. Follow the guide at https://www.tensorflow.org/install/gpu for how to download and setup the required libraries for your platform.\n",
      "Skipping registering GPU devices...\n",
      "2024-04-15 19:52:14.625257: I tensorflow/core/platform/cpu_feature_guard.cc:143] Your CPU supports instructions that this TensorFlow binary was not compiled to use: AVX2 AVX512F FMA\n",
      "2024-04-15 19:52:14.647093: I tensorflow/core/platform/profile_utils/cpu_utils.cc:102] CPU Frequency: 2304000000 Hz\n",
      "2024-04-15 19:52:14.648285: I tensorflow/compiler/xla/service/service.cc:168] XLA service 0x7f79b0000b60 initialized for platform Host (this does not guarantee that XLA will be used). Devices:\n",
      "2024-04-15 19:52:14.648318: I tensorflow/compiler/xla/service/service.cc:176]   StreamExecutor device (0): Host, Default Version\n",
      "2024-04-15 19:52:14.650076: I tensorflow/core/common_runtime/gpu/gpu_device.cc:1102] Device interconnect StreamExecutor with strength 1 edge matrix:\n",
      "2024-04-15 19:52:14.650102: I tensorflow/core/common_runtime/gpu/gpu_device.cc:1108]      \n"
     ]
    },
    {
     "name": "stdout",
     "output_type": "stream",
     "text": [
      "Model: \"sequential\"\n",
      "_________________________________________________________________\n",
      "Layer (type)                 Output Shape              Param #   \n",
      "=================================================================\n",
      "gru (GRU)                    (None, 150)               70200     \n",
      "_________________________________________________________________\n",
      "dense (Dense)                (None, 150)               22650     \n",
      "_________________________________________________________________\n",
      "dense_1 (Dense)              (None, 2)                 302       \n",
      "=================================================================\n",
      "Total params: 93,152\n",
      "Trainable params: 93,152\n",
      "Non-trainable params: 0\n",
      "_________________________________________________________________\n",
      "Epoch 1/800\n",
      "44/46 [===========================>..] - ETA: 0s - loss: 1.3843 - mean_absolute_error: 0.2182 - mean_squared_error: 0.2011\n",
      "Epoch 00001: val_mean_squared_error improved from inf to 0.03390, saving model to /home/bolin/Projects/NeuralNetwork_for_VehicleDynamicsModeling/outputs/2024_04_15/19_52_14/keras_model_recurrent.h5\n",
      "46/46 [==============================] - 1s 20ms/step - loss: 1.3762 - mean_absolute_error: 0.2136 - mean_squared_error: 0.1939 - val_loss: 1.1972 - val_mean_absolute_error: 0.1220 - val_mean_squared_error: 0.0339 - lr: 4.0000e-04\n",
      "Epoch 2/800\n",
      "45/46 [============================>.] - ETA: 0s - loss: 1.1645 - mean_absolute_error: 0.0867 - mean_squared_error: 0.0209\n",
      "Epoch 00002: val_mean_squared_error improved from 0.03390 to 0.01593, saving model to /home/bolin/Projects/NeuralNetwork_for_VehicleDynamicsModeling/outputs/2024_04_15/19_52_14/keras_model_recurrent.h5\n",
      "46/46 [==============================] - 1s 15ms/step - loss: 1.1639 - mean_absolute_error: 0.0867 - mean_squared_error: 0.0208 - val_loss: 1.1379 - val_mean_absolute_error: 0.0859 - val_mean_squared_error: 0.0159 - lr: 4.0000e-04\n",
      "Epoch 3/800\n",
      "42/46 [==========================>...] - ETA: 0s - loss: 1.1153 - mean_absolute_error: 0.0652 - mean_squared_error: 0.0117\n",
      "Epoch 00003: val_mean_squared_error improved from 0.01593 to 0.01095, saving model to /home/bolin/Projects/NeuralNetwork_for_VehicleDynamicsModeling/outputs/2024_04_15/19_52_14/keras_model_recurrent.h5\n",
      "46/46 [==============================] - 1s 15ms/step - loss: 1.1135 - mean_absolute_error: 0.0662 - mean_squared_error: 0.0117 - val_loss: 1.0918 - val_mean_absolute_error: 0.0721 - val_mean_squared_error: 0.0109 - lr: 4.0000e-04\n",
      "Epoch 4/800\n",
      "46/46 [==============================] - ETA: 0s - loss: 1.0711 - mean_absolute_error: 0.0626 - mean_squared_error: 0.0100\n",
      "Epoch 00004: val_mean_squared_error improved from 0.01095 to 0.00582, saving model to /home/bolin/Projects/NeuralNetwork_for_VehicleDynamicsModeling/outputs/2024_04_15/19_52_14/keras_model_recurrent.h5\n",
      "46/46 [==============================] - 1s 15ms/step - loss: 1.0711 - mean_absolute_error: 0.0626 - mean_squared_error: 0.0100 - val_loss: 1.0465 - val_mean_absolute_error: 0.0413 - val_mean_squared_error: 0.0058 - lr: 4.0000e-04\n",
      "Epoch 5/800\n",
      "45/46 [============================>.] - ETA: 0s - loss: 1.0312 - mean_absolute_error: 0.0676 - mean_squared_error: 0.0095\n",
      "Epoch 00005: val_mean_squared_error did not improve from 0.00582\n",
      "46/46 [==============================] - 1s 14ms/step - loss: 1.0310 - mean_absolute_error: 0.0683 - mean_squared_error: 0.0097 - val_loss: 1.0168 - val_mean_absolute_error: 0.1034 - val_mean_squared_error: 0.0153 - lr: 4.0000e-04\n",
      "Epoch 6/800\n",
      "45/46 [============================>.] - ETA: 0s - loss: 0.9912 - mean_absolute_error: 0.0577 - mean_squared_error: 0.0078\n",
      "Epoch 00006: val_mean_squared_error improved from 0.00582 to 0.00345, saving model to /home/bolin/Projects/NeuralNetwork_for_VehicleDynamicsModeling/outputs/2024_04_15/19_52_14/keras_model_recurrent.h5\n",
      "46/46 [==============================] - 1s 15ms/step - loss: 0.9907 - mean_absolute_error: 0.0571 - mean_squared_error: 0.0077 - val_loss: 0.9673 - val_mean_absolute_error: 0.0297 - val_mean_squared_error: 0.0034 - lr: 4.0000e-04\n",
      "Epoch 7/800\n",
      "46/46 [==============================] - ETA: 0s - loss: 0.9529 - mean_absolute_error: 0.0596 - mean_squared_error: 0.0072\n",
      "Epoch 00007: val_mean_squared_error did not improve from 0.00345\n",
      "46/46 [==============================] - 1s 14ms/step - loss: 0.9529 - mean_absolute_error: 0.0596 - mean_squared_error: 0.0072 - val_loss: 0.9323 - val_mean_absolute_error: 0.0513 - val_mean_squared_error: 0.0052 - lr: 4.0000e-04\n",
      "Epoch 8/800\n",
      "44/46 [===========================>..] - ETA: 0s - loss: 0.9179 - mean_absolute_error: 0.0664 - mean_squared_error: 0.0075\n",
      "Epoch 00008: val_mean_squared_error did not improve from 0.00345\n",
      "46/46 [==============================] - 1s 14ms/step - loss: 0.9171 - mean_absolute_error: 0.0657 - mean_squared_error: 0.0074 - val_loss: 0.8956 - val_mean_absolute_error: 0.0445 - val_mean_squared_error: 0.0039 - lr: 4.0000e-04\n",
      "Epoch 9/800\n",
      "44/46 [===========================>..] - ETA: 0s - loss: 0.8783 - mean_absolute_error: 0.0307 - mean_squared_error: 0.0027\n",
      "Epoch 00009: val_mean_squared_error did not improve from 0.00345\n",
      "46/46 [==============================] - 1s 14ms/step - loss: 0.8776 - mean_absolute_error: 0.0314 - mean_squared_error: 0.0028 - val_loss: 0.8620 - val_mean_absolute_error: 0.0530 - val_mean_squared_error: 0.0046 - lr: 4.0000e-04\n",
      "Epoch 10/800\n",
      "44/46 [===========================>..] - ETA: 0s - loss: 0.8499 - mean_absolute_error: 0.0733 - mean_squared_error: 0.0082\n",
      "Epoch 00010: val_mean_squared_error did not improve from 0.00345\n",
      "46/46 [==============================] - 1s 14ms/step - loss: 0.8491 - mean_absolute_error: 0.0727 - mean_squared_error: 0.0080 - val_loss: 0.8301 - val_mean_absolute_error: 0.0631 - val_mean_squared_error: 0.0058 - lr: 4.0000e-04\n",
      "Epoch 11/800\n",
      "46/46 [==============================] - ETA: 0s - loss: 0.8128 - mean_absolute_error: 0.0510 - mean_squared_error: 0.0042\n",
      "Epoch 00011: val_mean_squared_error improved from 0.00345 to 0.00266, saving model to /home/bolin/Projects/NeuralNetwork_for_VehicleDynamicsModeling/outputs/2024_04_15/19_52_14/keras_model_recurrent.h5\n",
      "46/46 [==============================] - 1s 15ms/step - loss: 0.8128 - mean_absolute_error: 0.0510 - mean_squared_error: 0.0042 - val_loss: 0.7951 - val_mean_absolute_error: 0.0381 - val_mean_squared_error: 0.0027 - lr: 4.0000e-04\n",
      "Epoch 12/800\n",
      "45/46 [============================>.] - ETA: 0s - loss: 0.7804 - mean_absolute_error: 0.0393 - mean_squared_error: 0.0029\n",
      "Epoch 00012: val_mean_squared_error did not improve from 0.00266\n",
      "46/46 [==============================] - 1s 14ms/step - loss: 0.7801 - mean_absolute_error: 0.0397 - mean_squared_error: 0.0029 - val_loss: 0.7670 - val_mean_absolute_error: 0.0609 - val_mean_squared_error: 0.0056 - lr: 4.0000e-04\n",
      "Epoch 13/800\n",
      "45/46 [============================>.] - ETA: 0s - loss: 0.7539 - mean_absolute_error: 0.0634 - mean_squared_error: 0.0068\n",
      "Epoch 00013: val_mean_squared_error did not improve from 0.00266\n",
      "46/46 [==============================] - 1s 14ms/step - loss: 0.7535 - mean_absolute_error: 0.0630 - mean_squared_error: 0.0067 - val_loss: 0.7350 - val_mean_absolute_error: 0.0434 - val_mean_squared_error: 0.0032 - lr: 4.0000e-04\n",
      "Epoch 14/800\n",
      "45/46 [============================>.] - ETA: 0s - loss: 0.7210 - mean_absolute_error: 0.0392 - mean_squared_error: 0.0030\n",
      "Epoch 00014: val_mean_squared_error improved from 0.00266 to 0.00168, saving model to /home/bolin/Projects/NeuralNetwork_for_VehicleDynamicsModeling/outputs/2024_04_15/19_52_14/keras_model_recurrent.h5\n",
      "46/46 [==============================] - 1s 15ms/step - loss: 0.7206 - mean_absolute_error: 0.0390 - mean_squared_error: 0.0030 - val_loss: 0.7047 - val_mean_absolute_error: 0.0292 - val_mean_squared_error: 0.0017 - lr: 4.0000e-04\n",
      "Epoch 15/800\n",
      "45/46 [============================>.] - ETA: 0s - loss: 0.6929 - mean_absolute_error: 0.0440 - mean_squared_error: 0.0032\n",
      "Epoch 00015: val_mean_squared_error did not improve from 0.00168\n",
      "46/46 [==============================] - 1s 14ms/step - loss: 0.6926 - mean_absolute_error: 0.0443 - mean_squared_error: 0.0032 - val_loss: 0.6796 - val_mean_absolute_error: 0.0561 - val_mean_squared_error: 0.0043 - lr: 4.0000e-04\n",
      "Epoch 16/800\n"
     ]
    },
    {
     "name": "stdout",
     "output_type": "stream",
     "text": [
      "44/46 [===========================>..] - ETA: 0s - loss: 0.6690 - mean_absolute_error: 0.0626 - mean_squared_error: 0.0063\n",
      "Epoch 00016: val_mean_squared_error did not improve from 0.00168\n",
      "46/46 [==============================] - 1s 14ms/step - loss: 0.6683 - mean_absolute_error: 0.0623 - mean_squared_error: 0.0063 - val_loss: 0.6527 - val_mean_absolute_error: 0.0526 - val_mean_squared_error: 0.0042 - lr: 4.0000e-04\n",
      "Epoch 17/800\n",
      "45/46 [============================>.] - ETA: 0s - loss: 0.6379 - mean_absolute_error: 0.0298 - mean_squared_error: 0.0018\n",
      "Epoch 00017: val_mean_squared_error improved from 0.00168 to 0.00152, saving model to /home/bolin/Projects/NeuralNetwork_for_VehicleDynamicsModeling/outputs/2024_04_15/19_52_14/keras_model_recurrent.h5\n",
      "46/46 [==============================] - 1s 14ms/step - loss: 0.6376 - mean_absolute_error: 0.0298 - mean_squared_error: 0.0017 - val_loss: 0.6243 - val_mean_absolute_error: 0.0289 - val_mean_squared_error: 0.0015 - lr: 4.0000e-04\n",
      "Epoch 18/800\n",
      "46/46 [==============================] - ETA: 0s - loss: 0.6130 - mean_absolute_error: 0.0380 - mean_squared_error: 0.0024\n",
      "Epoch 00018: val_mean_squared_error did not improve from 0.00152\n",
      "46/46 [==============================] - 1s 14ms/step - loss: 0.6130 - mean_absolute_error: 0.0380 - mean_squared_error: 0.0024 - val_loss: 0.6048 - val_mean_absolute_error: 0.0682 - val_mean_squared_error: 0.0069 - lr: 4.0000e-04\n",
      "Epoch 19/800\n",
      "43/46 [===========================>..] - ETA: 0s - loss: 0.5924 - mean_absolute_error: 0.0614 - mean_squared_error: 0.0055\n",
      "Epoch 00019: val_mean_squared_error did not improve from 0.00152\n",
      "46/46 [==============================] - 1s 14ms/step - loss: 0.5918 - mean_absolute_error: 0.0623 - mean_squared_error: 0.0057 - val_loss: 0.5826 - val_mean_absolute_error: 0.0732 - val_mean_squared_error: 0.0086 - lr: 4.0000e-04\n",
      "Epoch 20/800\n",
      "43/46 [===========================>..] - ETA: 0s - loss: 0.5665 - mean_absolute_error: 0.0368 - mean_squared_error: 0.0031\n",
      "Epoch 00020: val_mean_squared_error improved from 0.00152 to 0.00088, saving model to /home/bolin/Projects/NeuralNetwork_for_VehicleDynamicsModeling/outputs/2024_04_15/19_52_14/keras_model_recurrent.h5\n",
      "46/46 [==============================] - 1s 14ms/step - loss: 0.5657 - mean_absolute_error: 0.0356 - mean_squared_error: 0.0030 - val_loss: 0.5519 - val_mean_absolute_error: 0.0186 - val_mean_squared_error: 8.8277e-04 - lr: 4.0000e-04\n",
      "Epoch 21/800\n",
      "44/46 [===========================>..] - ETA: 0s - loss: 0.5414 - mean_absolute_error: 0.0182 - mean_squared_error: 8.6815e-04\n",
      "Epoch 00021: val_mean_squared_error did not improve from 0.00088\n",
      "46/46 [==============================] - 1s 14ms/step - loss: 0.5410 - mean_absolute_error: 0.0185 - mean_squared_error: 8.8141e-04 - val_loss: 0.5299 - val_mean_absolute_error: 0.0242 - val_mean_squared_error: 0.0011 - lr: 4.0000e-04\n",
      "Epoch 22/800\n",
      "46/46 [==============================] - ETA: 0s - loss: 0.5226 - mean_absolute_error: 0.0490 - mean_squared_error: 0.0044\n",
      "Epoch 00022: val_mean_squared_error did not improve from 0.00088\n",
      "46/46 [==============================] - 1s 14ms/step - loss: 0.5226 - mean_absolute_error: 0.0490 - mean_squared_error: 0.0044 - val_loss: 0.5084 - val_mean_absolute_error: 0.0245 - val_mean_squared_error: 0.0011 - lr: 4.0000e-04\n",
      "Epoch 23/800\n",
      "42/46 [==========================>...] - ETA: 0s - loss: 0.4988 - mean_absolute_error: 0.0185 - mean_squared_error: 8.2556e-04\n",
      "Epoch 00023: val_mean_squared_error improved from 0.00088 to 0.00078, saving model to /home/bolin/Projects/NeuralNetwork_for_VehicleDynamicsModeling/outputs/2024_04_15/19_52_14/keras_model_recurrent.h5\n",
      "46/46 [==============================] - 1s 15ms/step - loss: 0.4979 - mean_absolute_error: 0.0183 - mean_squared_error: 8.1353e-04 - val_loss: 0.4873 - val_mean_absolute_error: 0.0174 - val_mean_squared_error: 7.7794e-04 - lr: 4.0000e-04\n",
      "Epoch 24/800\n",
      "45/46 [============================>.] - ETA: 0s - loss: 0.4830 - mean_absolute_error: 0.0567 - mean_squared_error: 0.0061\n",
      "Epoch 00024: val_mean_squared_error did not improve from 0.00078\n",
      "46/46 [==============================] - 1s 14ms/step - loss: 0.4827 - mean_absolute_error: 0.0561 - mean_squared_error: 0.0060 - val_loss: 0.4678 - val_mean_absolute_error: 0.0253 - val_mean_squared_error: 0.0012 - lr: 4.0000e-04\n",
      "Epoch 25/800\n",
      "46/46 [==============================] - ETA: 0s - loss: 0.4584 - mean_absolute_error: 0.0245 - mean_squared_error: 0.0012\n",
      "Epoch 00025: val_mean_squared_error did not improve from 0.00078\n",
      "46/46 [==============================] - 1s 15ms/step - loss: 0.4584 - mean_absolute_error: 0.0245 - mean_squared_error: 0.0012 - val_loss: 0.4498 - val_mean_absolute_error: 0.0388 - val_mean_squared_error: 0.0023 - lr: 4.0000e-04\n",
      "Epoch 26/800\n",
      "46/46 [==============================] - ETA: 0s - loss: 0.4420 - mean_absolute_error: 0.0430 - mean_squared_error: 0.0036\n",
      "Epoch 00026: val_mean_squared_error did not improve from 0.00078\n",
      "46/46 [==============================] - 1s 14ms/step - loss: 0.4420 - mean_absolute_error: 0.0430 - mean_squared_error: 0.0036 - val_loss: 0.4302 - val_mean_absolute_error: 0.0256 - val_mean_squared_error: 0.0012 - lr: 4.0000e-04\n",
      "Epoch 27/800\n",
      "45/46 [============================>.] - ETA: 0s - loss: 0.4211 - mean_absolute_error: 0.0159 - mean_squared_error: 6.7202e-04\n",
      "Epoch 00027: val_mean_squared_error improved from 0.00078 to 0.00063, saving model to /home/bolin/Projects/NeuralNetwork_for_VehicleDynamicsModeling/outputs/2024_04_15/19_52_14/keras_model_recurrent.h5\n",
      "46/46 [==============================] - 1s 15ms/step - loss: 0.4209 - mean_absolute_error: 0.0159 - mean_squared_error: 6.6929e-04 - val_loss: 0.4119 - val_mean_absolute_error: 0.0158 - val_mean_squared_error: 6.2792e-04 - lr: 4.0000e-04\n",
      "Epoch 28/800\n",
      "43/46 [===========================>..] - ETA: 0s - loss: 0.4054 - mean_absolute_error: 0.0333 - mean_squared_error: 0.0021\n",
      "Epoch 00028: val_mean_squared_error did not improve from 0.00063\n",
      "46/46 [==============================] - 1s 14ms/step - loss: 0.4049 - mean_absolute_error: 0.0340 - mean_squared_error: 0.0022 - val_loss: 0.3972 - val_mean_absolute_error: 0.0434 - val_mean_squared_error: 0.0032 - lr: 4.0000e-04\n",
      "Epoch 29/800\n",
      "46/46 [==============================] - ETA: 0s - loss: 0.3892 - mean_absolute_error: 0.0442 - mean_squared_error: 0.0032\n",
      "Epoch 00029: val_mean_squared_error did not improve from 0.00063\n",
      "46/46 [==============================] - 1s 14ms/step - loss: 0.3892 - mean_absolute_error: 0.0442 - mean_squared_error: 0.0032 - val_loss: 0.3809 - val_mean_absolute_error: 0.0494 - val_mean_squared_error: 0.0034 - lr: 4.0000e-04\n",
      "Epoch 30/800\n",
      "43/46 [===========================>..] - ETA: 0s - loss: 0.3725 - mean_absolute_error: 0.0338 - mean_squared_error: 0.0022\n",
      "Epoch 00030: val_mean_squared_error improved from 0.00063 to 0.00053, saving model to /home/bolin/Projects/NeuralNetwork_for_VehicleDynamicsModeling/outputs/2024_04_15/19_52_14/keras_model_recurrent.h5\n",
      "46/46 [==============================] - 1s 14ms/step - loss: 0.3718 - mean_absolute_error: 0.0326 - mean_squared_error: 0.0021 - val_loss: 0.3622 - val_mean_absolute_error: 0.0142 - val_mean_squared_error: 5.3003e-04 - lr: 4.0000e-04\n",
      "Epoch 31/800\n",
      "42/46 [==========================>...] - ETA: 0s - loss: 0.3556 - mean_absolute_error: 0.0180 - mean_squared_error: 7.4659e-04\n",
      "Epoch 00031: val_mean_squared_error did not improve from 0.00053\n",
      "46/46 [==============================] - 1s 14ms/step - loss: 0.3550 - mean_absolute_error: 0.0190 - mean_squared_error: 8.1017e-04 - val_loss: 0.3481 - val_mean_absolute_error: 0.0330 - val_mean_squared_error: 0.0017 - lr: 4.0000e-04\n",
      "Epoch 32/800\n",
      "45/46 [============================>.] - ETA: 0s - loss: 0.3425 - mean_absolute_error: 0.0443 - mean_squared_error: 0.0032\n",
      "Epoch 00032: val_mean_squared_error did not improve from 0.00053\n",
      "46/46 [==============================] - 1s 14ms/step - loss: 0.3424 - mean_absolute_error: 0.0439 - mean_squared_error: 0.0032 - val_loss: 0.3329 - val_mean_absolute_error: 0.0233 - val_mean_squared_error: 0.0012 - lr: 4.0000e-04\n",
      "Epoch 33/800\n"
     ]
    },
    {
     "name": "stdout",
     "output_type": "stream",
     "text": [
      "43/46 [===========================>..] - ETA: 0s - loss: 0.3262 - mean_absolute_error: 0.0231 - mean_squared_error: 0.0011    \n",
      "Epoch 00033: val_mean_squared_error did not improve from 0.00053\n",
      "46/46 [==============================] - 1s 14ms/step - loss: 0.3258 - mean_absolute_error: 0.0240 - mean_squared_error: 0.0011 - val_loss: 0.3198 - val_mean_absolute_error: 0.0410 - val_mean_squared_error: 0.0023 - lr: 4.0000e-04\n",
      "Epoch 34/800\n",
      "43/46 [===========================>..] - ETA: 0s - loss: 0.3139 - mean_absolute_error: 0.0438 - mean_squared_error: 0.0027\n",
      "Epoch 00034: val_mean_squared_error did not improve from 0.00053\n",
      "46/46 [==============================] - 1s 14ms/step - loss: 0.3133 - mean_absolute_error: 0.0424 - mean_squared_error: 0.0026 - val_loss: 0.3046 - val_mean_absolute_error: 0.0209 - val_mean_squared_error: 7.6982e-04 - lr: 4.0000e-04\n",
      "Epoch 35/800\n",
      "46/46 [==============================] - ETA: 0s - loss: 0.2980 - mean_absolute_error: 0.0165 - mean_squared_error: 6.2435e-04\n",
      "Epoch 00035: val_mean_squared_error did not improve from 0.00053\n",
      "46/46 [==============================] - 1s 14ms/step - loss: 0.2980 - mean_absolute_error: 0.0165 - mean_squared_error: 6.2435e-04 - val_loss: 0.2918 - val_mean_absolute_error: 0.0248 - val_mean_squared_error: 0.0010 - lr: 4.0000e-04\n",
      "Epoch 36/800\n",
      "46/46 [==============================] - ETA: 0s - loss: 0.2882 - mean_absolute_error: 0.0464 - mean_squared_error: 0.0036\n",
      "Epoch 00036: val_mean_squared_error did not improve from 0.00053\n",
      "46/46 [==============================] - 1s 14ms/step - loss: 0.2882 - mean_absolute_error: 0.0464 - mean_squared_error: 0.0036 - val_loss: 0.2794 - val_mean_absolute_error: 0.0237 - val_mean_squared_error: 0.0013 - lr: 4.0000e-04\n",
      "Epoch 37/800\n",
      "46/46 [==============================] - ETA: 0s - loss: 0.2729 - mean_absolute_error: 0.0185 - mean_squared_error: 7.5794e-04\n",
      "Epoch 00037: val_mean_squared_error did not improve from 0.00053\n",
      "46/46 [==============================] - 1s 15ms/step - loss: 0.2729 - mean_absolute_error: 0.0185 - mean_squared_error: 7.5794e-04 - val_loss: 0.2667 - val_mean_absolute_error: 0.0193 - val_mean_squared_error: 6.6726e-04 - lr: 4.0000e-04\n",
      "Epoch 38/800\n",
      "44/46 [===========================>..] - ETA: 0s - loss: 0.2612 - mean_absolute_error: 0.0194 - mean_squared_error: 7.0132e-04\n",
      "Epoch 00038: val_mean_squared_error did not improve from 0.00053\n",
      "46/46 [==============================] - 1s 14ms/step - loss: 0.2610 - mean_absolute_error: 0.0196 - mean_squared_error: 7.1305e-04 - val_loss: 0.2554 - val_mean_absolute_error: 0.0266 - val_mean_squared_error: 0.0011 - lr: 4.0000e-04\n",
      "Epoch 39/800\n",
      "43/46 [===========================>..] - ETA: 0s - loss: 0.2519 - mean_absolute_error: 0.0430 - mean_squared_error: 0.0027\n",
      "Epoch 00039: val_mean_squared_error did not improve from 0.00053\n",
      "46/46 [==============================] - 1s 14ms/step - loss: 0.2514 - mean_absolute_error: 0.0420 - mean_squared_error: 0.0026 - val_loss: 0.2444 - val_mean_absolute_error: 0.0243 - val_mean_squared_error: 0.0012 - lr: 4.0000e-04\n",
      "Epoch 40/800\n",
      "46/46 [==============================] - ETA: 0s - loss: 0.2389 - mean_absolute_error: 0.0230 - mean_squared_error: 0.0011\n",
      "Epoch 00040: ReduceLROnPlateau reducing learning rate to 0.00031999999191612005.\n",
      "\n",
      "Epoch 00040: val_mean_squared_error did not improve from 0.00053\n",
      "46/46 [==============================] - 1s 14ms/step - loss: 0.2389 - mean_absolute_error: 0.0230 - mean_squared_error: 0.0011 - val_loss: 0.2332 - val_mean_absolute_error: 0.0217 - val_mean_squared_error: 8.4892e-04 - lr: 4.0000e-04\n",
      "Epoch 41/800\n",
      "46/46 [==============================] - ETA: 0s - loss: 0.2287 - mean_absolute_error: 0.0119 - mean_squared_error: 4.2640e-04\n",
      "Epoch 00041: val_mean_squared_error improved from 0.00053 to 0.00037, saving model to /home/bolin/Projects/NeuralNetwork_for_VehicleDynamicsModeling/outputs/2024_04_15/19_52_14/keras_model_recurrent.h5\n",
      "46/46 [==============================] - 1s 15ms/step - loss: 0.2287 - mean_absolute_error: 0.0119 - mean_squared_error: 4.2640e-04 - val_loss: 0.2244 - val_mean_absolute_error: 0.0112 - val_mean_squared_error: 3.6846e-04 - lr: 3.2000e-04\n",
      "Epoch 42/800\n",
      "46/46 [==============================] - ETA: 0s - loss: 0.2205 - mean_absolute_error: 0.0115 - mean_squared_error: 4.0623e-04\n",
      "Epoch 00042: val_mean_squared_error improved from 0.00037 to 0.00036, saving model to /home/bolin/Projects/NeuralNetwork_for_VehicleDynamicsModeling/outputs/2024_04_15/19_52_14/keras_model_recurrent.h5\n",
      "46/46 [==============================] - 1s 15ms/step - loss: 0.2205 - mean_absolute_error: 0.0115 - mean_squared_error: 4.0623e-04 - val_loss: 0.2163 - val_mean_absolute_error: 0.0112 - val_mean_squared_error: 3.6191e-04 - lr: 3.2000e-04\n",
      "Epoch 43/800\n",
      "46/46 [==============================] - ETA: 0s - loss: 0.2124 - mean_absolute_error: 0.0114 - mean_squared_error: 3.9752e-04\n",
      "Epoch 00043: val_mean_squared_error improved from 0.00036 to 0.00035, saving model to /home/bolin/Projects/NeuralNetwork_for_VehicleDynamicsModeling/outputs/2024_04_15/19_52_14/keras_model_recurrent.h5\n",
      "46/46 [==============================] - 1s 14ms/step - loss: 0.2124 - mean_absolute_error: 0.0114 - mean_squared_error: 3.9752e-04 - val_loss: 0.2084 - val_mean_absolute_error: 0.0110 - val_mean_squared_error: 3.5462e-04 - lr: 3.2000e-04\n",
      "Epoch 44/800\n",
      "44/46 [===========================>..] - ETA: 0s - loss: 0.2048 - mean_absolute_error: 0.0113 - mean_squared_error: 3.9186e-04\n",
      "Epoch 00044: val_mean_squared_error did not improve from 0.00035\n",
      "46/46 [==============================] - 1s 14ms/step - loss: 0.2046 - mean_absolute_error: 0.0113 - mean_squared_error: 3.9394e-04 - val_loss: 0.2007 - val_mean_absolute_error: 0.0112 - val_mean_squared_error: 3.5674e-04 - lr: 3.2000e-04\n",
      "Epoch 45/800\n",
      "44/46 [===========================>..] - ETA: 0s - loss: 0.1972 - mean_absolute_error: 0.0113 - mean_squared_error: 3.9383e-04\n",
      "Epoch 00045: val_mean_squared_error improved from 0.00035 to 0.00035, saving model to /home/bolin/Projects/NeuralNetwork_for_VehicleDynamicsModeling/outputs/2024_04_15/19_52_14/keras_model_recurrent.h5\n",
      "46/46 [==============================] - 1s 14ms/step - loss: 0.1970 - mean_absolute_error: 0.0113 - mean_squared_error: 3.9418e-04 - val_loss: 0.1932 - val_mean_absolute_error: 0.0110 - val_mean_squared_error: 3.5183e-04 - lr: 3.2000e-04\n",
      "Epoch 46/800\n",
      "45/46 [============================>.] - ETA: 0s - loss: 0.1897 - mean_absolute_error: 0.0113 - mean_squared_error: 3.9060e-04\n",
      "Epoch 00046: val_mean_squared_error did not improve from 0.00035\n",
      "46/46 [==============================] - 1s 14ms/step - loss: 0.1896 - mean_absolute_error: 0.0113 - mean_squared_error: 3.8982e-04 - val_loss: 0.1859 - val_mean_absolute_error: 0.0112 - val_mean_squared_error: 3.6404e-04 - lr: 3.2000e-04\n",
      "Epoch 47/800\n",
      "45/46 [============================>.] - ETA: 0s - loss: 0.1825 - mean_absolute_error: 0.0113 - mean_squared_error: 3.9232e-04\n",
      "Epoch 00047: val_mean_squared_error improved from 0.00035 to 0.00035, saving model to /home/bolin/Projects/NeuralNetwork_for_VehicleDynamicsModeling/outputs/2024_04_15/19_52_14/keras_model_recurrent.h5\n",
      "46/46 [==============================] - 1s 15ms/step - loss: 0.1824 - mean_absolute_error: 0.0113 - mean_squared_error: 3.9178e-04 - val_loss: 0.1788 - val_mean_absolute_error: 0.0109 - val_mean_squared_error: 3.4614e-04 - lr: 3.2000e-04\n",
      "Epoch 48/800\n",
      "45/46 [============================>.] - ETA: 0s - loss: 0.1755 - mean_absolute_error: 0.0112 - mean_squared_error: 3.8771e-04\n",
      "Epoch 00048: val_mean_squared_error did not improve from 0.00035\n",
      "46/46 [==============================] - 1s 15ms/step - loss: 0.1754 - mean_absolute_error: 0.0112 - mean_squared_error: 3.8653e-04 - val_loss: 0.1719 - val_mean_absolute_error: 0.0112 - val_mean_squared_error: 3.6077e-04 - lr: 3.2000e-04\n",
      "Epoch 49/800\n",
      "44/46 [===========================>..] - ETA: 0s - loss: 0.1688 - mean_absolute_error: 0.0112 - mean_squared_error: 3.8627e-04\n",
      "Epoch 00049: val_mean_squared_error did not improve from 0.00035\n",
      "46/46 [==============================] - 1s 15ms/step - loss: 0.1686 - mean_absolute_error: 0.0112 - mean_squared_error: 3.8656e-04 - val_loss: 0.1652 - val_mean_absolute_error: 0.0113 - val_mean_squared_error: 3.7126e-04 - lr: 3.2000e-04\n"
     ]
    },
    {
     "name": "stdout",
     "output_type": "stream",
     "text": [
      "Epoch 50/800\n",
      "45/46 [============================>.] - ETA: 0s - loss: 0.1621 - mean_absolute_error: 0.0112 - mean_squared_error: 3.8583e-04\n",
      "Epoch 00050: val_mean_squared_error did not improve from 0.00035\n",
      "46/46 [==============================] - 1s 15ms/step - loss: 0.1620 - mean_absolute_error: 0.0112 - mean_squared_error: 3.8737e-04 - val_loss: 0.1587 - val_mean_absolute_error: 0.0113 - val_mean_squared_error: 3.4832e-04 - lr: 3.2000e-04\n",
      "Epoch 51/800\n",
      "45/46 [============================>.] - ETA: 0s - loss: 0.1557 - mean_absolute_error: 0.0112 - mean_squared_error: 3.8326e-04\n",
      "Epoch 00051: val_mean_squared_error did not improve from 0.00035\n",
      "46/46 [==============================] - 1s 15ms/step - loss: 0.1556 - mean_absolute_error: 0.0112 - mean_squared_error: 3.8483e-04 - val_loss: 0.1524 - val_mean_absolute_error: 0.0120 - val_mean_squared_error: 3.9145e-04 - lr: 3.2000e-04\n",
      "Epoch 52/800\n",
      "45/46 [============================>.] - ETA: 0s - loss: 0.1508 - mean_absolute_error: 0.0264 - mean_squared_error: 0.0017\n",
      "Epoch 00052: val_mean_squared_error did not improve from 0.00035\n",
      "46/46 [==============================] - 1s 15ms/step - loss: 0.1507 - mean_absolute_error: 0.0265 - mean_squared_error: 0.0017 - val_loss: 0.1480 - val_mean_absolute_error: 0.0313 - val_mean_squared_error: 0.0021 - lr: 3.2000e-04\n",
      "Epoch 53/800\n",
      "45/46 [============================>.] - ETA: 0s - loss: 0.1439 - mean_absolute_error: 0.0166 - mean_squared_error: 7.8580e-04\n",
      "Epoch 00053: val_mean_squared_error improved from 0.00035 to 0.00034, saving model to /home/bolin/Projects/NeuralNetwork_for_VehicleDynamicsModeling/outputs/2024_04_15/19_52_14/keras_model_recurrent.h5\n",
      "46/46 [==============================] - 1s 15ms/step - loss: 0.1438 - mean_absolute_error: 0.0165 - mean_squared_error: 7.7701e-04 - val_loss: 0.1404 - val_mean_absolute_error: 0.0106 - val_mean_squared_error: 3.4358e-04 - lr: 3.2000e-04\n",
      "Epoch 54/800\n",
      "45/46 [============================>.] - ETA: 0s - loss: 0.1377 - mean_absolute_error: 0.0113 - mean_squared_error: 3.9577e-04\n",
      "Epoch 00054: val_mean_squared_error did not improve from 0.00034\n",
      "46/46 [==============================] - 1s 15ms/step - loss: 0.1377 - mean_absolute_error: 0.0113 - mean_squared_error: 3.9578e-04 - val_loss: 0.1348 - val_mean_absolute_error: 0.0119 - val_mean_squared_error: 3.9613e-04 - lr: 3.2000e-04\n",
      "Epoch 55/800\n",
      "45/46 [============================>.] - ETA: 0s - loss: 0.1321 - mean_absolute_error: 0.0111 - mean_squared_error: 3.8464e-04\n",
      "Epoch 00055: val_mean_squared_error improved from 0.00034 to 0.00033, saving model to /home/bolin/Projects/NeuralNetwork_for_VehicleDynamicsModeling/outputs/2024_04_15/19_52_14/keras_model_recurrent.h5\n",
      "46/46 [==============================] - 1s 15ms/step - loss: 0.1321 - mean_absolute_error: 0.0111 - mean_squared_error: 3.8469e-04 - val_loss: 0.1292 - val_mean_absolute_error: 0.0105 - val_mean_squared_error: 3.3239e-04 - lr: 3.2000e-04\n",
      "Epoch 56/800\n",
      "44/46 [===========================>..] - ETA: 0s - loss: 0.1269 - mean_absolute_error: 0.0129 - mean_squared_error: 4.7529e-04\n",
      "Epoch 00056: val_mean_squared_error did not improve from 0.00033\n",
      "46/46 [==============================] - 1s 15ms/step - loss: 0.1267 - mean_absolute_error: 0.0131 - mean_squared_error: 4.8649e-04 - val_loss: 0.1243 - val_mean_absolute_error: 0.0174 - val_mean_squared_error: 7.0954e-04 - lr: 3.2000e-04\n",
      "Epoch 57/800\n",
      "45/46 [============================>.] - ETA: 0s - loss: 0.1225 - mean_absolute_error: 0.0243 - mean_squared_error: 0.0014\n",
      "Epoch 00057: val_mean_squared_error did not improve from 0.00033\n",
      "46/46 [==============================] - 1s 15ms/step - loss: 0.1225 - mean_absolute_error: 0.0242 - mean_squared_error: 0.0014 - val_loss: 0.1192 - val_mean_absolute_error: 0.0172 - val_mean_squared_error: 7.3865e-04 - lr: 3.2000e-04\n",
      "Epoch 58/800\n",
      "45/46 [============================>.] - ETA: 0s - loss: 0.1165 - mean_absolute_error: 0.0128 - mean_squared_error: 4.8641e-04\n",
      "Epoch 00058: val_mean_squared_error did not improve from 0.00033\n",
      "46/46 [==============================] - 1s 15ms/step - loss: 0.1165 - mean_absolute_error: 0.0128 - mean_squared_error: 4.8467e-04 - val_loss: 0.1138 - val_mean_absolute_error: 0.0106 - val_mean_squared_error: 3.4604e-04 - lr: 3.2000e-04\n",
      "Epoch 59/800\n",
      "45/46 [============================>.] - ETA: 0s - loss: 0.1116 - mean_absolute_error: 0.0109 - mean_squared_error: 3.7693e-04\n",
      "Epoch 00059: val_mean_squared_error did not improve from 0.00033\n",
      "46/46 [==============================] - 1s 15ms/step - loss: 0.1115 - mean_absolute_error: 0.0109 - mean_squared_error: 3.7810e-04 - val_loss: 0.1091 - val_mean_absolute_error: 0.0105 - val_mean_squared_error: 3.3261e-04 - lr: 3.2000e-04\n",
      "Epoch 60/800\n",
      "45/46 [============================>.] - ETA: 0s - loss: 0.1069 - mean_absolute_error: 0.0110 - mean_squared_error: 3.8354e-04\n",
      "Epoch 00060: val_mean_squared_error did not improve from 0.00033\n",
      "46/46 [==============================] - 1s 15ms/step - loss: 0.1068 - mean_absolute_error: 0.0111 - mean_squared_error: 3.8816e-04 - val_loss: 0.1046 - val_mean_absolute_error: 0.0136 - val_mean_squared_error: 4.8601e-04 - lr: 3.2000e-04\n",
      "Epoch 61/800\n",
      "44/46 [===========================>..] - ETA: 0s - loss: 0.1032 - mean_absolute_error: 0.0210 - mean_squared_error: 0.0012  \n",
      "Epoch 00061: val_mean_squared_error did not improve from 0.00033\n",
      "46/46 [==============================] - 1s 15ms/step - loss: 0.1032 - mean_absolute_error: 0.0216 - mean_squared_error: 0.0012 - val_loss: 0.1026 - val_mean_absolute_error: 0.0352 - val_mean_squared_error: 0.0029 - lr: 3.2000e-04\n",
      "Epoch 62/800\n",
      "45/46 [============================>.] - ETA: 0s - loss: 0.0987 - mean_absolute_error: 0.0189 - mean_squared_error: 0.0011\n",
      "Epoch 00062: val_mean_squared_error did not improve from 0.00033\n",
      "46/46 [==============================] - 1s 15ms/step - loss: 0.0986 - mean_absolute_error: 0.0188 - mean_squared_error: 0.0010 - val_loss: 0.0958 - val_mean_absolute_error: 0.0120 - val_mean_squared_error: 4.2087e-04 - lr: 3.2000e-04\n",
      "Epoch 63/800\n",
      "45/46 [============================>.] - ETA: 0s - loss: 0.0938 - mean_absolute_error: 0.0109 - mean_squared_error: 3.8185e-04\n",
      "Epoch 00063: val_mean_squared_error did not improve from 0.00033\n",
      "46/46 [==============================] - 1s 15ms/step - loss: 0.0938 - mean_absolute_error: 0.0109 - mean_squared_error: 3.8146e-04 - val_loss: 0.0917 - val_mean_absolute_error: 0.0108 - val_mean_squared_error: 3.6311e-04 - lr: 3.2000e-04\n",
      "Epoch 64/800\n",
      "45/46 [============================>.] - ETA: 0s - loss: 0.0898 - mean_absolute_error: 0.0110 - mean_squared_error: 3.8294e-04\n",
      "Epoch 00064: val_mean_squared_error did not improve from 0.00033\n",
      "46/46 [==============================] - 1s 15ms/step - loss: 0.0898 - mean_absolute_error: 0.0110 - mean_squared_error: 3.8399e-04 - val_loss: 0.0877 - val_mean_absolute_error: 0.0107 - val_mean_squared_error: 3.5178e-04 - lr: 3.2000e-04\n",
      "Epoch 65/800\n",
      "45/46 [============================>.] - ETA: 0s - loss: 0.0859 - mean_absolute_error: 0.0109 - mean_squared_error: 3.8358e-04\n",
      "Epoch 00065: ReduceLROnPlateau reducing learning rate to 0.00025599999353289606.\n",
      "\n",
      "Epoch 00065: val_mean_squared_error did not improve from 0.00033\n",
      "46/46 [==============================] - 1s 15ms/step - loss: 0.0859 - mean_absolute_error: 0.0109 - mean_squared_error: 3.8460e-04 - val_loss: 0.0839 - val_mean_absolute_error: 0.0117 - val_mean_squared_error: 3.9324e-04 - lr: 3.2000e-04\n",
      "Epoch 66/800\n",
      "45/46 [============================>.] - ETA: 0s - loss: 0.0825 - mean_absolute_error: 0.0106 - mean_squared_error: 3.6789e-04\n",
      "Epoch 00066: val_mean_squared_error did not improve from 0.00033\n",
      "46/46 [==============================] - 1s 15ms/step - loss: 0.0825 - mean_absolute_error: 0.0106 - mean_squared_error: 3.6719e-04 - val_loss: 0.0809 - val_mean_absolute_error: 0.0104 - val_mean_squared_error: 3.3245e-04 - lr: 2.5600e-04\n",
      "Epoch 67/800\n",
      "45/46 [============================>.] - ETA: 0s - loss: 0.0796 - mean_absolute_error: 0.0105 - mean_squared_error: 3.6548e-04\n",
      "Epoch 00067: val_mean_squared_error did not improve from 0.00033\n",
      "46/46 [==============================] - 1s 15ms/step - loss: 0.0795 - mean_absolute_error: 0.0105 - mean_squared_error: 3.6479e-04 - val_loss: 0.0780 - val_mean_absolute_error: 0.0103 - val_mean_squared_error: 3.3301e-04 - lr: 2.5600e-04\n"
     ]
    },
    {
     "name": "stdout",
     "output_type": "stream",
     "text": [
      "Epoch 68/800\n",
      "45/46 [============================>.] - ETA: 0s - loss: 0.0767 - mean_absolute_error: 0.0106 - mean_squared_error: 3.6534e-04\n",
      "Epoch 00068: val_mean_squared_error did not improve from 0.00033\n",
      "46/46 [==============================] - 1s 15ms/step - loss: 0.0767 - mean_absolute_error: 0.0106 - mean_squared_error: 3.6575e-04 - val_loss: 0.0752 - val_mean_absolute_error: 0.0104 - val_mean_squared_error: 3.3721e-04 - lr: 2.5600e-04\n",
      "Epoch 69/800\n",
      "45/46 [============================>.] - ETA: 0s - loss: 0.0739 - mean_absolute_error: 0.0106 - mean_squared_error: 3.6610e-04\n",
      "Epoch 00069: val_mean_squared_error did not improve from 0.00033\n",
      "46/46 [==============================] - 1s 15ms/step - loss: 0.0739 - mean_absolute_error: 0.0106 - mean_squared_error: 3.6626e-04 - val_loss: 0.0725 - val_mean_absolute_error: 0.0104 - val_mean_squared_error: 3.5645e-04 - lr: 2.5600e-04\n",
      "Epoch 70/800\n",
      "45/46 [============================>.] - ETA: 0s - loss: 0.0712 - mean_absolute_error: 0.0106 - mean_squared_error: 3.6875e-04\n",
      "Epoch 00070: val_mean_squared_error did not improve from 0.00033\n",
      "46/46 [==============================] - 1s 15ms/step - loss: 0.0712 - mean_absolute_error: 0.0105 - mean_squared_error: 3.6824e-04 - val_loss: 0.0698 - val_mean_absolute_error: 0.0104 - val_mean_squared_error: 3.4563e-04 - lr: 2.5600e-04\n",
      "Epoch 71/800\n",
      "45/46 [============================>.] - ETA: 0s - loss: 0.0686 - mean_absolute_error: 0.0106 - mean_squared_error: 3.7042e-04\n",
      "Epoch 00071: val_mean_squared_error did not improve from 0.00033\n",
      "46/46 [==============================] - 1s 15ms/step - loss: 0.0686 - mean_absolute_error: 0.0106 - mean_squared_error: 3.7227e-04 - val_loss: 0.0672 - val_mean_absolute_error: 0.0104 - val_mean_squared_error: 3.3782e-04 - lr: 2.5600e-04\n",
      "Epoch 72/800\n",
      "45/46 [============================>.] - ETA: 0s - loss: 0.0661 - mean_absolute_error: 0.0106 - mean_squared_error: 3.7202e-04\n",
      "Epoch 00072: val_mean_squared_error did not improve from 0.00033\n",
      "46/46 [==============================] - 1s 15ms/step - loss: 0.0660 - mean_absolute_error: 0.0106 - mean_squared_error: 3.7400e-04 - val_loss: 0.0647 - val_mean_absolute_error: 0.0105 - val_mean_squared_error: 3.4242e-04 - lr: 2.5600e-04\n",
      "Epoch 73/800\n",
      "44/46 [===========================>..] - ETA: 0s - loss: 0.0636 - mean_absolute_error: 0.0107 - mean_squared_error: 3.7462e-04\n",
      "Epoch 00073: val_mean_squared_error did not improve from 0.00033\n",
      "46/46 [==============================] - 1s 15ms/step - loss: 0.0636 - mean_absolute_error: 0.0107 - mean_squared_error: 3.7503e-04 - val_loss: 0.0623 - val_mean_absolute_error: 0.0103 - val_mean_squared_error: 3.4248e-04 - lr: 2.5600e-04\n",
      "Epoch 74/800\n",
      "45/46 [============================>.] - ETA: 0s - loss: 0.0612 - mean_absolute_error: 0.0107 - mean_squared_error: 3.7657e-04\n",
      "Epoch 00074: val_mean_squared_error did not improve from 0.00033\n",
      "46/46 [==============================] - 1s 15ms/step - loss: 0.0611 - mean_absolute_error: 0.0107 - mean_squared_error: 3.7588e-04 - val_loss: 0.0599 - val_mean_absolute_error: 0.0105 - val_mean_squared_error: 3.6226e-04 - lr: 2.5600e-04\n",
      "Epoch 75/800\n",
      "45/46 [============================>.] - ETA: 0s - loss: 0.0588 - mean_absolute_error: 0.0107 - mean_squared_error: 3.8024e-04\n",
      "Epoch 00075: ReduceLROnPlateau reducing learning rate to 0.00020479999948292972.\n",
      "\n",
      "Epoch 00075: val_mean_squared_error did not improve from 0.00033\n",
      "46/46 [==============================] - 1s 15ms/step - loss: 0.0588 - mean_absolute_error: 0.0107 - mean_squared_error: 3.7977e-04 - val_loss: 0.0576 - val_mean_absolute_error: 0.0105 - val_mean_squared_error: 3.5198e-04 - lr: 2.5600e-04\n",
      "Epoch 76/800\n",
      "45/46 [============================>.] - ETA: 0s - loss: 0.0568 - mean_absolute_error: 0.0106 - mean_squared_error: 3.7469e-04\n",
      "Epoch 00076: val_mean_squared_error did not improve from 0.00033\n",
      "46/46 [==============================] - 1s 15ms/step - loss: 0.0567 - mean_absolute_error: 0.0106 - mean_squared_error: 3.7532e-04 - val_loss: 0.0558 - val_mean_absolute_error: 0.0105 - val_mean_squared_error: 3.5322e-04 - lr: 2.0480e-04\n",
      "Epoch 77/800\n",
      "44/46 [===========================>..] - ETA: 0s - loss: 0.0550 - mean_absolute_error: 0.0107 - mean_squared_error: 3.7649e-04\n",
      "Epoch 00077: val_mean_squared_error did not improve from 0.00033\n",
      "46/46 [==============================] - 1s 15ms/step - loss: 0.0550 - mean_absolute_error: 0.0107 - mean_squared_error: 3.7727e-04 - val_loss: 0.0540 - val_mean_absolute_error: 0.0106 - val_mean_squared_error: 3.5372e-04 - lr: 2.0480e-04\n",
      "Epoch 78/800\n",
      "45/46 [============================>.] - ETA: 0s - loss: 0.0532 - mean_absolute_error: 0.0107 - mean_squared_error: 3.7856e-04\n",
      "Epoch 00078: val_mean_squared_error did not improve from 0.00033\n",
      "46/46 [==============================] - 1s 15ms/step - loss: 0.0532 - mean_absolute_error: 0.0107 - mean_squared_error: 3.7865e-04 - val_loss: 0.0523 - val_mean_absolute_error: 0.0105 - val_mean_squared_error: 3.5371e-04 - lr: 2.0480e-04\n",
      "Epoch 79/800\n",
      "45/46 [============================>.] - ETA: 0s - loss: 0.0515 - mean_absolute_error: 0.0107 - mean_squared_error: 3.8076e-04\n",
      "Epoch 00079: val_mean_squared_error did not improve from 0.00033\n",
      "46/46 [==============================] - 1s 15ms/step - loss: 0.0515 - mean_absolute_error: 0.0107 - mean_squared_error: 3.8108e-04 - val_loss: 0.0506 - val_mean_absolute_error: 0.0106 - val_mean_squared_error: 3.5461e-04 - lr: 2.0480e-04\n",
      "Epoch 80/800\n",
      "45/46 [============================>.] - ETA: 0s - loss: 0.0499 - mean_absolute_error: 0.0107 - mean_squared_error: 3.8287e-04\n",
      "Epoch 00080: val_mean_squared_error did not improve from 0.00033\n",
      "46/46 [==============================] - 1s 15ms/step - loss: 0.0498 - mean_absolute_error: 0.0107 - mean_squared_error: 3.8261e-04 - val_loss: 0.0490 - val_mean_absolute_error: 0.0107 - val_mean_squared_error: 3.5528e-04 - lr: 2.0480e-04\n",
      "Epoch 81/800\n",
      "45/46 [============================>.] - ETA: 0s - loss: 0.0482 - mean_absolute_error: 0.0108 - mean_squared_error: 3.8473e-04\n",
      "Epoch 00081: val_mean_squared_error did not improve from 0.00033\n",
      "46/46 [==============================] - 1s 15ms/step - loss: 0.0482 - mean_absolute_error: 0.0108 - mean_squared_error: 3.8584e-04 - val_loss: 0.0474 - val_mean_absolute_error: 0.0106 - val_mean_squared_error: 3.6117e-04 - lr: 2.0480e-04\n",
      "Epoch 82/800\n",
      "45/46 [============================>.] - ETA: 0s - loss: 0.0466 - mean_absolute_error: 0.0108 - mean_squared_error: 3.8525e-04\n",
      "Epoch 00082: val_mean_squared_error did not improve from 0.00033\n",
      "46/46 [==============================] - 1s 15ms/step - loss: 0.0466 - mean_absolute_error: 0.0108 - mean_squared_error: 3.8481e-04 - val_loss: 0.0458 - val_mean_absolute_error: 0.0107 - val_mean_squared_error: 3.6823e-04 - lr: 2.0480e-04\n",
      "Epoch 83/800\n",
      "45/46 [============================>.] - ETA: 0s - loss: 0.0451 - mean_absolute_error: 0.0108 - mean_squared_error: 3.8956e-04\n",
      "Epoch 00083: val_mean_squared_error did not improve from 0.00033\n",
      "46/46 [==============================] - 1s 15ms/step - loss: 0.0451 - mean_absolute_error: 0.0108 - mean_squared_error: 3.9076e-04 - val_loss: 0.0442 - val_mean_absolute_error: 0.0107 - val_mean_squared_error: 3.6437e-04 - lr: 2.0480e-04\n",
      "Epoch 84/800\n",
      "45/46 [============================>.] - ETA: 0s - loss: 0.0435 - mean_absolute_error: 0.0109 - mean_squared_error: 3.9118e-04\n",
      "Epoch 00084: val_mean_squared_error did not improve from 0.00033\n",
      "46/46 [==============================] - 1s 15ms/step - loss: 0.0435 - mean_absolute_error: 0.0109 - mean_squared_error: 3.9183e-04 - val_loss: 0.0427 - val_mean_absolute_error: 0.0107 - val_mean_squared_error: 3.7066e-04 - lr: 2.0480e-04\n",
      "Epoch 85/800\n",
      "45/46 [============================>.] - ETA: 0s - loss: 0.0421 - mean_absolute_error: 0.0109 - mean_squared_error: 3.9559e-04\n",
      "Epoch 00085: ReduceLROnPlateau reducing learning rate to 0.00016384000191465022.\n",
      "\n",
      "Epoch 00085: val_mean_squared_error did not improve from 0.00033\n",
      "46/46 [==============================] - 1s 15ms/step - loss: 0.0420 - mean_absolute_error: 0.0109 - mean_squared_error: 3.9579e-04 - val_loss: 0.0413 - val_mean_absolute_error: 0.0109 - val_mean_squared_error: 3.7120e-04 - lr: 2.0480e-04\n",
      "Epoch 86/800\n"
     ]
    },
    {
     "name": "stdout",
     "output_type": "stream",
     "text": [
      "45/46 [============================>.] - ETA: 0s - loss: 0.0407 - mean_absolute_error: 0.0109 - mean_squared_error: 3.9440e-04\n",
      "Epoch 00086: val_mean_squared_error did not improve from 0.00033\n",
      "46/46 [==============================] - 1s 15ms/step - loss: 0.0407 - mean_absolute_error: 0.0109 - mean_squared_error: 3.9522e-04 - val_loss: 0.0401 - val_mean_absolute_error: 0.0108 - val_mean_squared_error: 3.6832e-04 - lr: 1.6384e-04\n",
      "Epoch 87/800\n",
      "45/46 [============================>.] - ETA: 0s - loss: 0.0396 - mean_absolute_error: 0.0110 - mean_squared_error: 3.9498e-04\n",
      "Epoch 00087: val_mean_squared_error did not improve from 0.00033\n",
      "46/46 [==============================] - 1s 15ms/step - loss: 0.0396 - mean_absolute_error: 0.0110 - mean_squared_error: 3.9480e-04 - val_loss: 0.0390 - val_mean_absolute_error: 0.0108 - val_mean_squared_error: 3.7491e-04 - lr: 1.6384e-04\n",
      "Epoch 88/800\n",
      "45/46 [============================>.] - ETA: 0s - loss: 0.0385 - mean_absolute_error: 0.0110 - mean_squared_error: 3.9855e-04\n",
      "Epoch 00088: val_mean_squared_error did not improve from 0.00033\n",
      "46/46 [==============================] - 1s 15ms/step - loss: 0.0385 - mean_absolute_error: 0.0110 - mean_squared_error: 3.9895e-04 - val_loss: 0.0379 - val_mean_absolute_error: 0.0109 - val_mean_squared_error: 3.7400e-04 - lr: 1.6384e-04\n",
      "Epoch 89/800\n",
      "45/46 [============================>.] - ETA: 0s - loss: 0.0374 - mean_absolute_error: 0.0110 - mean_squared_error: 3.9844e-04\n",
      "Epoch 00089: val_mean_squared_error did not improve from 0.00033\n",
      "46/46 [==============================] - 1s 15ms/step - loss: 0.0374 - mean_absolute_error: 0.0110 - mean_squared_error: 3.9947e-04 - val_loss: 0.0368 - val_mean_absolute_error: 0.0110 - val_mean_squared_error: 3.7905e-04 - lr: 1.6384e-04\n",
      "Epoch 90/800\n",
      "45/46 [============================>.] - ETA: 0s - loss: 0.0363 - mean_absolute_error: 0.0111 - mean_squared_error: 4.0262e-04\n",
      "Epoch 00090: val_mean_squared_error did not improve from 0.00033\n",
      "46/46 [==============================] - 1s 15ms/step - loss: 0.0363 - mean_absolute_error: 0.0111 - mean_squared_error: 4.0222e-04 - val_loss: 0.0357 - val_mean_absolute_error: 0.0110 - val_mean_squared_error: 3.7844e-04 - lr: 1.6384e-04\n",
      "Epoch 91/800\n",
      "45/46 [============================>.] - ETA: 0s - loss: 0.0352 - mean_absolute_error: 0.0111 - mean_squared_error: 4.0287e-04\n",
      "Epoch 00091: val_mean_squared_error did not improve from 0.00033\n",
      "46/46 [==============================] - 1s 15ms/step - loss: 0.0352 - mean_absolute_error: 0.0111 - mean_squared_error: 4.0363e-04 - val_loss: 0.0347 - val_mean_absolute_error: 0.0110 - val_mean_squared_error: 3.8028e-04 - lr: 1.6384e-04\n",
      "Epoch 92/800\n",
      "45/46 [============================>.] - ETA: 0s - loss: 0.0342 - mean_absolute_error: 0.0112 - mean_squared_error: 4.0829e-04\n",
      "Epoch 00092: val_mean_squared_error did not improve from 0.00033\n",
      "46/46 [==============================] - 1s 15ms/step - loss: 0.0342 - mean_absolute_error: 0.0112 - mean_squared_error: 4.0715e-04 - val_loss: 0.0336 - val_mean_absolute_error: 0.0111 - val_mean_squared_error: 3.8204e-04 - lr: 1.6384e-04\n",
      "Epoch 93/800\n",
      "45/46 [============================>.] - ETA: 0s - loss: 0.0332 - mean_absolute_error: 0.0112 - mean_squared_error: 4.0896e-04\n",
      "Epoch 00093: val_mean_squared_error did not improve from 0.00033\n",
      "46/46 [==============================] - 1s 15ms/step - loss: 0.0332 - mean_absolute_error: 0.0112 - mean_squared_error: 4.0800e-04 - val_loss: 0.0326 - val_mean_absolute_error: 0.0110 - val_mean_squared_error: 3.8566e-04 - lr: 1.6384e-04\n",
      "Epoch 94/800\n",
      "45/46 [============================>.] - ETA: 0s - loss: 0.0322 - mean_absolute_error: 0.0112 - mean_squared_error: 4.1154e-04\n",
      "Epoch 00094: val_mean_squared_error did not improve from 0.00033\n",
      "46/46 [==============================] - 1s 15ms/step - loss: 0.0322 - mean_absolute_error: 0.0112 - mean_squared_error: 4.1085e-04 - val_loss: 0.0317 - val_mean_absolute_error: 0.0112 - val_mean_squared_error: 3.8582e-04 - lr: 1.6384e-04\n",
      "Epoch 95/800\n",
      "45/46 [============================>.] - ETA: 0s - loss: 0.0312 - mean_absolute_error: 0.0113 - mean_squared_error: 4.1310e-04\n",
      "Epoch 00095: ReduceLROnPlateau reducing learning rate to 0.00013107199920341374.\n",
      "\n",
      "Epoch 00095: val_mean_squared_error did not improve from 0.00033\n",
      "46/46 [==============================] - 1s 15ms/step - loss: 0.0312 - mean_absolute_error: 0.0113 - mean_squared_error: 4.1464e-04 - val_loss: 0.0307 - val_mean_absolute_error: 0.0112 - val_mean_squared_error: 3.8941e-04 - lr: 1.6384e-04\n",
      "Epoch 96/800\n",
      "45/46 [============================>.] - ETA: 0s - loss: 0.0303 - mean_absolute_error: 0.0113 - mean_squared_error: 4.1405e-04\n",
      "Epoch 00096: val_mean_squared_error did not improve from 0.00033\n",
      "46/46 [==============================] - 1s 15ms/step - loss: 0.0303 - mean_absolute_error: 0.0113 - mean_squared_error: 4.1400e-04 - val_loss: 0.0299 - val_mean_absolute_error: 0.0112 - val_mean_squared_error: 3.9208e-04 - lr: 1.3107e-04\n",
      "Epoch 97/800\n",
      "45/46 [============================>.] - ETA: 0s - loss: 0.0296 - mean_absolute_error: 0.0113 - mean_squared_error: 4.1616e-04\n",
      "Epoch 00097: val_mean_squared_error did not improve from 0.00033\n",
      "46/46 [==============================] - 1s 15ms/step - loss: 0.0296 - mean_absolute_error: 0.0113 - mean_squared_error: 4.1654e-04 - val_loss: 0.0292 - val_mean_absolute_error: 0.0112 - val_mean_squared_error: 3.9444e-04 - lr: 1.3107e-04\n",
      "Epoch 98/800\n",
      "45/46 [============================>.] - ETA: 0s - loss: 0.0288 - mean_absolute_error: 0.0114 - mean_squared_error: 4.1905e-04\n",
      "Epoch 00098: val_mean_squared_error did not improve from 0.00033\n",
      "46/46 [==============================] - 1s 15ms/step - loss: 0.0288 - mean_absolute_error: 0.0114 - mean_squared_error: 4.1973e-04 - val_loss: 0.0284 - val_mean_absolute_error: 0.0113 - val_mean_squared_error: 3.9506e-04 - lr: 1.3107e-04\n",
      "Epoch 99/800\n",
      "45/46 [============================>.] - ETA: 0s - loss: 0.0281 - mean_absolute_error: 0.0114 - mean_squared_error: 4.2155e-04\n",
      "Epoch 00099: val_mean_squared_error did not improve from 0.00033\n",
      "46/46 [==============================] - 1s 15ms/step - loss: 0.0281 - mean_absolute_error: 0.0114 - mean_squared_error: 4.2096e-04 - val_loss: 0.0277 - val_mean_absolute_error: 0.0113 - val_mean_squared_error: 3.9941e-04 - lr: 1.3107e-04\n",
      "Epoch 100/800\n",
      "45/46 [============================>.] - ETA: 0s - loss: 0.0274 - mean_absolute_error: 0.0114 - mean_squared_error: 4.2226e-04\n",
      "Epoch 00100: val_mean_squared_error did not improve from 0.00033\n",
      "46/46 [==============================] - 1s 15ms/step - loss: 0.0274 - mean_absolute_error: 0.0114 - mean_squared_error: 4.2253e-04 - val_loss: 0.0270 - val_mean_absolute_error: 0.0114 - val_mean_squared_error: 3.9880e-04 - lr: 1.3107e-04\n",
      "Epoch 101/800\n",
      "45/46 [============================>.] - ETA: 0s - loss: 0.0267 - mean_absolute_error: 0.0115 - mean_squared_error: 4.2365e-04\n",
      "Epoch 00101: val_mean_squared_error did not improve from 0.00033\n",
      "46/46 [==============================] - 1s 15ms/step - loss: 0.0267 - mean_absolute_error: 0.0115 - mean_squared_error: 4.2336e-04 - val_loss: 0.0263 - val_mean_absolute_error: 0.0114 - val_mean_squared_error: 4.0284e-04 - lr: 1.3107e-04\n",
      "Epoch 102/800\n",
      "45/46 [============================>.] - ETA: 0s - loss: 0.0260 - mean_absolute_error: 0.0115 - mean_squared_error: 4.2738e-04\n",
      "Epoch 00102: val_mean_squared_error did not improve from 0.00033\n",
      "46/46 [==============================] - 1s 15ms/step - loss: 0.0260 - mean_absolute_error: 0.0115 - mean_squared_error: 4.2594e-04 - val_loss: 0.0256 - val_mean_absolute_error: 0.0114 - val_mean_squared_error: 4.0264e-04 - lr: 1.3107e-04\n",
      "Epoch 103/800\n",
      "45/46 [============================>.] - ETA: 0s - loss: 0.0253 - mean_absolute_error: 0.0115 - mean_squared_error: 4.2735e-04\n",
      "Epoch 00103: val_mean_squared_error did not improve from 0.00033\n",
      "46/46 [==============================] - 1s 15ms/step - loss: 0.0253 - mean_absolute_error: 0.0115 - mean_squared_error: 4.2783e-04 - val_loss: 0.0249 - val_mean_absolute_error: 0.0115 - val_mean_squared_error: 4.1160e-04 - lr: 1.3107e-04\n",
      "Epoch 104/800\n"
     ]
    },
    {
     "name": "stdout",
     "output_type": "stream",
     "text": [
      "45/46 [============================>.] - ETA: 0s - loss: 0.0246 - mean_absolute_error: 0.0116 - mean_squared_error: 4.2941e-04\n",
      "Epoch 00104: val_mean_squared_error did not improve from 0.00033\n",
      "46/46 [==============================] - 1s 15ms/step - loss: 0.0246 - mean_absolute_error: 0.0116 - mean_squared_error: 4.3091e-04 - val_loss: 0.0242 - val_mean_absolute_error: 0.0115 - val_mean_squared_error: 4.0681e-04 - lr: 1.3107e-04\n",
      "Epoch 105/800\n",
      "45/46 [============================>.] - ETA: 0s - loss: 0.0239 - mean_absolute_error: 0.0116 - mean_squared_error: 4.3007e-04\n",
      "Epoch 00105: ReduceLROnPlateau reducing learning rate to 0.00010485759703442455.\n",
      "\n",
      "Epoch 00105: val_mean_squared_error did not improve from 0.00033\n",
      "46/46 [==============================] - 1s 15ms/step - loss: 0.0239 - mean_absolute_error: 0.0116 - mean_squared_error: 4.3257e-04 - val_loss: 0.0236 - val_mean_absolute_error: 0.0116 - val_mean_squared_error: 4.1064e-04 - lr: 1.3107e-04\n",
      "Epoch 106/800\n",
      "45/46 [============================>.] - ETA: 0s - loss: 0.0233 - mean_absolute_error: 0.0116 - mean_squared_error: 4.3548e-04\n",
      "Epoch 00106: val_mean_squared_error did not improve from 0.00033\n",
      "46/46 [==============================] - 1s 15ms/step - loss: 0.0233 - mean_absolute_error: 0.0116 - mean_squared_error: 4.3345e-04 - val_loss: 0.0230 - val_mean_absolute_error: 0.0116 - val_mean_squared_error: 4.1223e-04 - lr: 1.0486e-04\n",
      "Epoch 107/800\n",
      "45/46 [============================>.] - ETA: 0s - loss: 0.0228 - mean_absolute_error: 0.0116 - mean_squared_error: 4.3296e-04\n",
      "Epoch 00107: val_mean_squared_error did not improve from 0.00033\n",
      "46/46 [==============================] - 1s 15ms/step - loss: 0.0228 - mean_absolute_error: 0.0117 - mean_squared_error: 4.3481e-04 - val_loss: 0.0225 - val_mean_absolute_error: 0.0116 - val_mean_squared_error: 4.1538e-04 - lr: 1.0486e-04\n",
      "Epoch 108/800\n",
      "45/46 [============================>.] - ETA: 0s - loss: 0.0223 - mean_absolute_error: 0.0117 - mean_squared_error: 4.3428e-04\n",
      "Epoch 00108: val_mean_squared_error did not improve from 0.00033\n",
      "46/46 [==============================] - 1s 15ms/step - loss: 0.0223 - mean_absolute_error: 0.0117 - mean_squared_error: 4.3545e-04 - val_loss: 0.0220 - val_mean_absolute_error: 0.0116 - val_mean_squared_error: 4.2434e-04 - lr: 1.0486e-04\n",
      "Epoch 109/800\n",
      "45/46 [============================>.] - ETA: 0s - loss: 0.0218 - mean_absolute_error: 0.0117 - mean_squared_error: 4.3746e-04\n",
      "Epoch 00109: val_mean_squared_error did not improve from 0.00033\n",
      "46/46 [==============================] - 1s 15ms/step - loss: 0.0218 - mean_absolute_error: 0.0117 - mean_squared_error: 4.3820e-04 - val_loss: 0.0215 - val_mean_absolute_error: 0.0115 - val_mean_squared_error: 4.1915e-04 - lr: 1.0486e-04\n",
      "Epoch 110/800\n",
      "45/46 [============================>.] - ETA: 0s - loss: 0.0213 - mean_absolute_error: 0.0118 - mean_squared_error: 4.4153e-04\n",
      "Epoch 00110: val_mean_squared_error did not improve from 0.00033\n",
      "46/46 [==============================] - 1s 15ms/step - loss: 0.0213 - mean_absolute_error: 0.0117 - mean_squared_error: 4.4111e-04 - val_loss: 0.0210 - val_mean_absolute_error: 0.0116 - val_mean_squared_error: 4.1799e-04 - lr: 1.0486e-04\n",
      "Epoch 111/800\n",
      "45/46 [============================>.] - ETA: 0s - loss: 0.0208 - mean_absolute_error: 0.0118 - mean_squared_error: 4.3994e-04\n",
      "Epoch 00111: val_mean_squared_error did not improve from 0.00033\n",
      "46/46 [==============================] - 1s 15ms/step - loss: 0.0208 - mean_absolute_error: 0.0118 - mean_squared_error: 4.4242e-04 - val_loss: 0.0205 - val_mean_absolute_error: 0.0117 - val_mean_squared_error: 4.1984e-04 - lr: 1.0486e-04\n",
      "Epoch 112/800\n",
      "45/46 [============================>.] - ETA: 0s - loss: 0.0203 - mean_absolute_error: 0.0118 - mean_squared_error: 4.4205e-04\n",
      "Epoch 00112: val_mean_squared_error did not improve from 0.00033\n",
      "46/46 [==============================] - 1s 15ms/step - loss: 0.0203 - mean_absolute_error: 0.0118 - mean_squared_error: 4.4268e-04 - val_loss: 0.0200 - val_mean_absolute_error: 0.0117 - val_mean_squared_error: 4.2052e-04 - lr: 1.0486e-04\n",
      "Epoch 113/800\n",
      "45/46 [============================>.] - ETA: 0s - loss: 0.0198 - mean_absolute_error: 0.0118 - mean_squared_error: 4.4633e-04\n",
      "Epoch 00113: val_mean_squared_error did not improve from 0.00033\n",
      "46/46 [==============================] - 1s 15ms/step - loss: 0.0198 - mean_absolute_error: 0.0118 - mean_squared_error: 4.4529e-04 - val_loss: 0.0196 - val_mean_absolute_error: 0.0117 - val_mean_squared_error: 4.2571e-04 - lr: 1.0486e-04\n",
      "Epoch 114/800\n",
      "44/46 [===========================>..] - ETA: 0s - loss: 0.0194 - mean_absolute_error: 0.0119 - mean_squared_error: 4.4906e-04\n",
      "Epoch 00114: val_mean_squared_error did not improve from 0.00033\n",
      "46/46 [==============================] - 1s 16ms/step - loss: 0.0194 - mean_absolute_error: 0.0119 - mean_squared_error: 4.4762e-04 - val_loss: 0.0191 - val_mean_absolute_error: 0.0118 - val_mean_squared_error: 4.3287e-04 - lr: 1.0486e-04\n",
      "Epoch 115/800\n",
      "45/46 [============================>.] - ETA: 0s - loss: 0.0189 - mean_absolute_error: 0.0119 - mean_squared_error: 4.4874e-04\n",
      "Epoch 00115: ReduceLROnPlateau reducing learning rate to 8.38860752992332e-05.\n",
      "\n",
      "Epoch 00115: val_mean_squared_error did not improve from 0.00033\n",
      "46/46 [==============================] - 1s 15ms/step - loss: 0.0189 - mean_absolute_error: 0.0119 - mean_squared_error: 4.4873e-04 - val_loss: 0.0186 - val_mean_absolute_error: 0.0118 - val_mean_squared_error: 4.2631e-04 - lr: 1.0486e-04\n",
      "Epoch 00115: early stopping\n",
      "dict_keys(['loss', 'mean_absolute_error', 'mean_squared_error', 'val_loss', 'val_mean_absolute_error', 'val_mean_squared_error', 'lr'])\n"
     ]
    }
   ],
   "source": [
    "# 从这里开始训练 \n",
    "# train_neuralnetwork.py\n",
    "# settings_' + recurrent + '.toml\n",
    "src.train_neuralnetwork.train_neuralnetwork(path_dict=path_dict,\n",
    "                                            params_dict=params_dict,\n",
    "                                            nn_mode=\"recurrent\")"
   ]
  },
  {
   "cell_type": "markdown",
   "id": "2fb862c2",
   "metadata": {},
   "source": [
    "### RUN MODEL"
   ]
  },
  {
   "cell_type": "code",
   "execution_count": 6,
   "id": "990e2b7b",
   "metadata": {},
   "outputs": [
    {
     "name": "stdout",
     "output_type": "stream",
     "text": [
      "0\n",
      "2\n"
     ]
    },
    {
     "name": "stderr",
     "output_type": "stream",
     "text": [
      "\r",
      "  0%|                                                                                                                            | 0/1495 [00:00<?, ?it/s]"
     ]
    },
    {
     "name": "stdout",
     "output_type": "stream",
     "text": [
      "1500\n",
      "1500\n"
     ]
    },
    {
     "name": "stderr",
     "output_type": "stream",
     "text": [
      "100%|█████████████████████████████████████████████████████████████████████████████████████████████████████████████████| 1495/1495 [00:16<00:00, 88.78it/s]\n"
     ]
    },
    {
     "name": "stdout",
     "output_type": "stream",
     "text": [
      "TRANSFORM RESULT WITH SCALER TO PHYSICAL QUANTITIES\n",
      "1\n",
      "2\n"
     ]
    },
    {
     "name": "stderr",
     "output_type": "stream",
     "text": [
      "\r",
      "  0%|                                                                                                                            | 0/1495 [00:00<?, ?it/s]"
     ]
    },
    {
     "name": "stdout",
     "output_type": "stream",
     "text": [
      "1500\n",
      "2750\n"
     ]
    },
    {
     "name": "stderr",
     "output_type": "stream",
     "text": [
      "100%|█████████████████████████████████████████████████████████████████████████████████████████████████████████████████| 1495/1495 [00:16<00:00, 89.63it/s]\n"
     ]
    },
    {
     "name": "stdout",
     "output_type": "stream",
     "text": [
      "TRANSFORM RESULT WITH SCALER TO PHYSICAL QUANTITIES\n",
      "2\n",
      "2\n"
     ]
    },
    {
     "name": "stderr",
     "output_type": "stream",
     "text": [
      "\r",
      "  0%|                                                                                                                            | 0/1495 [00:00<?, ?it/s]"
     ]
    },
    {
     "name": "stdout",
     "output_type": "stream",
     "text": [
      "1500\n",
      "4000\n"
     ]
    },
    {
     "name": "stderr",
     "output_type": "stream",
     "text": [
      "100%|█████████████████████████████████████████████████████████████████████████████████████████████████████████████████| 1495/1495 [00:16<00:00, 89.28it/s]\n"
     ]
    },
    {
     "name": "stdout",
     "output_type": "stream",
     "text": [
      "TRANSFORM RESULT WITH SCALER TO PHYSICAL QUANTITIES\n",
      "3\n",
      "2\n"
     ]
    },
    {
     "name": "stderr",
     "output_type": "stream",
     "text": [
      "\r",
      "  0%|                                                                                                                            | 0/1495 [00:00<?, ?it/s]"
     ]
    },
    {
     "name": "stdout",
     "output_type": "stream",
     "text": [
      "1500\n",
      "5250\n"
     ]
    },
    {
     "name": "stderr",
     "output_type": "stream",
     "text": [
      "100%|█████████████████████████████████████████████████████████████████████████████████████████████████████████████████| 1495/1495 [00:16<00:00, 89.31it/s]\n"
     ]
    },
    {
     "name": "stdout",
     "output_type": "stream",
     "text": [
      "TRANSFORM RESULT WITH SCALER TO PHYSICAL QUANTITIES\n",
      "4\n",
      "2\n"
     ]
    },
    {
     "name": "stderr",
     "output_type": "stream",
     "text": [
      "\r",
      "  0%|                                                                                                                            | 0/1495 [00:00<?, ?it/s]"
     ]
    },
    {
     "name": "stdout",
     "output_type": "stream",
     "text": [
      "1500\n",
      "6500\n"
     ]
    },
    {
     "name": "stderr",
     "output_type": "stream",
     "text": [
      "100%|█████████████████████████████████████████████████████████████████████████████████████████████████████████████████| 1495/1495 [00:16<00:00, 90.41it/s]\n"
     ]
    },
    {
     "name": "stdout",
     "output_type": "stream",
     "text": [
      "TRANSFORM RESULT WITH SCALER TO PHYSICAL QUANTITIES\n",
      "5\n",
      "2\n"
     ]
    },
    {
     "name": "stderr",
     "output_type": "stream",
     "text": [
      "\r",
      "  0%|                                                                                                                            | 0/1495 [00:00<?, ?it/s]"
     ]
    },
    {
     "name": "stdout",
     "output_type": "stream",
     "text": [
      "1500\n",
      "7750\n"
     ]
    },
    {
     "name": "stderr",
     "output_type": "stream",
     "text": [
      "100%|█████████████████████████████████████████████████████████████████████████████████████████████████████████████████| 1495/1495 [00:16<00:00, 89.02it/s]\n"
     ]
    },
    {
     "name": "stdout",
     "output_type": "stream",
     "text": [
      "TRANSFORM RESULT WITH SCALER TO PHYSICAL QUANTITIES\n",
      "6\n",
      "2\n"
     ]
    },
    {
     "name": "stderr",
     "output_type": "stream",
     "text": [
      "\r",
      "  0%|                                                                                                                            | 0/1495 [00:00<?, ?it/s]"
     ]
    },
    {
     "name": "stdout",
     "output_type": "stream",
     "text": [
      "1500\n",
      "9000\n"
     ]
    },
    {
     "name": "stderr",
     "output_type": "stream",
     "text": [
      "100%|█████████████████████████████████████████████████████████████████████████████████████████████████████████████████| 1495/1495 [00:16<00:00, 88.55it/s]\n"
     ]
    },
    {
     "name": "stdout",
     "output_type": "stream",
     "text": [
      "TRANSFORM RESULT WITH SCALER TO PHYSICAL QUANTITIES\n",
      "7\n",
      "2\n"
     ]
    },
    {
     "name": "stderr",
     "output_type": "stream",
     "text": [
      "\r",
      "  0%|                                                                                                                            | 0/1495 [00:00<?, ?it/s]"
     ]
    },
    {
     "name": "stdout",
     "output_type": "stream",
     "text": [
      "1500\n",
      "10250\n"
     ]
    },
    {
     "name": "stderr",
     "output_type": "stream",
     "text": [
      "100%|█████████████████████████████████████████████████████████████████████████████████████████████████████████████████| 1495/1495 [00:16<00:00, 88.20it/s]\n"
     ]
    },
    {
     "name": "stdout",
     "output_type": "stream",
     "text": [
      "TRANSFORM RESULT WITH SCALER TO PHYSICAL QUANTITIES\n",
      "8\n",
      "2\n"
     ]
    },
    {
     "name": "stderr",
     "output_type": "stream",
     "text": [
      "\r",
      "  0%|                                                                                                                            | 0/1495 [00:00<?, ?it/s]"
     ]
    },
    {
     "name": "stdout",
     "output_type": "stream",
     "text": [
      "1500\n",
      "11500\n"
     ]
    },
    {
     "name": "stderr",
     "output_type": "stream",
     "text": [
      "100%|█████████████████████████████████████████████████████████████████████████████████████████████████████████████████| 1495/1495 [00:17<00:00, 87.45it/s]\n"
     ]
    },
    {
     "name": "stdout",
     "output_type": "stream",
     "text": [
      "TRANSFORM RESULT WITH SCALER TO PHYSICAL QUANTITIES\n",
      "9\n",
      "2\n"
     ]
    },
    {
     "name": "stderr",
     "output_type": "stream",
     "text": [
      "\r",
      "  0%|                                                                                                                            | 0/1495 [00:00<?, ?it/s]"
     ]
    },
    {
     "name": "stdout",
     "output_type": "stream",
     "text": [
      "1500\n",
      "12750\n"
     ]
    },
    {
     "name": "stderr",
     "output_type": "stream",
     "text": [
      "100%|█████████████████████████████████████████████████████████████████████████████████████████████████████████████████| 1495/1495 [00:18<00:00, 80.33it/s]\n"
     ]
    },
    {
     "name": "stdout",
     "output_type": "stream",
     "text": [
      "TRANSFORM RESULT WITH SCALER TO PHYSICAL QUANTITIES\n",
      "10\n",
      "2\n"
     ]
    },
    {
     "name": "stderr",
     "output_type": "stream",
     "text": [
      "\r",
      "  0%|                                                                                                                            | 0/1495 [00:00<?, ?it/s]"
     ]
    },
    {
     "name": "stdout",
     "output_type": "stream",
     "text": [
      "1500\n",
      "14000\n"
     ]
    },
    {
     "name": "stderr",
     "output_type": "stream",
     "text": [
      "100%|█████████████████████████████████████████████████████████████████████████████████████████████████████████████████| 1495/1495 [00:18<00:00, 78.83it/s]\n"
     ]
    },
    {
     "name": "stdout",
     "output_type": "stream",
     "text": [
      "TRANSFORM RESULT WITH SCALER TO PHYSICAL QUANTITIES\n",
      "11\n",
      "2\n"
     ]
    },
    {
     "name": "stderr",
     "output_type": "stream",
     "text": [
      "\r",
      "  0%|                                                                                                                            | 0/1495 [00:00<?, ?it/s]"
     ]
    },
    {
     "name": "stdout",
     "output_type": "stream",
     "text": [
      "1500\n",
      "15250\n"
     ]
    },
    {
     "name": "stderr",
     "output_type": "stream",
     "text": [
      "100%|█████████████████████████████████████████████████████████████████████████████████████████████████████████████████| 1495/1495 [00:17<00:00, 85.41it/s]\n"
     ]
    },
    {
     "name": "stdout",
     "output_type": "stream",
     "text": [
      "TRANSFORM RESULT WITH SCALER TO PHYSICAL QUANTITIES\n",
      "12\n",
      "2\n"
     ]
    },
    {
     "name": "stderr",
     "output_type": "stream",
     "text": [
      "\r",
      "  0%|                                                                                                                            | 0/1495 [00:00<?, ?it/s]"
     ]
    },
    {
     "name": "stdout",
     "output_type": "stream",
     "text": [
      "1500\n",
      "16500\n"
     ]
    },
    {
     "name": "stderr",
     "output_type": "stream",
     "text": [
      "100%|█████████████████████████████████████████████████████████████████████████████████████████████████████████████████| 1495/1495 [00:17<00:00, 86.33it/s]\n"
     ]
    },
    {
     "name": "stdout",
     "output_type": "stream",
     "text": [
      "TRANSFORM RESULT WITH SCALER TO PHYSICAL QUANTITIES\n",
      "13\n",
      "2\n"
     ]
    },
    {
     "name": "stderr",
     "output_type": "stream",
     "text": [
      "\r",
      "  0%|                                                                                                                            | 0/1495 [00:00<?, ?it/s]"
     ]
    },
    {
     "name": "stdout",
     "output_type": "stream",
     "text": [
      "1500\n",
      "17750\n"
     ]
    },
    {
     "name": "stderr",
     "output_type": "stream",
     "text": [
      "100%|█████████████████████████████████████████████████████████████████████████████████████████████████████████████████| 1495/1495 [00:17<00:00, 84.77it/s]\n"
     ]
    },
    {
     "name": "stdout",
     "output_type": "stream",
     "text": [
      "TRANSFORM RESULT WITH SCALER TO PHYSICAL QUANTITIES\n",
      "14\n",
      "2\n"
     ]
    },
    {
     "name": "stderr",
     "output_type": "stream",
     "text": [
      "\r",
      "  0%|                                                                                                                            | 0/1495 [00:00<?, ?it/s]"
     ]
    },
    {
     "name": "stdout",
     "output_type": "stream",
     "text": [
      "1500\n",
      "19000\n"
     ]
    },
    {
     "name": "stderr",
     "output_type": "stream",
     "text": [
      "100%|█████████████████████████████████████████████████████████████████████████████████████████████████████████████████| 1495/1495 [00:18<00:00, 82.82it/s]\n"
     ]
    },
    {
     "name": "stdout",
     "output_type": "stream",
     "text": [
      "TRANSFORM RESULT WITH SCALER TO PHYSICAL QUANTITIES\n",
      "15\n",
      "2\n",
      "1500\n",
      "20250\n"
     ]
    },
    {
     "name": "stderr",
     "output_type": "stream",
     "text": [
      "100%|█████████████████████████████████████████████████████████████████████████████████████████████████████████████████| 1495/1495 [00:18<00:00, 82.92it/s]\n"
     ]
    },
    {
     "name": "stdout",
     "output_type": "stream",
     "text": [
      "TRANSFORM RESULT WITH SCALER TO PHYSICAL QUANTITIES\n",
      "16\n",
      "2\n"
     ]
    },
    {
     "name": "stderr",
     "output_type": "stream",
     "text": [
      "\r",
      "  0%|                                                                                                                            | 0/1495 [00:00<?, ?it/s]"
     ]
    },
    {
     "name": "stdout",
     "output_type": "stream",
     "text": [
      "1500\n",
      "21500\n"
     ]
    },
    {
     "name": "stderr",
     "output_type": "stream",
     "text": [
      "100%|█████████████████████████████████████████████████████████████████████████████████████████████████████████████████| 1495/1495 [00:16<00:00, 88.55it/s]\n"
     ]
    },
    {
     "name": "stdout",
     "output_type": "stream",
     "text": [
      "TRANSFORM RESULT WITH SCALER TO PHYSICAL QUANTITIES\n",
      "17\n",
      "2\n"
     ]
    },
    {
     "name": "stderr",
     "output_type": "stream",
     "text": [
      "\r",
      "  0%|                                                                                                                            | 0/1495 [00:00<?, ?it/s]"
     ]
    },
    {
     "name": "stdout",
     "output_type": "stream",
     "text": [
      "1500\n",
      "22750\n"
     ]
    },
    {
     "name": "stderr",
     "output_type": "stream",
     "text": [
      "100%|█████████████████████████████████████████████████████████████████████████████████████████████████████████████████| 1495/1495 [00:16<00:00, 88.61it/s]\n"
     ]
    },
    {
     "name": "stdout",
     "output_type": "stream",
     "text": [
      "TRANSFORM RESULT WITH SCALER TO PHYSICAL QUANTITIES\n",
      "18\n",
      "2\n"
     ]
    },
    {
     "name": "stderr",
     "output_type": "stream",
     "text": [
      "\r",
      "  0%|                                                                                                                            | 0/1495 [00:00<?, ?it/s]"
     ]
    },
    {
     "name": "stdout",
     "output_type": "stream",
     "text": [
      "1500\n",
      "24000\n"
     ]
    },
    {
     "name": "stderr",
     "output_type": "stream",
     "text": [
      "100%|█████████████████████████████████████████████████████████████████████████████████████████████████████████████████| 1495/1495 [00:16<00:00, 89.08it/s]\n"
     ]
    },
    {
     "name": "stdout",
     "output_type": "stream",
     "text": [
      "TRANSFORM RESULT WITH SCALER TO PHYSICAL QUANTITIES\n",
      "19\n",
      "2\n"
     ]
    },
    {
     "name": "stderr",
     "output_type": "stream",
     "text": [
      "\r",
      "  0%|                                                                                                                            | 0/1495 [00:00<?, ?it/s]"
     ]
    },
    {
     "name": "stdout",
     "output_type": "stream",
     "text": [
      "1500\n",
      "25250\n"
     ]
    },
    {
     "name": "stderr",
     "output_type": "stream",
     "text": [
      "100%|█████████████████████████████████████████████████████████████████████████████████████████████████████████████████| 1495/1495 [00:16<00:00, 88.49it/s]\n"
     ]
    },
    {
     "name": "stdout",
     "output_type": "stream",
     "text": [
      "TRANSFORM RESULT WITH SCALER TO PHYSICAL QUANTITIES\n",
      "20\n",
      "2\n"
     ]
    },
    {
     "name": "stderr",
     "output_type": "stream",
     "text": [
      "\r",
      "  0%|                                                                                                                            | 0/1495 [00:00<?, ?it/s]"
     ]
    },
    {
     "name": "stdout",
     "output_type": "stream",
     "text": [
      "1500\n",
      "26500\n"
     ]
    },
    {
     "name": "stderr",
     "output_type": "stream",
     "text": [
      "100%|█████████████████████████████████████████████████████████████████████████████████████████████████████████████████| 1495/1495 [00:16<00:00, 89.05it/s]\n"
     ]
    },
    {
     "name": "stdout",
     "output_type": "stream",
     "text": [
      "TRANSFORM RESULT WITH SCALER TO PHYSICAL QUANTITIES\n",
      "21\n",
      "2\n"
     ]
    },
    {
     "name": "stderr",
     "output_type": "stream",
     "text": [
      "\r",
      "  0%|                                                                                                                            | 0/1495 [00:00<?, ?it/s]"
     ]
    },
    {
     "name": "stdout",
     "output_type": "stream",
     "text": [
      "1500\n",
      "27750\n"
     ]
    },
    {
     "name": "stderr",
     "output_type": "stream",
     "text": [
      "100%|█████████████████████████████████████████████████████████████████████████████████████████████████████████████████| 1495/1495 [00:16<00:00, 89.37it/s]\n"
     ]
    },
    {
     "name": "stdout",
     "output_type": "stream",
     "text": [
      "TRANSFORM RESULT WITH SCALER TO PHYSICAL QUANTITIES\n",
      "22\n",
      "2\n"
     ]
    },
    {
     "name": "stderr",
     "output_type": "stream",
     "text": [
      "\r",
      "  0%|                                                                                                                            | 0/1495 [00:00<?, ?it/s]"
     ]
    },
    {
     "name": "stdout",
     "output_type": "stream",
     "text": [
      "1500\n",
      "29000\n"
     ]
    },
    {
     "name": "stderr",
     "output_type": "stream",
     "text": [
      "100%|█████████████████████████████████████████████████████████████████████████████████████████████████████████████████| 1495/1495 [00:16<00:00, 89.08it/s]\n"
     ]
    },
    {
     "name": "stdout",
     "output_type": "stream",
     "text": [
      "TRANSFORM RESULT WITH SCALER TO PHYSICAL QUANTITIES\n",
      "23\n",
      "2\n",
      "1500\n",
      "30250\n"
     ]
    },
    {
     "name": "stderr",
     "output_type": "stream",
     "text": [
      "100%|█████████████████████████████████████████████████████████████████████████████████████████████████████████████████| 1495/1495 [00:16<00:00, 90.02it/s]\n"
     ]
    },
    {
     "name": "stdout",
     "output_type": "stream",
     "text": [
      "TRANSFORM RESULT WITH SCALER TO PHYSICAL QUANTITIES\n",
      "24\n",
      "2\n"
     ]
    },
    {
     "name": "stderr",
     "output_type": "stream",
     "text": [
      "\r",
      "  0%|                                                                                                                            | 0/1495 [00:00<?, ?it/s]"
     ]
    },
    {
     "name": "stdout",
     "output_type": "stream",
     "text": [
      "1500\n",
      "31500\n"
     ]
    },
    {
     "name": "stderr",
     "output_type": "stream",
     "text": [
      "100%|█████████████████████████████████████████████████████████████████████████████████████████████████████████████████| 1495/1495 [00:17<00:00, 87.45it/s]\n"
     ]
    },
    {
     "name": "stdout",
     "output_type": "stream",
     "text": [
      "TRANSFORM RESULT WITH SCALER TO PHYSICAL QUANTITIES\n",
      "25\n",
      "2\n"
     ]
    },
    {
     "name": "stderr",
     "output_type": "stream",
     "text": [
      "\r",
      "  0%|                                                                                                                            | 0/1495 [00:00<?, ?it/s]"
     ]
    },
    {
     "name": "stdout",
     "output_type": "stream",
     "text": [
      "1500\n",
      "32750\n"
     ]
    },
    {
     "name": "stderr",
     "output_type": "stream",
     "text": [
      "100%|█████████████████████████████████████████████████████████████████████████████████████████████████████████████████| 1495/1495 [00:17<00:00, 87.26it/s]\n"
     ]
    },
    {
     "name": "stdout",
     "output_type": "stream",
     "text": [
      "TRANSFORM RESULT WITH SCALER TO PHYSICAL QUANTITIES\n",
      "26\n",
      "2\n"
     ]
    },
    {
     "name": "stderr",
     "output_type": "stream",
     "text": [
      "\r",
      "  0%|                                                                                                                            | 0/1495 [00:00<?, ?it/s]"
     ]
    },
    {
     "name": "stdout",
     "output_type": "stream",
     "text": [
      "1500\n",
      "34000\n"
     ]
    },
    {
     "name": "stderr",
     "output_type": "stream",
     "text": [
      "100%|█████████████████████████████████████████████████████████████████████████████████████████████████████████████████| 1495/1495 [00:17<00:00, 87.49it/s]\n"
     ]
    },
    {
     "name": "stdout",
     "output_type": "stream",
     "text": [
      "TRANSFORM RESULT WITH SCALER TO PHYSICAL QUANTITIES\n",
      "27\n",
      "2\n"
     ]
    },
    {
     "name": "stderr",
     "output_type": "stream",
     "text": [
      "\r",
      "  0%|                                                                                                                            | 0/1495 [00:00<?, ?it/s]"
     ]
    },
    {
     "name": "stdout",
     "output_type": "stream",
     "text": [
      "1500\n",
      "35250\n"
     ]
    },
    {
     "name": "stderr",
     "output_type": "stream",
     "text": [
      "100%|█████████████████████████████████████████████████████████████████████████████████████████████████████████████████| 1495/1495 [00:16<00:00, 88.53it/s]\n"
     ]
    },
    {
     "name": "stdout",
     "output_type": "stream",
     "text": [
      "TRANSFORM RESULT WITH SCALER TO PHYSICAL QUANTITIES\n",
      "28\n",
      "2\n"
     ]
    },
    {
     "name": "stderr",
     "output_type": "stream",
     "text": [
      "\r",
      "  0%|                                                                                                                            | 0/1495 [00:00<?, ?it/s]"
     ]
    },
    {
     "name": "stdout",
     "output_type": "stream",
     "text": [
      "1500\n",
      "36500\n"
     ]
    },
    {
     "name": "stderr",
     "output_type": "stream",
     "text": [
      "100%|█████████████████████████████████████████████████████████████████████████████████████████████████████████████████| 1495/1495 [00:16<00:00, 88.57it/s]\n"
     ]
    },
    {
     "name": "stdout",
     "output_type": "stream",
     "text": [
      "TRANSFORM RESULT WITH SCALER TO PHYSICAL QUANTITIES\n",
      "29\n",
      "2\n"
     ]
    },
    {
     "name": "stderr",
     "output_type": "stream",
     "text": [
      "\r",
      "  0%|                                                                                                                            | 0/1495 [00:00<?, ?it/s]"
     ]
    },
    {
     "name": "stdout",
     "output_type": "stream",
     "text": [
      "1500\n",
      "37750\n"
     ]
    },
    {
     "name": "stderr",
     "output_type": "stream",
     "text": [
      "100%|█████████████████████████████████████████████████████████████████████████████████████████████████████████████████| 1495/1495 [00:16<00:00, 88.16it/s]\n"
     ]
    },
    {
     "name": "stdout",
     "output_type": "stream",
     "text": [
      "TRANSFORM RESULT WITH SCALER TO PHYSICAL QUANTITIES\n",
      "30\n",
      "2\n"
     ]
    },
    {
     "name": "stderr",
     "output_type": "stream",
     "text": [
      "\r",
      "  0%|                                                                                                                            | 0/1495 [00:00<?, ?it/s]"
     ]
    },
    {
     "name": "stdout",
     "output_type": "stream",
     "text": [
      "1500\n",
      "39000\n"
     ]
    },
    {
     "name": "stderr",
     "output_type": "stream",
     "text": [
      "100%|█████████████████████████████████████████████████████████████████████████████████████████████████████████████████| 1495/1495 [00:17<00:00, 87.39it/s]\n"
     ]
    },
    {
     "name": "stdout",
     "output_type": "stream",
     "text": [
      "TRANSFORM RESULT WITH SCALER TO PHYSICAL QUANTITIES\n",
      "31\n",
      "2\n"
     ]
    },
    {
     "name": "stderr",
     "output_type": "stream",
     "text": [
      "\r",
      "  0%|                                                                                                                            | 0/1495 [00:00<?, ?it/s]"
     ]
    },
    {
     "name": "stdout",
     "output_type": "stream",
     "text": [
      "1500\n",
      "40250\n"
     ]
    },
    {
     "name": "stderr",
     "output_type": "stream",
     "text": [
      "100%|█████████████████████████████████████████████████████████████████████████████████████████████████████████████████| 1495/1495 [00:17<00:00, 87.38it/s]\n"
     ]
    },
    {
     "name": "stdout",
     "output_type": "stream",
     "text": [
      "TRANSFORM RESULT WITH SCALER TO PHYSICAL QUANTITIES\n",
      "32\n",
      "2\n"
     ]
    },
    {
     "name": "stderr",
     "output_type": "stream",
     "text": [
      "\r",
      "  0%|                                                                                                                            | 0/1495 [00:00<?, ?it/s]"
     ]
    },
    {
     "name": "stdout",
     "output_type": "stream",
     "text": [
      "1500\n",
      "41500\n"
     ]
    },
    {
     "name": "stderr",
     "output_type": "stream",
     "text": [
      "100%|█████████████████████████████████████████████████████████████████████████████████████████████████████████████████| 1495/1495 [00:16<00:00, 89.36it/s]\n"
     ]
    },
    {
     "name": "stdout",
     "output_type": "stream",
     "text": [
      "TRANSFORM RESULT WITH SCALER TO PHYSICAL QUANTITIES\n",
      "33\n",
      "2\n"
     ]
    },
    {
     "name": "stderr",
     "output_type": "stream",
     "text": [
      "\r",
      "  0%|                                                                                                                            | 0/1495 [00:00<?, ?it/s]"
     ]
    },
    {
     "name": "stdout",
     "output_type": "stream",
     "text": [
      "1500\n",
      "42750\n"
     ]
    },
    {
     "name": "stderr",
     "output_type": "stream",
     "text": [
      "100%|█████████████████████████████████████████████████████████████████████████████████████████████████████████████████| 1495/1495 [00:17<00:00, 87.60it/s]\n"
     ]
    },
    {
     "name": "stdout",
     "output_type": "stream",
     "text": [
      "TRANSFORM RESULT WITH SCALER TO PHYSICAL QUANTITIES\n",
      "34\n",
      "2\n"
     ]
    },
    {
     "name": "stderr",
     "output_type": "stream",
     "text": [
      "\r",
      "  0%|                                                                                                                            | 0/1495 [00:00<?, ?it/s]"
     ]
    },
    {
     "name": "stdout",
     "output_type": "stream",
     "text": [
      "1500\n",
      "44000\n"
     ]
    },
    {
     "name": "stderr",
     "output_type": "stream",
     "text": [
      "100%|█████████████████████████████████████████████████████████████████████████████████████████████████████████████████| 1495/1495 [00:18<00:00, 79.76it/s]\n"
     ]
    },
    {
     "name": "stdout",
     "output_type": "stream",
     "text": [
      "TRANSFORM RESULT WITH SCALER TO PHYSICAL QUANTITIES\n",
      "35\n",
      "2\n"
     ]
    },
    {
     "name": "stderr",
     "output_type": "stream",
     "text": [
      "\r",
      "  0%|                                                                                                                            | 0/1495 [00:00<?, ?it/s]"
     ]
    },
    {
     "name": "stdout",
     "output_type": "stream",
     "text": [
      "1500\n",
      "45250\n"
     ]
    },
    {
     "name": "stderr",
     "output_type": "stream",
     "text": [
      "100%|█████████████████████████████████████████████████████████████████████████████████████████████████████████████████| 1495/1495 [00:17<00:00, 87.84it/s]\n"
     ]
    },
    {
     "name": "stdout",
     "output_type": "stream",
     "text": [
      "TRANSFORM RESULT WITH SCALER TO PHYSICAL QUANTITIES\n",
      "36\n",
      "2\n"
     ]
    },
    {
     "name": "stderr",
     "output_type": "stream",
     "text": [
      "\r",
      "  0%|                                                                                                                            | 0/1495 [00:00<?, ?it/s]"
     ]
    },
    {
     "name": "stdout",
     "output_type": "stream",
     "text": [
      "1500\n",
      "46500\n"
     ]
    },
    {
     "name": "stderr",
     "output_type": "stream",
     "text": [
      "100%|█████████████████████████████████████████████████████████████████████████████████████████████████████████████████| 1495/1495 [00:17<00:00, 86.91it/s]"
     ]
    },
    {
     "name": "stdout",
     "output_type": "stream",
     "text": [
      "TRANSFORM RESULT WITH SCALER TO PHYSICAL QUANTITIES\n"
     ]
    },
    {
     "name": "stderr",
     "output_type": "stream",
     "text": [
      "\n"
     ]
    }
   ],
   "source": [
    " for i_count in range(0, params_dict['Test']['n_test']):\n",
    "    print(i_count)\n",
    "\n",
    "    idx_start = params_dict['Test']['run_timestart'] + i_count * params_dict['Test']['iteration_step']\n",
    "\n",
    "    print(params_dict['NeuralNetwork_Settings']['output_shape'])\n",
    "        \n",
    "    input_shape = params_dict['NeuralNetwork_Settings']['input_shape']\n",
    "    output_shape = params_dict['NeuralNetwork_Settings']['output_shape']\n",
    "    input_timesteps = params_dict['NeuralNetwork_Settings']['input_timesteps']\n",
    "    path2model = path_dict['filepath2results_trainedmodel_recurr']\n",
    "    \n",
    "    path2scaler = path_dict['filepath2scaler_save']\n",
    "    \n",
    "    nn_mode=\"recurrent\"\n",
    "\n",
    "    \n",
    "    with open(path_dict['filepath2inputs_testdata'] + '.csv', 'r') as fh:\n",
    "        data = np.loadtxt(fh, delimiter=',')\n",
    "    \n",
    "    # scale dataset the vanish effects of different input data quantities\n",
    "    data = src.prepare_data.scaler_run(path2scaler=path2scaler,\n",
    "                                       params_dict=params_dict,\n",
    "                                       dataset=data)\n",
    "    #print(data)\n",
    "    #print(data[0])\n",
    "    #print(data[0,3])\n",
    "    #print(idx_start)\n",
    "    print(params_dict['Test']['run_timespan'])\n",
    "    print(idx_start + params_dict['Test']['run_timespan'])\n",
    "    duration = params_dict['Test']['run_timespan']\n",
    "    \n",
    "    #print(data[idx_start + input_timesteps:idx_start + duration,2])\n",
    "    #print(data[idx_start + input_timesteps:idx_start + duration,3])\n",
    "\n",
    "    if not nn_mode == \"feedforward\" or not nn_mode == \"recurrent\":\n",
    "        ValueError('unknown \"neural network mode\"; must be either \"feedforard\" or \"recurrent\"')\n",
    "\n",
    "\n",
    "    # create_dataset_separation_run\n",
    "    initials = data[idx_start:idx_start + input_timesteps, :]\n",
    "\n",
    "\n",
    "    # nn_mode == \"recurrent\":\n",
    "    initials = np.reshape(initials, (1, input_timesteps, input_shape))\n",
    "\n",
    "    # get vehicle input data of test data file\n",
    "\n",
    "    acc               = data[idx_start + input_timesteps:idx_start + duration, output_shape]\n",
    "    steeringangle_rad = data[idx_start + input_timesteps:idx_start + duration, output_shape + 1]\n",
    "    \n",
    "    \n",
    "    \n",
    "    model = keras.models.load_model(path2model)\n",
    "    results = np.zeros((len(acc) + input_timesteps, input_shape))\n",
    "    \n",
    "    new_input = np.zeros((1, input_timesteps, input_shape))\n",
    "    results[0:input_timesteps, :] = initials[0, :, :]\n",
    "\n",
    "\n",
    "    for i_count in tqdm(range(0, len(acc))):\n",
    "\n",
    "        if i_count == 0:\n",
    "            data_convert = initials\n",
    "\n",
    "        else:\n",
    "            data_convert = new_input\n",
    "\n",
    "        result_process = model.predict(data_convert)\n",
    "        results[i_count + input_timesteps, 0:output_shape] = result_process\n",
    "\n",
    "        temp = np.zeros((1, input_timesteps, input_shape))\n",
    "        temp[0, 0:input_timesteps - 1, :] = data_convert[0, 1:input_timesteps, :]\n",
    "\n",
    "        temp[0, input_timesteps - 1, 0:output_shape] = result_process\n",
    "        temp[0, input_timesteps - 1, output_shape + 1] = steeringangle_rad[i_count]\n",
    "\n",
    "        new_input = temp\n",
    "\n",
    "    results[:, output_shape:input_shape] = data[idx_start:idx_start + len(steeringangle_rad) + input_timesteps,\n",
    "                                                output_shape:input_shape]\n",
    "\n",
    "    results = src.prepare_data.scaler_reverse(path2scaler=path2scaler,\n",
    "                                              params_dict=params_dict,\n",
    "                                              dataset=results)\n",
    "    np.savetxt(os.path.join(path_dict['path2results_matfiles'], 'prediction_result_' + nn_mode + str(i_count) + '.csv'),\n",
    "               results)"
   ]
  },
  {
   "cell_type": "code",
   "execution_count": 7,
   "id": "a9243f6b",
   "metadata": {},
   "outputs": [
    {
     "name": "stdout",
     "output_type": "stream",
     "text": [
      "\n",
      "\n",
      "MSE AND MAE OF UNSCALED VALUES: Test No. 1494\n",
      "                      yaw rate  long. vel. vx\n",
      "            MSE          2e-05       36.03816\n",
      "            MAE        0.00287         5.5551\n",
      "MSE AND MAE OF SCALED VALUES: Test No. 1494\n",
      "            MSE        0.01196        0.56569\n",
      "            MAE        0.07951        0.69598\n",
      "\n",
      "\n"
     ]
    }
   ],
   "source": [
    "    # save and plot results (if activated in parameter file)\n",
    "    visualization.plot_results.plot_run(path_dict=path_dict,\n",
    "                                        params_dict=params_dict,\n",
    "                                        counter=i_count,\n",
    "                                        start=idx_start)\n"
   ]
  },
  {
   "cell_type": "code",
   "execution_count": null,
   "id": "7d76e9b8",
   "metadata": {},
   "outputs": [],
   "source": []
  }
 ],
 "metadata": {
  "kernelspec": {
   "display_name": "Python 3 (ipykernel)",
   "language": "python",
   "name": "python3"
  },
  "language_info": {
   "codemirror_mode": {
    "name": "ipython",
    "version": 3
   },
   "file_extension": ".py",
   "mimetype": "text/x-python",
   "name": "python",
   "nbconvert_exporter": "python",
   "pygments_lexer": "ipython3",
   "version": "3.7.16"
  }
 },
 "nbformat": 4,
 "nbformat_minor": 5
}
